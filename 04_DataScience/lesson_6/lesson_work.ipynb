{
 "cells": [
  {
   "cell_type": "markdown",
   "id": "7928a15e",
   "metadata": {},
   "source": [
    "# Scikit-learn - скайкит лерн    ( Machine Learning )"
   ]
  },
  {
   "cell_type": "markdown",
   "id": "08058d00",
   "metadata": {},
   "source": [
    "включает:\n",
    "- большинство алгоритмов машинного обучения \n",
    "- срез для предворительной обработки данных \n",
    "- тестовые датасеты "
   ]
  },
  {
   "cell_type": "markdown",
   "id": "b8ca0353",
   "metadata": {},
   "source": [
    "### Обучение с учителем "
   ]
  },
  {
   "cell_type": "markdown",
   "id": "b53623a6",
   "metadata": {},
   "source": [
    "> с применением правильных данных для сравнения полученного результата обучения модели данных\n",
    "после этого мы сможем пострить модель данных способную предсказывать правильный ответ для тех данных для которых правильного ответа \n",
    "нет"
   ]
  },
  {
   "cell_type": "markdown",
   "id": "d56e17e5",
   "metadata": {},
   "source": [
    "# <span style=\"color:blue\">Линейная регрессия </span>"
   ]
  },
  {
   "cell_type": "markdown",
   "id": "9aafd7a5",
   "metadata": {},
   "source": [
    "> <span style=\"color:blue\">Предназначен для предсказывания непрерывной величины, к примеру цены на какой-либо товар, физической величины или иной подобной хар-ки</span>"
   ]
  },
  {
   "cell_type": "markdown",
   "id": "fdb0442d",
   "metadata": {},
   "source": [
    "> задачи предсказания подобной величины называется - регрессией"
   ]
  },
  {
   "cell_type": "code",
   "execution_count": 24,
   "id": "279da311",
   "metadata": {},
   "outputs": [],
   "source": [
    "import numpy as np\n",
    "import pandas as pd"
   ]
  },
  {
   "cell_type": "markdown",
   "id": "579194dd",
   "metadata": {},
   "source": [
    "##### Набор данных из библиотеки sklearn"
   ]
  },
  {
   "cell_type": "markdown",
   "id": "71fb7b87",
   "metadata": {},
   "source": [
    "> датасет содержаший цены на двежимость в Бостоне и различные признаки которые можно использовать для предсказания цены"
   ]
  },
  {
   "cell_type": "code",
   "execution_count": 25,
   "id": "7ed8519e",
   "metadata": {},
   "outputs": [],
   "source": [
    "from sklearn.datasets import load_boston"
   ]
  },
  {
   "cell_type": "code",
   "execution_count": 26,
   "id": "80e12e0d",
   "metadata": {},
   "outputs": [],
   "source": [
    "boston = load_boston()"
   ]
  },
  {
   "cell_type": "markdown",
   "id": "99fdb87a",
   "metadata": {},
   "source": [
    "##### Содержимое датасета ( признаки )"
   ]
  },
  {
   "cell_type": "code",
   "execution_count": 27,
   "id": "49331af1",
   "metadata": {},
   "outputs": [
    {
     "data": {
      "text/plain": [
       "dict_keys(['data', 'target', 'feature_names', 'DESCR', 'filename'])"
      ]
     },
     "execution_count": 27,
     "metadata": {},
     "output_type": "execute_result"
    }
   ],
   "source": [
    "boston.keys()"
   ]
  },
  {
   "cell_type": "code",
   "execution_count": 28,
   "id": "87b43657",
   "metadata": {},
   "outputs": [
    {
     "data": {
      "text/plain": [
       "sklearn.utils.Bunch"
      ]
     },
     "execution_count": 28,
     "metadata": {},
     "output_type": "execute_result"
    }
   ],
   "source": [
    "type(boston)"
   ]
  },
  {
   "cell_type": "code",
   "execution_count": 29,
   "id": "f5f8f84a",
   "metadata": {},
   "outputs": [
    {
     "name": "stdout",
     "output_type": "stream",
     "text": [
      ".. _boston_dataset:\n",
      "\n",
      "Boston house prices dataset\n",
      "---------------------------\n",
      "\n",
      "**Data Set Characteristics:**  \n",
      "\n",
      "    :Number of Instances: 506 \n",
      "\n",
      "    :Number of Attributes: 13 numeric/categorical predictive. Median Value (attribute 14) is usually the target.\n",
      "\n",
      "    :Attribute Information (in order):\n",
      "        - CRIM     per capita crime rate by town\n",
      "        - ZN       proportion of residential land zoned for lots over 25,000 sq.ft.\n",
      "        - INDUS    proportion of non-retail business acres per town\n",
      "        - CHAS     Charles River dummy variable (= 1 if tract bounds river; 0 otherwise)\n",
      "        - NOX      nitric oxides concentration (parts per 10 million)\n",
      "        - RM       average number of rooms per dwelling\n",
      "        - AGE      proportion of owner-occupied units built prior to 1940\n",
      "        - DIS      weighted distances to five Boston employment centres\n",
      "        - RAD      index of accessibility to radial highways\n",
      "        - TAX      full-value property-tax rate per $10,000\n",
      "        - PTRATIO  pupil-teacher ratio by town\n",
      "        - B        1000(Bk - 0.63)^2 where Bk is the proportion of blacks by town\n",
      "        - LSTAT    % lower status of the population\n",
      "        - MEDV     Median value of owner-occupied homes in $1000's\n",
      "\n",
      "    :Missing Attribute Values: None\n",
      "\n",
      "    :Creator: Harrison, D. and Rubinfeld, D.L.\n",
      "\n",
      "This is a copy of UCI ML housing dataset.\n",
      "https://archive.ics.uci.edu/ml/machine-learning-databases/housing/\n",
      "\n",
      "\n",
      "This dataset was taken from the StatLib library which is maintained at Carnegie Mellon University.\n",
      "\n",
      "The Boston house-price data of Harrison, D. and Rubinfeld, D.L. 'Hedonic\n",
      "prices and the demand for clean air', J. Environ. Economics & Management,\n",
      "vol.5, 81-102, 1978.   Used in Belsley, Kuh & Welsch, 'Regression diagnostics\n",
      "...', Wiley, 1980.   N.B. Various transformations are used in the table on\n",
      "pages 244-261 of the latter.\n",
      "\n",
      "The Boston house-price data has been used in many machine learning papers that address regression\n",
      "problems.   \n",
      "     \n",
      ".. topic:: References\n",
      "\n",
      "   - Belsley, Kuh & Welsch, 'Regression diagnostics: Identifying Influential Data and Sources of Collinearity', Wiley, 1980. 244-261.\n",
      "   - Quinlan,R. (1993). Combining Instance-Based and Model-Based Learning. In Proceedings on the Tenth International Conference of Machine Learning, 236-243, University of Massachusetts, Amherst. Morgan Kaufmann.\n",
      "\n"
     ]
    }
   ],
   "source": [
    "print(boston.DESCR)"
   ]
  },
  {
   "cell_type": "markdown",
   "id": "6d1b6170",
   "metadata": {},
   "source": [
    "##### Данные о недвижимости"
   ]
  },
  {
   "cell_type": "code",
   "execution_count": 30,
   "id": "c754cc4e",
   "metadata": {},
   "outputs": [
    {
     "data": {
      "text/plain": [
       "'/Users/vladislav/opt/anaconda3/lib/python3.8/site-packages/sklearn/datasets/data/boston_house_prices.csv'"
      ]
     },
     "execution_count": 30,
     "metadata": {},
     "output_type": "execute_result"
    }
   ],
   "source": [
    "fname = boston.filename\n",
    "fname"
   ]
  },
  {
   "cell_type": "code",
   "execution_count": 31,
   "id": "d4fd18cd",
   "metadata": {},
   "outputs": [
    {
     "data": {
      "text/plain": [
       "array(['CRIM', 'ZN', 'INDUS', 'CHAS', 'NOX', 'RM', 'AGE', 'DIS', 'RAD',\n",
       "       'TAX', 'PTRATIO', 'B', 'LSTAT'], dtype='<U7')"
      ]
     },
     "execution_count": 31,
     "metadata": {},
     "output_type": "execute_result"
    }
   ],
   "source": [
    "feature = boston.feature_names\n",
    "feature"
   ]
  },
  {
   "cell_type": "code",
   "execution_count": 32,
   "id": "50186a7f",
   "metadata": {},
   "outputs": [],
   "source": [
    "data = boston[\"data\"]"
   ]
  },
  {
   "cell_type": "code",
   "execution_count": 46,
   "id": "5edcaf0e",
   "metadata": {},
   "outputs": [
    {
     "data": {
      "text/plain": [
       "array([[6.3200e-03, 1.8000e+01, 2.3100e+00, ..., 1.5300e+01, 3.9690e+02,\n",
       "        4.9800e+00],\n",
       "       [2.7310e-02, 0.0000e+00, 7.0700e+00, ..., 1.7800e+01, 3.9690e+02,\n",
       "        9.1400e+00],\n",
       "       [2.7290e-02, 0.0000e+00, 7.0700e+00, ..., 1.7800e+01, 3.9283e+02,\n",
       "        4.0300e+00],\n",
       "       ...,\n",
       "       [6.0760e-02, 0.0000e+00, 1.1930e+01, ..., 2.1000e+01, 3.9690e+02,\n",
       "        5.6400e+00],\n",
       "       [1.0959e-01, 0.0000e+00, 1.1930e+01, ..., 2.1000e+01, 3.9345e+02,\n",
       "        6.4800e+00],\n",
       "       [4.7410e-02, 0.0000e+00, 1.1930e+01, ..., 2.1000e+01, 3.9690e+02,\n",
       "        7.8800e+00]])"
      ]
     },
     "execution_count": 46,
     "metadata": {},
     "output_type": "execute_result"
    }
   ],
   "source": [
    "data"
   ]
  },
  {
   "cell_type": "code",
   "execution_count": 34,
   "id": "7baf32e7",
   "metadata": {},
   "outputs": [
    {
     "data": {
      "text/plain": [
       "(506, 13)"
      ]
     },
     "execution_count": 34,
     "metadata": {},
     "output_type": "execute_result"
    }
   ],
   "source": [
    "data.shape"
   ]
  },
  {
   "cell_type": "code",
   "execution_count": 35,
   "id": "6a2faecf",
   "metadata": {},
   "outputs": [
    {
     "data": {
      "text/plain": [
       "6578"
      ]
     },
     "execution_count": 35,
     "metadata": {},
     "output_type": "execute_result"
    }
   ],
   "source": [
    "data.size"
   ]
  },
  {
   "cell_type": "markdown",
   "id": "e983e529",
   "metadata": {},
   "source": [
    "> <b>target</b> величина которую необходимо предсказать - это верное значение цены на объект недвижимости"
   ]
  },
  {
   "cell_type": "code",
   "execution_count": 36,
   "id": "bffbc973",
   "metadata": {},
   "outputs": [],
   "source": [
    "target = boston[\"target\"]"
   ]
  },
  {
   "cell_type": "markdown",
   "id": "d3b54d72",
   "metadata": {},
   "source": [
    "##### Названия признаков ( название колонок датафрейма )"
   ]
  },
  {
   "cell_type": "code",
   "execution_count": 51,
   "id": "11b55bc9",
   "metadata": {},
   "outputs": [],
   "source": [
    "boston_feature_names = boston.feature_names"
   ]
  },
  {
   "cell_type": "code",
   "execution_count": 52,
   "id": "4d990cd9",
   "metadata": {},
   "outputs": [
    {
     "data": {
      "text/plain": [
       "array(['CRIM', 'ZN', 'INDUS', 'CHAS', 'NOX', 'RM', 'AGE', 'DIS', 'RAD',\n",
       "       'TAX', 'PTRATIO', 'B', 'LSTAT'], dtype='<U7')"
      ]
     },
     "execution_count": 52,
     "metadata": {},
     "output_type": "execute_result"
    }
   ],
   "source": [
    "boston_feature_names"
   ]
  },
  {
   "cell_type": "code",
   "execution_count": 92,
   "id": "8d6b876f",
   "metadata": {},
   "outputs": [],
   "source": [
    "# Значения признаков объекта недвижимости\n",
    "boston_data = pd.DataFrame(data, columns=feature_names)"
   ]
  },
  {
   "cell_type": "code",
   "execution_count": 93,
   "id": "0a4cfd09",
   "metadata": {},
   "outputs": [
    {
     "data": {
      "text/html": [
       "<div>\n",
       "<style scoped>\n",
       "    .dataframe tbody tr th:only-of-type {\n",
       "        vertical-align: middle;\n",
       "    }\n",
       "\n",
       "    .dataframe tbody tr th {\n",
       "        vertical-align: top;\n",
       "    }\n",
       "\n",
       "    .dataframe thead th {\n",
       "        text-align: right;\n",
       "    }\n",
       "</style>\n",
       "<table border=\"1\" class=\"dataframe\">\n",
       "  <thead>\n",
       "    <tr style=\"text-align: right;\">\n",
       "      <th></th>\n",
       "      <th>CRIM</th>\n",
       "      <th>ZN</th>\n",
       "      <th>INDUS</th>\n",
       "      <th>CHAS</th>\n",
       "      <th>NOX</th>\n",
       "      <th>RM</th>\n",
       "      <th>AGE</th>\n",
       "      <th>DIS</th>\n",
       "      <th>RAD</th>\n",
       "      <th>TAX</th>\n",
       "      <th>PTRATIO</th>\n",
       "      <th>B</th>\n",
       "      <th>LSTAT</th>\n",
       "    </tr>\n",
       "  </thead>\n",
       "  <tbody>\n",
       "    <tr>\n",
       "      <th>0</th>\n",
       "      <td>0.00632</td>\n",
       "      <td>18.0</td>\n",
       "      <td>2.31</td>\n",
       "      <td>0.0</td>\n",
       "      <td>0.538</td>\n",
       "      <td>6.575</td>\n",
       "      <td>65.2</td>\n",
       "      <td>4.0900</td>\n",
       "      <td>1.0</td>\n",
       "      <td>296.0</td>\n",
       "      <td>15.3</td>\n",
       "      <td>396.90</td>\n",
       "      <td>4.98</td>\n",
       "    </tr>\n",
       "    <tr>\n",
       "      <th>1</th>\n",
       "      <td>0.02731</td>\n",
       "      <td>0.0</td>\n",
       "      <td>7.07</td>\n",
       "      <td>0.0</td>\n",
       "      <td>0.469</td>\n",
       "      <td>6.421</td>\n",
       "      <td>78.9</td>\n",
       "      <td>4.9671</td>\n",
       "      <td>2.0</td>\n",
       "      <td>242.0</td>\n",
       "      <td>17.8</td>\n",
       "      <td>396.90</td>\n",
       "      <td>9.14</td>\n",
       "    </tr>\n",
       "    <tr>\n",
       "      <th>2</th>\n",
       "      <td>0.02729</td>\n",
       "      <td>0.0</td>\n",
       "      <td>7.07</td>\n",
       "      <td>0.0</td>\n",
       "      <td>0.469</td>\n",
       "      <td>7.185</td>\n",
       "      <td>61.1</td>\n",
       "      <td>4.9671</td>\n",
       "      <td>2.0</td>\n",
       "      <td>242.0</td>\n",
       "      <td>17.8</td>\n",
       "      <td>392.83</td>\n",
       "      <td>4.03</td>\n",
       "    </tr>\n",
       "    <tr>\n",
       "      <th>3</th>\n",
       "      <td>0.03237</td>\n",
       "      <td>0.0</td>\n",
       "      <td>2.18</td>\n",
       "      <td>0.0</td>\n",
       "      <td>0.458</td>\n",
       "      <td>6.998</td>\n",
       "      <td>45.8</td>\n",
       "      <td>6.0622</td>\n",
       "      <td>3.0</td>\n",
       "      <td>222.0</td>\n",
       "      <td>18.7</td>\n",
       "      <td>394.63</td>\n",
       "      <td>2.94</td>\n",
       "    </tr>\n",
       "    <tr>\n",
       "      <th>4</th>\n",
       "      <td>0.06905</td>\n",
       "      <td>0.0</td>\n",
       "      <td>2.18</td>\n",
       "      <td>0.0</td>\n",
       "      <td>0.458</td>\n",
       "      <td>7.147</td>\n",
       "      <td>54.2</td>\n",
       "      <td>6.0622</td>\n",
       "      <td>3.0</td>\n",
       "      <td>222.0</td>\n",
       "      <td>18.7</td>\n",
       "      <td>396.90</td>\n",
       "      <td>5.33</td>\n",
       "    </tr>\n",
       "    <tr>\n",
       "      <th>...</th>\n",
       "      <td>...</td>\n",
       "      <td>...</td>\n",
       "      <td>...</td>\n",
       "      <td>...</td>\n",
       "      <td>...</td>\n",
       "      <td>...</td>\n",
       "      <td>...</td>\n",
       "      <td>...</td>\n",
       "      <td>...</td>\n",
       "      <td>...</td>\n",
       "      <td>...</td>\n",
       "      <td>...</td>\n",
       "      <td>...</td>\n",
       "    </tr>\n",
       "    <tr>\n",
       "      <th>501</th>\n",
       "      <td>0.06263</td>\n",
       "      <td>0.0</td>\n",
       "      <td>11.93</td>\n",
       "      <td>0.0</td>\n",
       "      <td>0.573</td>\n",
       "      <td>6.593</td>\n",
       "      <td>69.1</td>\n",
       "      <td>2.4786</td>\n",
       "      <td>1.0</td>\n",
       "      <td>273.0</td>\n",
       "      <td>21.0</td>\n",
       "      <td>391.99</td>\n",
       "      <td>9.67</td>\n",
       "    </tr>\n",
       "    <tr>\n",
       "      <th>502</th>\n",
       "      <td>0.04527</td>\n",
       "      <td>0.0</td>\n",
       "      <td>11.93</td>\n",
       "      <td>0.0</td>\n",
       "      <td>0.573</td>\n",
       "      <td>6.120</td>\n",
       "      <td>76.7</td>\n",
       "      <td>2.2875</td>\n",
       "      <td>1.0</td>\n",
       "      <td>273.0</td>\n",
       "      <td>21.0</td>\n",
       "      <td>396.90</td>\n",
       "      <td>9.08</td>\n",
       "    </tr>\n",
       "    <tr>\n",
       "      <th>503</th>\n",
       "      <td>0.06076</td>\n",
       "      <td>0.0</td>\n",
       "      <td>11.93</td>\n",
       "      <td>0.0</td>\n",
       "      <td>0.573</td>\n",
       "      <td>6.976</td>\n",
       "      <td>91.0</td>\n",
       "      <td>2.1675</td>\n",
       "      <td>1.0</td>\n",
       "      <td>273.0</td>\n",
       "      <td>21.0</td>\n",
       "      <td>396.90</td>\n",
       "      <td>5.64</td>\n",
       "    </tr>\n",
       "    <tr>\n",
       "      <th>504</th>\n",
       "      <td>0.10959</td>\n",
       "      <td>0.0</td>\n",
       "      <td>11.93</td>\n",
       "      <td>0.0</td>\n",
       "      <td>0.573</td>\n",
       "      <td>6.794</td>\n",
       "      <td>89.3</td>\n",
       "      <td>2.3889</td>\n",
       "      <td>1.0</td>\n",
       "      <td>273.0</td>\n",
       "      <td>21.0</td>\n",
       "      <td>393.45</td>\n",
       "      <td>6.48</td>\n",
       "    </tr>\n",
       "    <tr>\n",
       "      <th>505</th>\n",
       "      <td>0.04741</td>\n",
       "      <td>0.0</td>\n",
       "      <td>11.93</td>\n",
       "      <td>0.0</td>\n",
       "      <td>0.573</td>\n",
       "      <td>6.030</td>\n",
       "      <td>80.8</td>\n",
       "      <td>2.5050</td>\n",
       "      <td>1.0</td>\n",
       "      <td>273.0</td>\n",
       "      <td>21.0</td>\n",
       "      <td>396.90</td>\n",
       "      <td>7.88</td>\n",
       "    </tr>\n",
       "  </tbody>\n",
       "</table>\n",
       "<p>506 rows × 13 columns</p>\n",
       "</div>"
      ],
      "text/plain": [
       "        CRIM    ZN  INDUS  CHAS    NOX     RM   AGE     DIS  RAD    TAX  \\\n",
       "0    0.00632  18.0   2.31   0.0  0.538  6.575  65.2  4.0900  1.0  296.0   \n",
       "1    0.02731   0.0   7.07   0.0  0.469  6.421  78.9  4.9671  2.0  242.0   \n",
       "2    0.02729   0.0   7.07   0.0  0.469  7.185  61.1  4.9671  2.0  242.0   \n",
       "3    0.03237   0.0   2.18   0.0  0.458  6.998  45.8  6.0622  3.0  222.0   \n",
       "4    0.06905   0.0   2.18   0.0  0.458  7.147  54.2  6.0622  3.0  222.0   \n",
       "..       ...   ...    ...   ...    ...    ...   ...     ...  ...    ...   \n",
       "501  0.06263   0.0  11.93   0.0  0.573  6.593  69.1  2.4786  1.0  273.0   \n",
       "502  0.04527   0.0  11.93   0.0  0.573  6.120  76.7  2.2875  1.0  273.0   \n",
       "503  0.06076   0.0  11.93   0.0  0.573  6.976  91.0  2.1675  1.0  273.0   \n",
       "504  0.10959   0.0  11.93   0.0  0.573  6.794  89.3  2.3889  1.0  273.0   \n",
       "505  0.04741   0.0  11.93   0.0  0.573  6.030  80.8  2.5050  1.0  273.0   \n",
       "\n",
       "     PTRATIO       B  LSTAT  \n",
       "0       15.3  396.90   4.98  \n",
       "1       17.8  396.90   9.14  \n",
       "2       17.8  392.83   4.03  \n",
       "3       18.7  394.63   2.94  \n",
       "4       18.7  396.90   5.33  \n",
       "..       ...     ...    ...  \n",
       "501     21.0  391.99   9.67  \n",
       "502     21.0  396.90   9.08  \n",
       "503     21.0  396.90   5.64  \n",
       "504     21.0  393.45   6.48  \n",
       "505     21.0  396.90   7.88  \n",
       "\n",
       "[506 rows x 13 columns]"
      ]
     },
     "execution_count": 93,
     "metadata": {},
     "output_type": "execute_result"
    }
   ],
   "source": [
    "boston_data"
   ]
  },
  {
   "cell_type": "code",
   "execution_count": 94,
   "id": "3d47195f",
   "metadata": {},
   "outputs": [
    {
     "data": {
      "text/plain": [
       "(506, 13)"
      ]
     },
     "execution_count": 94,
     "metadata": {},
     "output_type": "execute_result"
    }
   ],
   "source": [
    "boston_data.shape"
   ]
  },
  {
   "cell_type": "code",
   "execution_count": 95,
   "id": "40468bd0",
   "metadata": {},
   "outputs": [
    {
     "name": "stdout",
     "output_type": "stream",
     "text": [
      "<class 'pandas.core.frame.DataFrame'>\n",
      "RangeIndex: 506 entries, 0 to 505\n",
      "Data columns (total 13 columns):\n",
      " #   Column   Non-Null Count  Dtype  \n",
      "---  ------   --------------  -----  \n",
      " 0   CRIM     506 non-null    float64\n",
      " 1   ZN       506 non-null    float64\n",
      " 2   INDUS    506 non-null    float64\n",
      " 3   CHAS     506 non-null    float64\n",
      " 4   NOX      506 non-null    float64\n",
      " 5   RM       506 non-null    float64\n",
      " 6   AGE      506 non-null    float64\n",
      " 7   DIS      506 non-null    float64\n",
      " 8   RAD      506 non-null    float64\n",
      " 9   TAX      506 non-null    float64\n",
      " 10  PTRATIO  506 non-null    float64\n",
      " 11  B        506 non-null    float64\n",
      " 12  LSTAT    506 non-null    float64\n",
      "dtypes: float64(13)\n",
      "memory usage: 51.5 KB\n"
     ]
    }
   ],
   "source": [
    "boston_data.info()"
   ]
  },
  {
   "cell_type": "markdown",
   "id": "b76ac341",
   "metadata": {},
   "source": [
    "Ни в одном признаке нет пропущенных значений"
   ]
  },
  {
   "cell_type": "code",
   "execution_count": 96,
   "id": "4d62cfb2",
   "metadata": {},
   "outputs": [],
   "source": [
    "# Целевая переменная с данными цены на недвижимость\n",
    "true_price = pd.DataFrame(target, columns=['price'])"
   ]
  },
  {
   "cell_type": "code",
   "execution_count": 97,
   "id": "f34c0baa",
   "metadata": {},
   "outputs": [
    {
     "data": {
      "text/html": [
       "<div>\n",
       "<style scoped>\n",
       "    .dataframe tbody tr th:only-of-type {\n",
       "        vertical-align: middle;\n",
       "    }\n",
       "\n",
       "    .dataframe tbody tr th {\n",
       "        vertical-align: top;\n",
       "    }\n",
       "\n",
       "    .dataframe thead th {\n",
       "        text-align: right;\n",
       "    }\n",
       "</style>\n",
       "<table border=\"1\" class=\"dataframe\">\n",
       "  <thead>\n",
       "    <tr style=\"text-align: right;\">\n",
       "      <th></th>\n",
       "      <th>price</th>\n",
       "    </tr>\n",
       "  </thead>\n",
       "  <tbody>\n",
       "    <tr>\n",
       "      <th>0</th>\n",
       "      <td>24.0</td>\n",
       "    </tr>\n",
       "    <tr>\n",
       "      <th>1</th>\n",
       "      <td>21.6</td>\n",
       "    </tr>\n",
       "    <tr>\n",
       "      <th>2</th>\n",
       "      <td>34.7</td>\n",
       "    </tr>\n",
       "    <tr>\n",
       "      <th>3</th>\n",
       "      <td>33.4</td>\n",
       "    </tr>\n",
       "    <tr>\n",
       "      <th>4</th>\n",
       "      <td>36.2</td>\n",
       "    </tr>\n",
       "    <tr>\n",
       "      <th>...</th>\n",
       "      <td>...</td>\n",
       "    </tr>\n",
       "    <tr>\n",
       "      <th>501</th>\n",
       "      <td>22.4</td>\n",
       "    </tr>\n",
       "    <tr>\n",
       "      <th>502</th>\n",
       "      <td>20.6</td>\n",
       "    </tr>\n",
       "    <tr>\n",
       "      <th>503</th>\n",
       "      <td>23.9</td>\n",
       "    </tr>\n",
       "    <tr>\n",
       "      <th>504</th>\n",
       "      <td>22.0</td>\n",
       "    </tr>\n",
       "    <tr>\n",
       "      <th>505</th>\n",
       "      <td>11.9</td>\n",
       "    </tr>\n",
       "  </tbody>\n",
       "</table>\n",
       "<p>506 rows × 1 columns</p>\n",
       "</div>"
      ],
      "text/plain": [
       "     price\n",
       "0     24.0\n",
       "1     21.6\n",
       "2     34.7\n",
       "3     33.4\n",
       "4     36.2\n",
       "..     ...\n",
       "501   22.4\n",
       "502   20.6\n",
       "503   23.9\n",
       "504   22.0\n",
       "505   11.9\n",
       "\n",
       "[506 rows x 1 columns]"
      ]
     },
     "execution_count": 97,
     "metadata": {},
     "output_type": "execute_result"
    }
   ],
   "source": [
    "true_price"
   ]
  },
  {
   "cell_type": "code",
   "execution_count": 98,
   "id": "d0695dd1",
   "metadata": {},
   "outputs": [
    {
     "data": {
      "text/html": [
       "<div>\n",
       "<style scoped>\n",
       "    .dataframe tbody tr th:only-of-type {\n",
       "        vertical-align: middle;\n",
       "    }\n",
       "\n",
       "    .dataframe tbody tr th {\n",
       "        vertical-align: top;\n",
       "    }\n",
       "\n",
       "    .dataframe thead th {\n",
       "        text-align: right;\n",
       "    }\n",
       "</style>\n",
       "<table border=\"1\" class=\"dataframe\">\n",
       "  <thead>\n",
       "    <tr style=\"text-align: right;\">\n",
       "      <th></th>\n",
       "      <th>CRIM</th>\n",
       "      <th>ZN</th>\n",
       "      <th>INDUS</th>\n",
       "      <th>CHAS</th>\n",
       "      <th>NOX</th>\n",
       "      <th>RM</th>\n",
       "      <th>AGE</th>\n",
       "      <th>DIS</th>\n",
       "      <th>RAD</th>\n",
       "      <th>TAX</th>\n",
       "      <th>PTRATIO</th>\n",
       "      <th>B</th>\n",
       "      <th>LSTAT</th>\n",
       "    </tr>\n",
       "  </thead>\n",
       "  <tbody>\n",
       "    <tr>\n",
       "      <th>0</th>\n",
       "      <td>0.00632</td>\n",
       "      <td>18.0</td>\n",
       "      <td>2.31</td>\n",
       "      <td>0.0</td>\n",
       "      <td>0.538</td>\n",
       "      <td>6.575</td>\n",
       "      <td>65.2</td>\n",
       "      <td>4.0900</td>\n",
       "      <td>1.0</td>\n",
       "      <td>296.0</td>\n",
       "      <td>15.3</td>\n",
       "      <td>396.90</td>\n",
       "      <td>4.98</td>\n",
       "    </tr>\n",
       "    <tr>\n",
       "      <th>1</th>\n",
       "      <td>0.02731</td>\n",
       "      <td>0.0</td>\n",
       "      <td>7.07</td>\n",
       "      <td>0.0</td>\n",
       "      <td>0.469</td>\n",
       "      <td>6.421</td>\n",
       "      <td>78.9</td>\n",
       "      <td>4.9671</td>\n",
       "      <td>2.0</td>\n",
       "      <td>242.0</td>\n",
       "      <td>17.8</td>\n",
       "      <td>396.90</td>\n",
       "      <td>9.14</td>\n",
       "    </tr>\n",
       "    <tr>\n",
       "      <th>2</th>\n",
       "      <td>0.02729</td>\n",
       "      <td>0.0</td>\n",
       "      <td>7.07</td>\n",
       "      <td>0.0</td>\n",
       "      <td>0.469</td>\n",
       "      <td>7.185</td>\n",
       "      <td>61.1</td>\n",
       "      <td>4.9671</td>\n",
       "      <td>2.0</td>\n",
       "      <td>242.0</td>\n",
       "      <td>17.8</td>\n",
       "      <td>392.83</td>\n",
       "      <td>4.03</td>\n",
       "    </tr>\n",
       "    <tr>\n",
       "      <th>3</th>\n",
       "      <td>0.03237</td>\n",
       "      <td>0.0</td>\n",
       "      <td>2.18</td>\n",
       "      <td>0.0</td>\n",
       "      <td>0.458</td>\n",
       "      <td>6.998</td>\n",
       "      <td>45.8</td>\n",
       "      <td>6.0622</td>\n",
       "      <td>3.0</td>\n",
       "      <td>222.0</td>\n",
       "      <td>18.7</td>\n",
       "      <td>394.63</td>\n",
       "      <td>2.94</td>\n",
       "    </tr>\n",
       "    <tr>\n",
       "      <th>4</th>\n",
       "      <td>0.06905</td>\n",
       "      <td>0.0</td>\n",
       "      <td>2.18</td>\n",
       "      <td>0.0</td>\n",
       "      <td>0.458</td>\n",
       "      <td>7.147</td>\n",
       "      <td>54.2</td>\n",
       "      <td>6.0622</td>\n",
       "      <td>3.0</td>\n",
       "      <td>222.0</td>\n",
       "      <td>18.7</td>\n",
       "      <td>396.90</td>\n",
       "      <td>5.33</td>\n",
       "    </tr>\n",
       "    <tr>\n",
       "      <th>...</th>\n",
       "      <td>...</td>\n",
       "      <td>...</td>\n",
       "      <td>...</td>\n",
       "      <td>...</td>\n",
       "      <td>...</td>\n",
       "      <td>...</td>\n",
       "      <td>...</td>\n",
       "      <td>...</td>\n",
       "      <td>...</td>\n",
       "      <td>...</td>\n",
       "      <td>...</td>\n",
       "      <td>...</td>\n",
       "      <td>...</td>\n",
       "    </tr>\n",
       "    <tr>\n",
       "      <th>501</th>\n",
       "      <td>0.06263</td>\n",
       "      <td>0.0</td>\n",
       "      <td>11.93</td>\n",
       "      <td>0.0</td>\n",
       "      <td>0.573</td>\n",
       "      <td>6.593</td>\n",
       "      <td>69.1</td>\n",
       "      <td>2.4786</td>\n",
       "      <td>1.0</td>\n",
       "      <td>273.0</td>\n",
       "      <td>21.0</td>\n",
       "      <td>391.99</td>\n",
       "      <td>9.67</td>\n",
       "    </tr>\n",
       "    <tr>\n",
       "      <th>502</th>\n",
       "      <td>0.04527</td>\n",
       "      <td>0.0</td>\n",
       "      <td>11.93</td>\n",
       "      <td>0.0</td>\n",
       "      <td>0.573</td>\n",
       "      <td>6.120</td>\n",
       "      <td>76.7</td>\n",
       "      <td>2.2875</td>\n",
       "      <td>1.0</td>\n",
       "      <td>273.0</td>\n",
       "      <td>21.0</td>\n",
       "      <td>396.90</td>\n",
       "      <td>9.08</td>\n",
       "    </tr>\n",
       "    <tr>\n",
       "      <th>503</th>\n",
       "      <td>0.06076</td>\n",
       "      <td>0.0</td>\n",
       "      <td>11.93</td>\n",
       "      <td>0.0</td>\n",
       "      <td>0.573</td>\n",
       "      <td>6.976</td>\n",
       "      <td>91.0</td>\n",
       "      <td>2.1675</td>\n",
       "      <td>1.0</td>\n",
       "      <td>273.0</td>\n",
       "      <td>21.0</td>\n",
       "      <td>396.90</td>\n",
       "      <td>5.64</td>\n",
       "    </tr>\n",
       "    <tr>\n",
       "      <th>504</th>\n",
       "      <td>0.10959</td>\n",
       "      <td>0.0</td>\n",
       "      <td>11.93</td>\n",
       "      <td>0.0</td>\n",
       "      <td>0.573</td>\n",
       "      <td>6.794</td>\n",
       "      <td>89.3</td>\n",
       "      <td>2.3889</td>\n",
       "      <td>1.0</td>\n",
       "      <td>273.0</td>\n",
       "      <td>21.0</td>\n",
       "      <td>393.45</td>\n",
       "      <td>6.48</td>\n",
       "    </tr>\n",
       "    <tr>\n",
       "      <th>505</th>\n",
       "      <td>0.04741</td>\n",
       "      <td>0.0</td>\n",
       "      <td>11.93</td>\n",
       "      <td>0.0</td>\n",
       "      <td>0.573</td>\n",
       "      <td>6.030</td>\n",
       "      <td>80.8</td>\n",
       "      <td>2.5050</td>\n",
       "      <td>1.0</td>\n",
       "      <td>273.0</td>\n",
       "      <td>21.0</td>\n",
       "      <td>396.90</td>\n",
       "      <td>7.88</td>\n",
       "    </tr>\n",
       "  </tbody>\n",
       "</table>\n",
       "<p>506 rows × 13 columns</p>\n",
       "</div>"
      ],
      "text/plain": [
       "        CRIM    ZN  INDUS  CHAS    NOX     RM   AGE     DIS  RAD    TAX  \\\n",
       "0    0.00632  18.0   2.31   0.0  0.538  6.575  65.2  4.0900  1.0  296.0   \n",
       "1    0.02731   0.0   7.07   0.0  0.469  6.421  78.9  4.9671  2.0  242.0   \n",
       "2    0.02729   0.0   7.07   0.0  0.469  7.185  61.1  4.9671  2.0  242.0   \n",
       "3    0.03237   0.0   2.18   0.0  0.458  6.998  45.8  6.0622  3.0  222.0   \n",
       "4    0.06905   0.0   2.18   0.0  0.458  7.147  54.2  6.0622  3.0  222.0   \n",
       "..       ...   ...    ...   ...    ...    ...   ...     ...  ...    ...   \n",
       "501  0.06263   0.0  11.93   0.0  0.573  6.593  69.1  2.4786  1.0  273.0   \n",
       "502  0.04527   0.0  11.93   0.0  0.573  6.120  76.7  2.2875  1.0  273.0   \n",
       "503  0.06076   0.0  11.93   0.0  0.573  6.976  91.0  2.1675  1.0  273.0   \n",
       "504  0.10959   0.0  11.93   0.0  0.573  6.794  89.3  2.3889  1.0  273.0   \n",
       "505  0.04741   0.0  11.93   0.0  0.573  6.030  80.8  2.5050  1.0  273.0   \n",
       "\n",
       "     PTRATIO       B  LSTAT  \n",
       "0       15.3  396.90   4.98  \n",
       "1       17.8  396.90   9.14  \n",
       "2       17.8  392.83   4.03  \n",
       "3       18.7  394.63   2.94  \n",
       "4       18.7  396.90   5.33  \n",
       "..       ...     ...    ...  \n",
       "501     21.0  391.99   9.67  \n",
       "502     21.0  396.90   9.08  \n",
       "503     21.0  396.90   5.64  \n",
       "504     21.0  393.45   6.48  \n",
       "505     21.0  396.90   7.88  \n",
       "\n",
       "[506 rows x 13 columns]"
      ]
     },
     "execution_count": 98,
     "metadata": {},
     "output_type": "execute_result"
    }
   ],
   "source": [
    "#true_price.info()\n",
    "boston_data"
   ]
  },
  {
   "cell_type": "markdown",
   "id": "e6be1bc9",
   "metadata": {},
   "source": [
    "Также нет пропущенных значений"
   ]
  },
  {
   "cell_type": "markdown",
   "id": "65c2b59f",
   "metadata": {},
   "source": [
    "## 02 Разбиение данных на тренировочный и тестовый датасеты"
   ]
  },
  {
   "cell_type": "code",
   "execution_count": 99,
   "id": "1863c17b",
   "metadata": {},
   "outputs": [],
   "source": [
    "from sklearn.model_selection import train_test_split"
   ]
  },
  {
   "cell_type": "markdown",
   "id": "ef8d2b08",
   "metadata": {},
   "source": [
    "###### Для построения модели необходимо как минимум две выборки"
   ]
  },
  {
   "cell_type": "markdown",
   "id": "a0389a83",
   "metadata": {},
   "source": [
    "- Тренеровочная ( тестовая ) boston_data_train/true_price_train - для тренировки модели <br>\n",
    "- Проверочная ( правильная цена ) boston_data_valid/true_price_valid - для сравнения правильности результата и определения насколько хорошо работет модель"
   ]
  },
  {
   "cell_type": "markdown",
   "id": "04c5a95d",
   "metadata": {},
   "source": [
    "Данные признаков - boston_data <br>\n",
    "Данные целевой переменной - true_price"
   ]
  },
  {
   "cell_type": "code",
   "execution_count": 228,
   "id": "5723ef7d",
   "metadata": {},
   "outputs": [],
   "source": [
    "boston_data_train, boston_data_test, true_price_train, true_price_test = train_test_split(boston_data, true_price, test_size=0.10, random_state=40)\n",
    "# \n",
    "# test_size - ДОЛЯ данных которую мы выбирем для теста\n",
    "# random_state - повторимость случайного выбора, т.е. сколько раз мы возмем ДОЛЮ данных"
   ]
  },
  {
   "cell_type": "code",
   "execution_count": 229,
   "id": "1a1f38b1",
   "metadata": {},
   "outputs": [
    {
     "data": {
      "text/html": [
       "<div>\n",
       "<style scoped>\n",
       "    .dataframe tbody tr th:only-of-type {\n",
       "        vertical-align: middle;\n",
       "    }\n",
       "\n",
       "    .dataframe tbody tr th {\n",
       "        vertical-align: top;\n",
       "    }\n",
       "\n",
       "    .dataframe thead th {\n",
       "        text-align: right;\n",
       "    }\n",
       "</style>\n",
       "<table border=\"1\" class=\"dataframe\">\n",
       "  <thead>\n",
       "    <tr style=\"text-align: right;\">\n",
       "      <th></th>\n",
       "      <th>CRIM</th>\n",
       "      <th>ZN</th>\n",
       "      <th>INDUS</th>\n",
       "      <th>CHAS</th>\n",
       "      <th>NOX</th>\n",
       "      <th>RM</th>\n",
       "      <th>AGE</th>\n",
       "      <th>DIS</th>\n",
       "      <th>RAD</th>\n",
       "      <th>TAX</th>\n",
       "      <th>PTRATIO</th>\n",
       "      <th>B</th>\n",
       "      <th>LSTAT</th>\n",
       "    </tr>\n",
       "  </thead>\n",
       "  <tbody>\n",
       "    <tr>\n",
       "      <th>1</th>\n",
       "      <td>0.02731</td>\n",
       "      <td>0.0</td>\n",
       "      <td>7.07</td>\n",
       "      <td>0.0</td>\n",
       "      <td>0.469</td>\n",
       "      <td>6.421</td>\n",
       "      <td>78.9</td>\n",
       "      <td>4.9671</td>\n",
       "      <td>2.0</td>\n",
       "      <td>242.0</td>\n",
       "      <td>17.8</td>\n",
       "      <td>396.90</td>\n",
       "      <td>9.14</td>\n",
       "    </tr>\n",
       "    <tr>\n",
       "      <th>2</th>\n",
       "      <td>0.02729</td>\n",
       "      <td>0.0</td>\n",
       "      <td>7.07</td>\n",
       "      <td>0.0</td>\n",
       "      <td>0.469</td>\n",
       "      <td>7.185</td>\n",
       "      <td>61.1</td>\n",
       "      <td>4.9671</td>\n",
       "      <td>2.0</td>\n",
       "      <td>242.0</td>\n",
       "      <td>17.8</td>\n",
       "      <td>392.83</td>\n",
       "      <td>4.03</td>\n",
       "    </tr>\n",
       "    <tr>\n",
       "      <th>3</th>\n",
       "      <td>0.03237</td>\n",
       "      <td>0.0</td>\n",
       "      <td>2.18</td>\n",
       "      <td>0.0</td>\n",
       "      <td>0.458</td>\n",
       "      <td>6.998</td>\n",
       "      <td>45.8</td>\n",
       "      <td>6.0622</td>\n",
       "      <td>3.0</td>\n",
       "      <td>222.0</td>\n",
       "      <td>18.7</td>\n",
       "      <td>394.63</td>\n",
       "      <td>2.94</td>\n",
       "    </tr>\n",
       "    <tr>\n",
       "      <th>4</th>\n",
       "      <td>0.06905</td>\n",
       "      <td>0.0</td>\n",
       "      <td>2.18</td>\n",
       "      <td>0.0</td>\n",
       "      <td>0.458</td>\n",
       "      <td>7.147</td>\n",
       "      <td>54.2</td>\n",
       "      <td>6.0622</td>\n",
       "      <td>3.0</td>\n",
       "      <td>222.0</td>\n",
       "      <td>18.7</td>\n",
       "      <td>396.90</td>\n",
       "      <td>5.33</td>\n",
       "    </tr>\n",
       "    <tr>\n",
       "      <th>5</th>\n",
       "      <td>0.02985</td>\n",
       "      <td>0.0</td>\n",
       "      <td>2.18</td>\n",
       "      <td>0.0</td>\n",
       "      <td>0.458</td>\n",
       "      <td>6.430</td>\n",
       "      <td>58.7</td>\n",
       "      <td>6.0622</td>\n",
       "      <td>3.0</td>\n",
       "      <td>222.0</td>\n",
       "      <td>18.7</td>\n",
       "      <td>394.12</td>\n",
       "      <td>5.21</td>\n",
       "    </tr>\n",
       "    <tr>\n",
       "      <th>...</th>\n",
       "      <td>...</td>\n",
       "      <td>...</td>\n",
       "      <td>...</td>\n",
       "      <td>...</td>\n",
       "      <td>...</td>\n",
       "      <td>...</td>\n",
       "      <td>...</td>\n",
       "      <td>...</td>\n",
       "      <td>...</td>\n",
       "      <td>...</td>\n",
       "      <td>...</td>\n",
       "      <td>...</td>\n",
       "      <td>...</td>\n",
       "    </tr>\n",
       "    <tr>\n",
       "      <th>501</th>\n",
       "      <td>0.06263</td>\n",
       "      <td>0.0</td>\n",
       "      <td>11.93</td>\n",
       "      <td>0.0</td>\n",
       "      <td>0.573</td>\n",
       "      <td>6.593</td>\n",
       "      <td>69.1</td>\n",
       "      <td>2.4786</td>\n",
       "      <td>1.0</td>\n",
       "      <td>273.0</td>\n",
       "      <td>21.0</td>\n",
       "      <td>391.99</td>\n",
       "      <td>9.67</td>\n",
       "    </tr>\n",
       "    <tr>\n",
       "      <th>502</th>\n",
       "      <td>0.04527</td>\n",
       "      <td>0.0</td>\n",
       "      <td>11.93</td>\n",
       "      <td>0.0</td>\n",
       "      <td>0.573</td>\n",
       "      <td>6.120</td>\n",
       "      <td>76.7</td>\n",
       "      <td>2.2875</td>\n",
       "      <td>1.0</td>\n",
       "      <td>273.0</td>\n",
       "      <td>21.0</td>\n",
       "      <td>396.90</td>\n",
       "      <td>9.08</td>\n",
       "    </tr>\n",
       "    <tr>\n",
       "      <th>503</th>\n",
       "      <td>0.06076</td>\n",
       "      <td>0.0</td>\n",
       "      <td>11.93</td>\n",
       "      <td>0.0</td>\n",
       "      <td>0.573</td>\n",
       "      <td>6.976</td>\n",
       "      <td>91.0</td>\n",
       "      <td>2.1675</td>\n",
       "      <td>1.0</td>\n",
       "      <td>273.0</td>\n",
       "      <td>21.0</td>\n",
       "      <td>396.90</td>\n",
       "      <td>5.64</td>\n",
       "    </tr>\n",
       "    <tr>\n",
       "      <th>504</th>\n",
       "      <td>0.10959</td>\n",
       "      <td>0.0</td>\n",
       "      <td>11.93</td>\n",
       "      <td>0.0</td>\n",
       "      <td>0.573</td>\n",
       "      <td>6.794</td>\n",
       "      <td>89.3</td>\n",
       "      <td>2.3889</td>\n",
       "      <td>1.0</td>\n",
       "      <td>273.0</td>\n",
       "      <td>21.0</td>\n",
       "      <td>393.45</td>\n",
       "      <td>6.48</td>\n",
       "    </tr>\n",
       "    <tr>\n",
       "      <th>505</th>\n",
       "      <td>0.04741</td>\n",
       "      <td>0.0</td>\n",
       "      <td>11.93</td>\n",
       "      <td>0.0</td>\n",
       "      <td>0.573</td>\n",
       "      <td>6.030</td>\n",
       "      <td>80.8</td>\n",
       "      <td>2.5050</td>\n",
       "      <td>1.0</td>\n",
       "      <td>273.0</td>\n",
       "      <td>21.0</td>\n",
       "      <td>396.90</td>\n",
       "      <td>7.88</td>\n",
       "    </tr>\n",
       "  </tbody>\n",
       "</table>\n",
       "<p>455 rows × 13 columns</p>\n",
       "</div>"
      ],
      "text/plain": [
       "        CRIM   ZN  INDUS  CHAS    NOX     RM   AGE     DIS  RAD    TAX  \\\n",
       "1    0.02731  0.0   7.07   0.0  0.469  6.421  78.9  4.9671  2.0  242.0   \n",
       "2    0.02729  0.0   7.07   0.0  0.469  7.185  61.1  4.9671  2.0  242.0   \n",
       "3    0.03237  0.0   2.18   0.0  0.458  6.998  45.8  6.0622  3.0  222.0   \n",
       "4    0.06905  0.0   2.18   0.0  0.458  7.147  54.2  6.0622  3.0  222.0   \n",
       "5    0.02985  0.0   2.18   0.0  0.458  6.430  58.7  6.0622  3.0  222.0   \n",
       "..       ...  ...    ...   ...    ...    ...   ...     ...  ...    ...   \n",
       "501  0.06263  0.0  11.93   0.0  0.573  6.593  69.1  2.4786  1.0  273.0   \n",
       "502  0.04527  0.0  11.93   0.0  0.573  6.120  76.7  2.2875  1.0  273.0   \n",
       "503  0.06076  0.0  11.93   0.0  0.573  6.976  91.0  2.1675  1.0  273.0   \n",
       "504  0.10959  0.0  11.93   0.0  0.573  6.794  89.3  2.3889  1.0  273.0   \n",
       "505  0.04741  0.0  11.93   0.0  0.573  6.030  80.8  2.5050  1.0  273.0   \n",
       "\n",
       "     PTRATIO       B  LSTAT  \n",
       "1       17.8  396.90   9.14  \n",
       "2       17.8  392.83   4.03  \n",
       "3       18.7  394.63   2.94  \n",
       "4       18.7  396.90   5.33  \n",
       "5       18.7  394.12   5.21  \n",
       "..       ...     ...    ...  \n",
       "501     21.0  391.99   9.67  \n",
       "502     21.0  396.90   9.08  \n",
       "503     21.0  396.90   5.64  \n",
       "504     21.0  393.45   6.48  \n",
       "505     21.0  396.90   7.88  \n",
       "\n",
       "[455 rows x 13 columns]"
      ]
     },
     "execution_count": 229,
     "metadata": {},
     "output_type": "execute_result"
    }
   ],
   "source": [
    "boston_data_train.sort_index()"
   ]
  },
  {
   "cell_type": "code",
   "execution_count": 230,
   "id": "974a0c90",
   "metadata": {},
   "outputs": [
    {
     "name": "stdout",
     "output_type": "stream",
     "text": [
      "<class 'pandas.core.frame.DataFrame'>\n",
      "Int64Index: 455 entries, 12 to 326\n",
      "Data columns (total 13 columns):\n",
      " #   Column   Non-Null Count  Dtype  \n",
      "---  ------   --------------  -----  \n",
      " 0   CRIM     455 non-null    float64\n",
      " 1   ZN       455 non-null    float64\n",
      " 2   INDUS    455 non-null    float64\n",
      " 3   CHAS     455 non-null    float64\n",
      " 4   NOX      455 non-null    float64\n",
      " 5   RM       455 non-null    float64\n",
      " 6   AGE      455 non-null    float64\n",
      " 7   DIS      455 non-null    float64\n",
      " 8   RAD      455 non-null    float64\n",
      " 9   TAX      455 non-null    float64\n",
      " 10  PTRATIO  455 non-null    float64\n",
      " 11  B        455 non-null    float64\n",
      " 12  LSTAT    455 non-null    float64\n",
      "dtypes: float64(13)\n",
      "memory usage: 49.8 KB\n"
     ]
    }
   ],
   "source": [
    "boston_data_train.info()"
   ]
  },
  {
   "cell_type": "code",
   "execution_count": 231,
   "id": "7a399286",
   "metadata": {},
   "outputs": [
    {
     "name": "stdout",
     "output_type": "stream",
     "text": [
      "<class 'pandas.core.frame.DataFrame'>\n",
      "Int64Index: 51 entries, 358 to 140\n",
      "Data columns (total 13 columns):\n",
      " #   Column   Non-Null Count  Dtype  \n",
      "---  ------   --------------  -----  \n",
      " 0   CRIM     51 non-null     float64\n",
      " 1   ZN       51 non-null     float64\n",
      " 2   INDUS    51 non-null     float64\n",
      " 3   CHAS     51 non-null     float64\n",
      " 4   NOX      51 non-null     float64\n",
      " 5   RM       51 non-null     float64\n",
      " 6   AGE      51 non-null     float64\n",
      " 7   DIS      51 non-null     float64\n",
      " 8   RAD      51 non-null     float64\n",
      " 9   TAX      51 non-null     float64\n",
      " 10  PTRATIO  51 non-null     float64\n",
      " 11  B        51 non-null     float64\n",
      " 12  LSTAT    51 non-null     float64\n",
      "dtypes: float64(13)\n",
      "memory usage: 5.6 KB\n"
     ]
    }
   ],
   "source": [
    "boston_data_test.info()"
   ]
  },
  {
   "cell_type": "code",
   "execution_count": 232,
   "id": "4d13c6e8",
   "metadata": {},
   "outputs": [
    {
     "name": "stdout",
     "output_type": "stream",
     "text": [
      "<class 'pandas.core.frame.DataFrame'>\n",
      "Int64Index: 455 entries, 12 to 326\n",
      "Data columns (total 1 columns):\n",
      " #   Column  Non-Null Count  Dtype  \n",
      "---  ------  --------------  -----  \n",
      " 0   price   455 non-null    float64\n",
      "dtypes: float64(1)\n",
      "memory usage: 7.1 KB\n"
     ]
    }
   ],
   "source": [
    "#true_price_train.sort_index()\n",
    "true_price_train.info()"
   ]
  },
  {
   "cell_type": "code",
   "execution_count": 233,
   "id": "acc71593",
   "metadata": {},
   "outputs": [
    {
     "name": "stdout",
     "output_type": "stream",
     "text": [
      "<class 'pandas.core.frame.DataFrame'>\n",
      "Int64Index: 51 entries, 358 to 140\n",
      "Data columns (total 1 columns):\n",
      " #   Column  Non-Null Count  Dtype  \n",
      "---  ------  --------------  -----  \n",
      " 0   price   51 non-null     float64\n",
      "dtypes: float64(1)\n",
      "memory usage: 816.0 bytes\n"
     ]
    }
   ],
   "source": [
    "true_price_test.info()"
   ]
  },
  {
   "cell_type": "markdown",
   "id": "329a7be1",
   "metadata": {},
   "source": [
    "## 03 Построение модели линейно регрессии"
   ]
  },
  {
   "cell_type": "code",
   "execution_count": 234,
   "id": "040f6279",
   "metadata": {},
   "outputs": [],
   "source": [
    "from sklearn.linear_model import LinearRegression"
   ]
  },
  {
   "cell_type": "code",
   "execution_count": 235,
   "id": "ac6177c1",
   "metadata": {},
   "outputs": [],
   "source": [
    "linear_r = LinearRegression()"
   ]
  },
  {
   "cell_type": "markdown",
   "id": "9205f4a3",
   "metadata": {},
   "source": [
    "Задача линейной регрессии - найти подходящтй коэффициент w при признаках x для вычисления целевой переменной y, <br>\n",
    "минимизирую ошибку e <br>"
   ]
  },
  {
   "cell_type": "markdown",
   "id": "4f491c3c",
   "metadata": {},
   "source": [
    "## ${y} = {w}_{0} + {w}_{1} * {x}_{1} + {w}_{2} * {x}_{2} + {w}_{3} + ... + {w}_{n} * {w}_{n} + e $"
   ]
  },
  {
   "cell_type": "markdown",
   "id": "8637bcc3",
   "metadata": {},
   "source": [
    "#### Запустим тренировку модели ( построение модели )"
   ]
  },
  {
   "cell_type": "markdown",
   "id": "a87e9ca6",
   "metadata": {},
   "source": [
    "> тренировка модели происходит с помощью функции <span style=\"color:green\"><b>fit</b></span>"
   ]
  },
  {
   "cell_type": "code",
   "execution_count": 236,
   "id": "3db6a6be",
   "metadata": {},
   "outputs": [
    {
     "data": {
      "text/plain": [
       "LinearRegression()"
      ]
     },
     "execution_count": 236,
     "metadata": {},
     "output_type": "execute_result"
    }
   ],
   "source": [
    "# Запуск обучения\n",
    "linear_r.fit(boston_data_train, true_price_train) "
   ]
  },
  {
   "cell_type": "markdown",
   "id": "b9e3b232",
   "metadata": {},
   "source": [
    "- x_train - признаки недвижимости\n",
    "- y_train - цены на недвижимость"
   ]
  },
  {
   "cell_type": "markdown",
   "id": "7b3f9739",
   "metadata": {},
   "source": [
    "После пострения модели на тестовых данных, с помощью метода predict мы можем предсказать цену на недвижимость в тестовой выборке"
   ]
  },
  {
   "cell_type": "code",
   "execution_count": 237,
   "id": "0a4696a1",
   "metadata": {},
   "outputs": [],
   "source": [
    "price_predict = linear_r.predict(boston_data_train)"
   ]
  },
  {
   "cell_type": "code",
   "execution_count": 238,
   "id": "5c11b482",
   "metadata": {},
   "outputs": [],
   "source": [
    "#y_pred"
   ]
  },
  {
   "cell_type": "code",
   "execution_count": 239,
   "id": "c34716a9",
   "metadata": {},
   "outputs": [
    {
     "data": {
      "text/plain": [
       "(455, 1)"
      ]
     },
     "execution_count": 239,
     "metadata": {},
     "output_type": "execute_result"
    }
   ],
   "source": [
    "price_predict.shape"
   ]
  },
  {
   "cell_type": "markdown",
   "id": "67f1153b",
   "metadata": {},
   "source": [
    "Создадим датафрейм и поместим в него предсказанные и реальные данные, для определения насколько точны предсказания"
   ]
  },
  {
   "cell_type": "code",
   "execution_count": 240,
   "id": "4429397c",
   "metadata": {},
   "outputs": [],
   "source": [
    "check_test = pd.DataFrame(\n",
    "    {'реальная_цена': true_price_train['price'], \n",
    "    'предположительная_цена': price_predict.flatten()\n",
    "    }, \n",
    "    columns=['реальная_цена','предположительная_цена' ]\n",
    ")"
   ]
  },
  {
   "cell_type": "code",
   "execution_count": 241,
   "id": "63869bd6",
   "metadata": {},
   "outputs": [
    {
     "data": {
      "text/html": [
       "<div>\n",
       "<style scoped>\n",
       "    .dataframe tbody tr th:only-of-type {\n",
       "        vertical-align: middle;\n",
       "    }\n",
       "\n",
       "    .dataframe tbody tr th {\n",
       "        vertical-align: top;\n",
       "    }\n",
       "\n",
       "    .dataframe thead th {\n",
       "        text-align: right;\n",
       "    }\n",
       "</style>\n",
       "<table border=\"1\" class=\"dataframe\">\n",
       "  <thead>\n",
       "    <tr style=\"text-align: right;\">\n",
       "      <th></th>\n",
       "      <th>реальная_цена</th>\n",
       "      <th>предположительная_цена</th>\n",
       "    </tr>\n",
       "  </thead>\n",
       "  <tbody>\n",
       "    <tr>\n",
       "      <th>405</th>\n",
       "      <td>5.0</td>\n",
       "      <td>7.094047</td>\n",
       "    </tr>\n",
       "    <tr>\n",
       "      <th>418</th>\n",
       "      <td>8.8</td>\n",
       "      <td>5.348085</td>\n",
       "    </tr>\n",
       "    <tr>\n",
       "      <th>147</th>\n",
       "      <td>14.6</td>\n",
       "      <td>8.682296</td>\n",
       "    </tr>\n",
       "    <tr>\n",
       "      <th>310</th>\n",
       "      <td>16.1</td>\n",
       "      <td>18.398237</td>\n",
       "    </tr>\n",
       "    <tr>\n",
       "      <th>77</th>\n",
       "      <td>20.8</td>\n",
       "      <td>23.172453</td>\n",
       "    </tr>\n",
       "    <tr>\n",
       "      <th>44</th>\n",
       "      <td>21.2</td>\n",
       "      <td>22.995334</td>\n",
       "    </tr>\n",
       "    <tr>\n",
       "      <th>12</th>\n",
       "      <td>21.7</td>\n",
       "      <td>21.018799</td>\n",
       "    </tr>\n",
       "    <tr>\n",
       "      <th>221</th>\n",
       "      <td>21.7</td>\n",
       "      <td>23.731076</td>\n",
       "    </tr>\n",
       "    <tr>\n",
       "      <th>168</th>\n",
       "      <td>23.8</td>\n",
       "      <td>25.476992</td>\n",
       "    </tr>\n",
       "    <tr>\n",
       "      <th>163</th>\n",
       "      <td>50.0</td>\n",
       "      <td>41.427060</td>\n",
       "    </tr>\n",
       "  </tbody>\n",
       "</table>\n",
       "</div>"
      ],
      "text/plain": [
       "     реальная_цена  предположительная_цена\n",
       "405            5.0                7.094047\n",
       "418            8.8                5.348085\n",
       "147           14.6                8.682296\n",
       "310           16.1               18.398237\n",
       "77            20.8               23.172453\n",
       "44            21.2               22.995334\n",
       "12            21.7               21.018799\n",
       "221           21.7               23.731076\n",
       "168           23.8               25.476992\n",
       "163           50.0               41.427060"
      ]
     },
     "execution_count": 241,
     "metadata": {},
     "output_type": "execute_result"
    }
   ],
   "source": [
    "#check_test.head(10).sort_index()\n",
    "check_test.head(10).head(10).sort_values('реальная_цена')"
   ]
  },
  {
   "cell_type": "code",
   "execution_count": 242,
   "id": "43633545",
   "metadata": {},
   "outputs": [],
   "source": [
    "#check_test.loc[index]"
   ]
  },
  {
   "cell_type": "markdown",
   "id": "cee9ab8a",
   "metadata": {},
   "source": [
    "Для того чтобы определить насколько точно мы предсказали цену необходимо применить метрики оценки качества"
   ]
  },
  {
   "cell_type": "markdown",
   "id": "7da7ebe0",
   "metadata": {},
   "source": [
    "## 04 Метрики оценки качества регрессионной модели"
   ]
  },
  {
   "cell_type": "markdown",
   "id": "9e2dcf92",
   "metadata": {},
   "source": [
    ">Средняя квадратичная ошибка - вычисляется как квадрат разности между реальной и предсказанной величиной"
   ]
  },
  {
   "cell_type": "markdown",
   "id": "572871e1",
   "metadata": {},
   "source": [
    "`Подсчет средней квадратичной ошибки в ручную:`"
   ]
  },
  {
   "cell_type": "code",
   "execution_count": 243,
   "id": "acfc8c63",
   "metadata": {},
   "outputs": [],
   "source": [
    "# Создадим новую колонку в DataFrame check_test содержащую разницу между реальной ценой и предсказанной\n",
    "check_test['отклонение'] = check_test['реальная_цена'] - check_test['предположительная_цена']"
   ]
  },
  {
   "cell_type": "code",
   "execution_count": 244,
   "id": "a0b772b5",
   "metadata": {},
   "outputs": [
    {
     "data": {
      "text/html": [
       "<div>\n",
       "<style scoped>\n",
       "    .dataframe tbody tr th:only-of-type {\n",
       "        vertical-align: middle;\n",
       "    }\n",
       "\n",
       "    .dataframe tbody tr th {\n",
       "        vertical-align: top;\n",
       "    }\n",
       "\n",
       "    .dataframe thead th {\n",
       "        text-align: right;\n",
       "    }\n",
       "</style>\n",
       "<table border=\"1\" class=\"dataframe\">\n",
       "  <thead>\n",
       "    <tr style=\"text-align: right;\">\n",
       "      <th></th>\n",
       "      <th>реальная_цена</th>\n",
       "      <th>предположительная_цена</th>\n",
       "      <th>отклонение</th>\n",
       "    </tr>\n",
       "  </thead>\n",
       "  <tbody>\n",
       "    <tr>\n",
       "      <th>12</th>\n",
       "      <td>21.7</td>\n",
       "      <td>21.018799</td>\n",
       "      <td>0.681201</td>\n",
       "    </tr>\n",
       "    <tr>\n",
       "      <th>310</th>\n",
       "      <td>16.1</td>\n",
       "      <td>18.398237</td>\n",
       "      <td>-2.298237</td>\n",
       "    </tr>\n",
       "    <tr>\n",
       "      <th>405</th>\n",
       "      <td>5.0</td>\n",
       "      <td>7.094047</td>\n",
       "      <td>-2.094047</td>\n",
       "    </tr>\n",
       "    <tr>\n",
       "      <th>418</th>\n",
       "      <td>8.8</td>\n",
       "      <td>5.348085</td>\n",
       "      <td>3.451915</td>\n",
       "    </tr>\n",
       "    <tr>\n",
       "      <th>163</th>\n",
       "      <td>50.0</td>\n",
       "      <td>41.427060</td>\n",
       "      <td>8.572940</td>\n",
       "    </tr>\n",
       "    <tr>\n",
       "      <th>...</th>\n",
       "      <td>...</td>\n",
       "      <td>...</td>\n",
       "      <td>...</td>\n",
       "    </tr>\n",
       "    <tr>\n",
       "      <th>440</th>\n",
       "      <td>10.5</td>\n",
       "      <td>12.236045</td>\n",
       "      <td>-1.736045</td>\n",
       "    </tr>\n",
       "    <tr>\n",
       "      <th>165</th>\n",
       "      <td>25.0</td>\n",
       "      <td>24.446317</td>\n",
       "      <td>0.553683</td>\n",
       "    </tr>\n",
       "    <tr>\n",
       "      <th>7</th>\n",
       "      <td>27.1</td>\n",
       "      <td>19.236152</td>\n",
       "      <td>7.863848</td>\n",
       "    </tr>\n",
       "    <tr>\n",
       "      <th>219</th>\n",
       "      <td>23.0</td>\n",
       "      <td>29.212566</td>\n",
       "      <td>-6.212566</td>\n",
       "    </tr>\n",
       "    <tr>\n",
       "      <th>326</th>\n",
       "      <td>23.0</td>\n",
       "      <td>24.005137</td>\n",
       "      <td>-1.005137</td>\n",
       "    </tr>\n",
       "  </tbody>\n",
       "</table>\n",
       "<p>455 rows × 3 columns</p>\n",
       "</div>"
      ],
      "text/plain": [
       "     реальная_цена  предположительная_цена  отклонение\n",
       "12            21.7               21.018799    0.681201\n",
       "310           16.1               18.398237   -2.298237\n",
       "405            5.0                7.094047   -2.094047\n",
       "418            8.8                5.348085    3.451915\n",
       "163           50.0               41.427060    8.572940\n",
       "..             ...                     ...         ...\n",
       "440           10.5               12.236045   -1.736045\n",
       "165           25.0               24.446317    0.553683\n",
       "7             27.1               19.236152    7.863848\n",
       "219           23.0               29.212566   -6.212566\n",
       "326           23.0               24.005137   -1.005137\n",
       "\n",
       "[455 rows x 3 columns]"
      ]
     },
     "execution_count": 244,
     "metadata": {},
     "output_type": "execute_result"
    }
   ],
   "source": [
    "check_test"
   ]
  },
  {
   "cell_type": "code",
   "execution_count": 245,
   "id": "acaeba37",
   "metadata": {},
   "outputs": [
    {
     "data": {
      "text/html": [
       "<div>\n",
       "<style scoped>\n",
       "    .dataframe tbody tr th:only-of-type {\n",
       "        vertical-align: middle;\n",
       "    }\n",
       "\n",
       "    .dataframe tbody tr th {\n",
       "        vertical-align: top;\n",
       "    }\n",
       "\n",
       "    .dataframe thead th {\n",
       "        text-align: right;\n",
       "    }\n",
       "</style>\n",
       "<table border=\"1\" class=\"dataframe\">\n",
       "  <thead>\n",
       "    <tr style=\"text-align: right;\">\n",
       "      <th></th>\n",
       "      <th>реальная_цена</th>\n",
       "      <th>предположительная_цена</th>\n",
       "      <th>отклонение</th>\n",
       "    </tr>\n",
       "  </thead>\n",
       "  <tbody>\n",
       "    <tr>\n",
       "      <th>335</th>\n",
       "      <td>21.1</td>\n",
       "      <td>21.077004</td>\n",
       "      <td>0.022996</td>\n",
       "    </tr>\n",
       "  </tbody>\n",
       "</table>\n",
       "</div>"
      ],
      "text/plain": [
       "     реальная_цена  предположительная_цена  отклонение\n",
       "335           21.1               21.077004    0.022996"
      ]
     },
     "execution_count": 245,
     "metadata": {},
     "output_type": "execute_result"
    }
   ],
   "source": [
    "check_test.loc[(check_test['отклонение'] >= 0.0) & (check_test['отклонение'] <= 0.1)].sort_values('отклонение')"
   ]
  },
  {
   "cell_type": "code",
   "execution_count": 246,
   "id": "272bf2a2",
   "metadata": {},
   "outputs": [],
   "source": [
    "#initial_mse_hands = (check_test['отклонение'] ** 2)"
   ]
  },
  {
   "cell_type": "code",
   "execution_count": 247,
   "id": "2d263280",
   "metadata": {},
   "outputs": [],
   "source": [
    "#initial_mse_hands"
   ]
  },
  {
   "cell_type": "code",
   "execution_count": 248,
   "id": "5c515965",
   "metadata": {},
   "outputs": [],
   "source": [
    "initial_mse_hands = (check_test['отклонение'] ** 2).mean()"
   ]
  },
  {
   "cell_type": "code",
   "execution_count": 249,
   "id": "9a48ba40",
   "metadata": {},
   "outputs": [
    {
     "data": {
      "text/plain": [
       "18.894906951501415"
      ]
     },
     "execution_count": 249,
     "metadata": {},
     "output_type": "execute_result"
    }
   ],
   "source": [
    "initial_mse_hands"
   ]
  },
  {
   "cell_type": "markdown",
   "id": "622b777f",
   "metadata": {},
   "source": [
    "`Подсчет средней квадратичной ошибки с помощью функции mean_squared_error библиотеки sklearn :`"
   ]
  },
  {
   "cell_type": "code",
   "execution_count": 250,
   "id": "5f85ab98",
   "metadata": {},
   "outputs": [],
   "source": [
    "from sklearn.metrics import mean_squared_error"
   ]
  },
  {
   "cell_type": "code",
   "execution_count": 251,
   "id": "c3005abe",
   "metadata": {},
   "outputs": [],
   "source": [
    "initial_mse = mean_squared_error(true_price_train, price_predict) # Первый аргумент реальная цена, второй предсказанная"
   ]
  },
  {
   "cell_type": "code",
   "execution_count": 252,
   "id": "e54b0d9a",
   "metadata": {},
   "outputs": [
    {
     "data": {
      "text/plain": [
       "18.894906951501405"
      ]
     },
     "execution_count": 252,
     "metadata": {},
     "output_type": "execute_result"
    }
   ],
   "source": [
    "initial_mse"
   ]
  },
  {
   "cell_type": "code",
   "execution_count": 253,
   "id": "96611650",
   "metadata": {},
   "outputs": [],
   "source": [
    "if initial_mse == initial_mse_hands:\n",
    "    print('equil')"
   ]
  },
  {
   "cell_type": "code",
   "execution_count": 254,
   "id": "381f6437",
   "metadata": {},
   "outputs": [
    {
     "name": "stdout",
     "output_type": "stream",
     "text": [
      "Квадратичное отклонение: \n",
      "Подсчитано вручную: 18.894906951501415 \n",
      "Подсчитано с sklearn: 18.894906951501405\n"
     ]
    }
   ],
   "source": [
    "print(f'Квадратичное отклонение: \\nПодсчитано вручную: {initial_mse_hands} \\nПодсчитано с sklearn: {initial_mse}')"
   ]
  },
  {
   "cell_type": "markdown",
   "id": "bb9e4198",
   "metadata": {},
   "source": [
    "> Средняя абсолютная ошибка - вычисляется как средняя модулей разноcти между реальной и предсказанной ценой <br>\n",
    "<span style=\"color:red\">не сильно реагирует на выбросы в данных ( сильно завышена или занижена цена )</span>"
   ]
  },
  {
   "cell_type": "code",
   "execution_count": 255,
   "id": "1209506c",
   "metadata": {},
   "outputs": [],
   "source": [
    "from sklearn.metrics import mean_absolute_error"
   ]
  },
  {
   "cell_type": "code",
   "execution_count": 256,
   "id": "0be49ce6",
   "metadata": {},
   "outputs": [
    {
     "data": {
      "text/plain": [
       "3.0432039908604653"
      ]
     },
     "execution_count": 256,
     "metadata": {},
     "output_type": "execute_result"
    }
   ],
   "source": [
    "mean_absolute_error(true_price_train, price_predict)"
   ]
  },
  {
   "cell_type": "markdown",
   "id": "cf7aa13f",
   "metadata": {},
   "source": [
    "> ${R}_{2}$ <br>\n",
    "<span style=\"color:red\">значение не зависит от предсказанной величины,её значение никогда не превышает единицу (1)</span><br>\n",
    "чем ближе значение к единице, тем лучше работает модель"
   ]
  },
  {
   "cell_type": "code",
   "execution_count": 262,
   "id": "36a0eb18",
   "metadata": {},
   "outputs": [],
   "source": [
    "from sklearn.metrics import r2_score"
   ]
  },
  {
   "cell_type": "code",
   "execution_count": 263,
   "id": "83d7f7cd",
   "metadata": {},
   "outputs": [
    {
     "ename": "NameError",
     "evalue": "name 'y_test' is not defined",
     "output_type": "error",
     "traceback": [
      "\u001b[0;31m---------------------------------------------------------------------------\u001b[0m",
      "\u001b[0;31mNameError\u001b[0m                                 Traceback (most recent call last)",
      "\u001b[0;32m<ipython-input-263-726684fe2b3f>\u001b[0m in \u001b[0;36m<module>\u001b[0;34m\u001b[0m\n\u001b[0;32m----> 1\u001b[0;31m \u001b[0mr2_score\u001b[0m\u001b[0;34m(\u001b[0m\u001b[0my_test\u001b[0m\u001b[0;34m,\u001b[0m \u001b[0my_pred\u001b[0m\u001b[0;34m)\u001b[0m\u001b[0;34m\u001b[0m\u001b[0;34m\u001b[0m\u001b[0m\n\u001b[0m",
      "\u001b[0;31mNameError\u001b[0m: name 'y_test' is not defined"
     ]
    }
   ],
   "source": [
    "r2_score(y_test, y_pred)"
   ]
  },
  {
   "cell_type": "markdown",
   "id": "d1fbf6b0",
   "metadata": {},
   "source": [
    "## 05 Просмотр коэффициентов линейной регрессии"
   ]
  },
  {
   "cell_type": "markdown",
   "id": "a499627a",
   "metadata": {},
   "source": [
    "${w}_{0}$ - свободный коэффициент который не домножается ни на какую переменную ( смотри формулу выше ) <br>\n",
    "<span style=\"color:red\">такой коэффициент называется интерсепт</span>"
   ]
  },
  {
   "cell_type": "code",
   "execution_count": 257,
   "id": "13829de0",
   "metadata": {},
   "outputs": [
    {
     "data": {
      "text/plain": [
       "array([22.48865435])"
      ]
     },
     "execution_count": 257,
     "metadata": {},
     "output_type": "execute_result"
    }
   ],
   "source": [
    "lr.intercept_"
   ]
  },
  {
   "cell_type": "markdown",
   "id": "8b8e1b50",
   "metadata": {},
   "source": [
    "\n",
    "${w}_{1}...{w}_{m}$ <br>\n",
    "<br>\n",
    "остальные коэффициенты можно посмотреть:"
   ]
  },
  {
   "cell_type": "markdown",
   "id": "6f59ab90",
   "metadata": {},
   "source": [
    ">Коэффициент  Например, в уравнении $y = ax^{2}+bx+c$, $a$ - является коэффициентом $x^{2}$, $b$ – коэффициентом $х$, а $с$ – постоянным членом ( К примеру коэффицент скорости, ускорения )"
   ]
  },
  {
   "cell_type": "code",
   "execution_count": 258,
   "id": "bf24d084",
   "metadata": {},
   "outputs": [
    {
     "data": {
      "text/plain": [
       "array([[-0.63039343,  0.78310442, -0.22527609,  0.74892343, -1.97315411,\n",
       "         2.35205174, -0.07688676, -2.87670685,  2.27347607, -1.71320869,\n",
       "        -1.81331966,  0.58741182, -3.50944199]])"
      ]
     },
     "execution_count": 258,
     "metadata": {},
     "output_type": "execute_result"
    }
   ],
   "source": [
    "lr.coef_"
   ]
  },
  {
   "cell_type": "markdown",
   "id": "df267f5d",
   "metadata": {},
   "source": [
    "> Оценим визуально величину коэффициентов для каждого признака"
   ]
  },
  {
   "cell_type": "code",
   "execution_count": 259,
   "id": "4f36ec0d",
   "metadata": {},
   "outputs": [],
   "source": [
    "import matplotlib.pyplot as plt"
   ]
  },
  {
   "cell_type": "code",
   "execution_count": 260,
   "id": "badae758",
   "metadata": {},
   "outputs": [],
   "source": [
    "%matplotlib inline\n",
    "%config InlineBackend.figure_format = 'svg'"
   ]
  },
  {
   "cell_type": "code",
   "execution_count": 261,
   "id": "db95841c",
   "metadata": {},
   "outputs": [
    {
     "data": {
      "text/plain": [
       "Text(0, 0.5, 'Название признака')"
      ]
     },
     "execution_count": 261,
     "metadata": {},
     "output_type": "execute_result"
    },
    {
     "data": {
      "image/svg+xml": [
       "<?xml version=\"1.0\" encoding=\"utf-8\" standalone=\"no\"?>\n",
       "<!DOCTYPE svg PUBLIC \"-//W3C//DTD SVG 1.1//EN\"\n",
       "  \"http://www.w3.org/Graphics/SVG/1.1/DTD/svg11.dtd\">\n",
       "<!-- Created with matplotlib (https://matplotlib.org/) -->\n",
       "<svg height=\"262.19625pt\" version=\"1.1\" viewBox=\"0 0 411.559375 262.19625\" width=\"411.559375pt\" xmlns=\"http://www.w3.org/2000/svg\" xmlns:xlink=\"http://www.w3.org/1999/xlink\">\n",
       " <metadata>\n",
       "  <rdf:RDF xmlns:cc=\"http://creativecommons.org/ns#\" xmlns:dc=\"http://purl.org/dc/elements/1.1/\" xmlns:rdf=\"http://www.w3.org/1999/02/22-rdf-syntax-ns#\">\n",
       "   <cc:Work>\n",
       "    <dc:type rdf:resource=\"http://purl.org/dc/dcmitype/StillImage\"/>\n",
       "    <dc:date>2021-10-17T22:27:16.362587</dc:date>\n",
       "    <dc:format>image/svg+xml</dc:format>\n",
       "    <dc:creator>\n",
       "     <cc:Agent>\n",
       "      <dc:title>Matplotlib v3.3.4, https://matplotlib.org/</dc:title>\n",
       "     </cc:Agent>\n",
       "    </dc:creator>\n",
       "   </cc:Work>\n",
       "  </rdf:RDF>\n",
       " </metadata>\n",
       " <defs>\n",
       "  <style type=\"text/css\">*{stroke-linecap:butt;stroke-linejoin:round;}</style>\n",
       " </defs>\n",
       " <g id=\"figure_1\">\n",
       "  <g id=\"patch_1\">\n",
       "   <path d=\"M -0 262.19625 \n",
       "L 411.559375 262.19625 \n",
       "L 411.559375 0 \n",
       "L -0 0 \n",
       "z\n",
       "\" style=\"fill:none;\"/>\n",
       "  </g>\n",
       "  <g id=\"axes_1\">\n",
       "   <g id=\"patch_2\">\n",
       "    <path d=\"M 69.559375 224.64 \n",
       "L 404.359375 224.64 \n",
       "L 404.359375 7.2 \n",
       "L 69.559375 7.2 \n",
       "z\n",
       "\" style=\"fill:#ffffff;\"/>\n",
       "   </g>\n",
       "   <g id=\"patch_3\">\n",
       "    <path clip-path=\"url(#p7d37e10be1)\" d=\"M 267.00867 214.756364 \n",
       "L 234.274891 214.756364 \n",
       "L 234.274891 202.401818 \n",
       "L 267.00867 202.401818 \n",
       "z\n",
       "\" style=\"fill:#1f77b4;\"/>\n",
       "   </g>\n",
       "   <g id=\"patch_4\">\n",
       "    <path clip-path=\"url(#p7d37e10be1)\" d=\"M 267.00867 199.313182 \n",
       "L 307.672112 199.313182 \n",
       "L 307.672112 186.958636 \n",
       "L 267.00867 186.958636 \n",
       "z\n",
       "\" style=\"fill:#1f77b4;\"/>\n",
       "   </g>\n",
       "   <g id=\"patch_5\">\n",
       "    <path clip-path=\"url(#p7d37e10be1)\" d=\"M 267.00867 183.87 \n",
       "L 255.310994 183.87 \n",
       "L 255.310994 171.515455 \n",
       "L 267.00867 171.515455 \n",
       "z\n",
       "\" style=\"fill:#1f77b4;\"/>\n",
       "   </g>\n",
       "   <g id=\"patch_6\">\n",
       "    <path clip-path=\"url(#p7d37e10be1)\" d=\"M 267.00867 168.426818 \n",
       "L 305.897231 168.426818 \n",
       "L 305.897231 156.072273 \n",
       "L 267.00867 156.072273 \n",
       "z\n",
       "\" style=\"fill:#1f77b4;\"/>\n",
       "   </g>\n",
       "   <g id=\"patch_7\">\n",
       "    <path clip-path=\"url(#p7d37e10be1)\" d=\"M 267.00867 152.983636 \n",
       "L 164.550766 152.983636 \n",
       "L 164.550766 140.629091 \n",
       "L 267.00867 140.629091 \n",
       "z\n",
       "\" style=\"fill:#1f77b4;\"/>\n",
       "   </g>\n",
       "   <g id=\"patch_8\">\n",
       "    <path clip-path=\"url(#p7d37e10be1)\" d=\"M 267.00867 137.540455 \n",
       "L 389.141193 137.540455 \n",
       "L 389.141193 125.185909 \n",
       "L 267.00867 125.185909 \n",
       "z\n",
       "\" style=\"fill:#1f77b4;\"/>\n",
       "   </g>\n",
       "   <g id=\"patch_9\">\n",
       "    <path clip-path=\"url(#p7d37e10be1)\" d=\"M 267.00867 122.097273 \n",
       "L 263.016252 122.097273 \n",
       "L 263.016252 109.742727 \n",
       "L 267.00867 109.742727 \n",
       "z\n",
       "\" style=\"fill:#1f77b4;\"/>\n",
       "   </g>\n",
       "   <g id=\"patch_10\">\n",
       "    <path clip-path=\"url(#p7d37e10be1)\" d=\"M 267.00867 106.654091 \n",
       "L 117.632931 106.654091 \n",
       "L 117.632931 94.299545 \n",
       "L 267.00867 94.299545 \n",
       "z\n",
       "\" style=\"fill:#1f77b4;\"/>\n",
       "   </g>\n",
       "   <g id=\"patch_11\">\n",
       "    <path clip-path=\"url(#p7d37e10be1)\" d=\"M 267.00867 91.210909 \n",
       "L 385.061077 91.210909 \n",
       "L 385.061077 78.856364 \n",
       "L 267.00867 78.856364 \n",
       "z\n",
       "\" style=\"fill:#1f77b4;\"/>\n",
       "   </g>\n",
       "   <g id=\"patch_12\">\n",
       "    <path clip-path=\"url(#p7d37e10be1)\" d=\"M 267.00867 75.767727 \n",
       "L 178.048679 75.767727 \n",
       "L 178.048679 63.413182 \n",
       "L 267.00867 63.413182 \n",
       "z\n",
       "\" style=\"fill:#1f77b4;\"/>\n",
       "   </g>\n",
       "   <g id=\"patch_13\">\n",
       "    <path clip-path=\"url(#p7d37e10be1)\" d=\"M 267.00867 60.324545 \n",
       "L 172.850322 60.324545 \n",
       "L 172.850322 47.97 \n",
       "L 267.00867 47.97 \n",
       "z\n",
       "\" style=\"fill:#1f77b4;\"/>\n",
       "   </g>\n",
       "   <g id=\"patch_14\">\n",
       "    <path clip-path=\"url(#p7d37e10be1)\" d=\"M 267.00867 44.881364 \n",
       "L 297.510587 44.881364 \n",
       "L 297.510587 32.526818 \n",
       "L 267.00867 32.526818 \n",
       "z\n",
       "\" style=\"fill:#1f77b4;\"/>\n",
       "   </g>\n",
       "   <g id=\"patch_15\">\n",
       "    <path clip-path=\"url(#p7d37e10be1)\" d=\"M 267.00867 29.438182 \n",
       "L 84.777557 29.438182 \n",
       "L 84.777557 17.083636 \n",
       "L 267.00867 17.083636 \n",
       "z\n",
       "\" style=\"fill:#1f77b4;\"/>\n",
       "   </g>\n",
       "   <g id=\"matplotlib.axis_1\">\n",
       "    <g id=\"xtick_1\">\n",
       "     <g id=\"line2d_1\">\n",
       "      <defs>\n",
       "       <path d=\"M 0 0 \n",
       "L 0 3.5 \n",
       "\" id=\"m2248e7b8c2\" style=\"stroke:#000000;stroke-width:0.8;\"/>\n",
       "      </defs>\n",
       "      <g>\n",
       "       <use style=\"stroke:#000000;stroke-width:0.8;\" x=\"111.230816\" xlink:href=\"#m2248e7b8c2\" y=\"224.64\"/>\n",
       "      </g>\n",
       "     </g>\n",
       "     <g id=\"text_1\">\n",
       "      <!-- −3 -->\n",
       "      <g transform=\"translate(103.859723 239.238437)scale(0.1 -0.1)\">\n",
       "       <defs>\n",
       "        <path d=\"M 10.59375 35.5 \n",
       "L 73.1875 35.5 \n",
       "L 73.1875 27.203125 \n",
       "L 10.59375 27.203125 \n",
       "z\n",
       "\" id=\"DejaVuSans-8722\"/>\n",
       "        <path d=\"M 40.578125 39.3125 \n",
       "Q 47.65625 37.796875 51.625 33 \n",
       "Q 55.609375 28.21875 55.609375 21.1875 \n",
       "Q 55.609375 10.40625 48.1875 4.484375 \n",
       "Q 40.765625 -1.421875 27.09375 -1.421875 \n",
       "Q 22.515625 -1.421875 17.65625 -0.515625 \n",
       "Q 12.796875 0.390625 7.625 2.203125 \n",
       "L 7.625 11.71875 \n",
       "Q 11.71875 9.328125 16.59375 8.109375 \n",
       "Q 21.484375 6.890625 26.8125 6.890625 \n",
       "Q 36.078125 6.890625 40.9375 10.546875 \n",
       "Q 45.796875 14.203125 45.796875 21.1875 \n",
       "Q 45.796875 27.640625 41.28125 31.265625 \n",
       "Q 36.765625 34.90625 28.71875 34.90625 \n",
       "L 20.21875 34.90625 \n",
       "L 20.21875 43.015625 \n",
       "L 29.109375 43.015625 \n",
       "Q 36.375 43.015625 40.234375 45.921875 \n",
       "Q 44.09375 48.828125 44.09375 54.296875 \n",
       "Q 44.09375 59.90625 40.109375 62.90625 \n",
       "Q 36.140625 65.921875 28.71875 65.921875 \n",
       "Q 24.65625 65.921875 20.015625 65.03125 \n",
       "Q 15.375 64.15625 9.8125 62.3125 \n",
       "L 9.8125 71.09375 \n",
       "Q 15.4375 72.65625 20.34375 73.4375 \n",
       "Q 25.25 74.21875 29.59375 74.21875 \n",
       "Q 40.828125 74.21875 47.359375 69.109375 \n",
       "Q 53.90625 64.015625 53.90625 55.328125 \n",
       "Q 53.90625 49.265625 50.4375 45.09375 \n",
       "Q 46.96875 40.921875 40.578125 39.3125 \n",
       "z\n",
       "\" id=\"DejaVuSans-51\"/>\n",
       "       </defs>\n",
       "       <use xlink:href=\"#DejaVuSans-8722\"/>\n",
       "       <use x=\"83.789062\" xlink:href=\"#DejaVuSans-51\"/>\n",
       "      </g>\n",
       "     </g>\n",
       "    </g>\n",
       "    <g id=\"xtick_2\">\n",
       "     <g id=\"line2d_2\">\n",
       "      <g>\n",
       "       <use style=\"stroke:#000000;stroke-width:0.8;\" x=\"163.156768\" xlink:href=\"#m2248e7b8c2\" y=\"224.64\"/>\n",
       "      </g>\n",
       "     </g>\n",
       "     <g id=\"text_2\">\n",
       "      <!-- −2 -->\n",
       "      <g transform=\"translate(155.785674 239.238437)scale(0.1 -0.1)\">\n",
       "       <defs>\n",
       "        <path d=\"M 19.1875 8.296875 \n",
       "L 53.609375 8.296875 \n",
       "L 53.609375 0 \n",
       "L 7.328125 0 \n",
       "L 7.328125 8.296875 \n",
       "Q 12.9375 14.109375 22.625 23.890625 \n",
       "Q 32.328125 33.6875 34.8125 36.53125 \n",
       "Q 39.546875 41.84375 41.421875 45.53125 \n",
       "Q 43.3125 49.21875 43.3125 52.78125 \n",
       "Q 43.3125 58.59375 39.234375 62.25 \n",
       "Q 35.15625 65.921875 28.609375 65.921875 \n",
       "Q 23.96875 65.921875 18.8125 64.3125 \n",
       "Q 13.671875 62.703125 7.8125 59.421875 \n",
       "L 7.8125 69.390625 \n",
       "Q 13.765625 71.78125 18.9375 73 \n",
       "Q 24.125 74.21875 28.421875 74.21875 \n",
       "Q 39.75 74.21875 46.484375 68.546875 \n",
       "Q 53.21875 62.890625 53.21875 53.421875 \n",
       "Q 53.21875 48.921875 51.53125 44.890625 \n",
       "Q 49.859375 40.875 45.40625 35.40625 \n",
       "Q 44.1875 33.984375 37.640625 27.21875 \n",
       "Q 31.109375 20.453125 19.1875 8.296875 \n",
       "z\n",
       "\" id=\"DejaVuSans-50\"/>\n",
       "       </defs>\n",
       "       <use xlink:href=\"#DejaVuSans-8722\"/>\n",
       "       <use x=\"83.789062\" xlink:href=\"#DejaVuSans-50\"/>\n",
       "      </g>\n",
       "     </g>\n",
       "    </g>\n",
       "    <g id=\"xtick_3\">\n",
       "     <g id=\"line2d_3\">\n",
       "      <g>\n",
       "       <use style=\"stroke:#000000;stroke-width:0.8;\" x=\"215.082719\" xlink:href=\"#m2248e7b8c2\" y=\"224.64\"/>\n",
       "      </g>\n",
       "     </g>\n",
       "     <g id=\"text_3\">\n",
       "      <!-- −1 -->\n",
       "      <g transform=\"translate(207.711625 239.238437)scale(0.1 -0.1)\">\n",
       "       <defs>\n",
       "        <path d=\"M 12.40625 8.296875 \n",
       "L 28.515625 8.296875 \n",
       "L 28.515625 63.921875 \n",
       "L 10.984375 60.40625 \n",
       "L 10.984375 69.390625 \n",
       "L 28.421875 72.90625 \n",
       "L 38.28125 72.90625 \n",
       "L 38.28125 8.296875 \n",
       "L 54.390625 8.296875 \n",
       "L 54.390625 0 \n",
       "L 12.40625 0 \n",
       "z\n",
       "\" id=\"DejaVuSans-49\"/>\n",
       "       </defs>\n",
       "       <use xlink:href=\"#DejaVuSans-8722\"/>\n",
       "       <use x=\"83.789062\" xlink:href=\"#DejaVuSans-49\"/>\n",
       "      </g>\n",
       "     </g>\n",
       "    </g>\n",
       "    <g id=\"xtick_4\">\n",
       "     <g id=\"line2d_4\">\n",
       "      <g>\n",
       "       <use style=\"stroke:#000000;stroke-width:0.8;\" x=\"267.00867\" xlink:href=\"#m2248e7b8c2\" y=\"224.64\"/>\n",
       "      </g>\n",
       "     </g>\n",
       "     <g id=\"text_4\">\n",
       "      <!-- 0 -->\n",
       "      <g transform=\"translate(263.82742 239.238437)scale(0.1 -0.1)\">\n",
       "       <defs>\n",
       "        <path d=\"M 31.78125 66.40625 \n",
       "Q 24.171875 66.40625 20.328125 58.90625 \n",
       "Q 16.5 51.421875 16.5 36.375 \n",
       "Q 16.5 21.390625 20.328125 13.890625 \n",
       "Q 24.171875 6.390625 31.78125 6.390625 \n",
       "Q 39.453125 6.390625 43.28125 13.890625 \n",
       "Q 47.125 21.390625 47.125 36.375 \n",
       "Q 47.125 51.421875 43.28125 58.90625 \n",
       "Q 39.453125 66.40625 31.78125 66.40625 \n",
       "z\n",
       "M 31.78125 74.21875 \n",
       "Q 44.046875 74.21875 50.515625 64.515625 \n",
       "Q 56.984375 54.828125 56.984375 36.375 \n",
       "Q 56.984375 17.96875 50.515625 8.265625 \n",
       "Q 44.046875 -1.421875 31.78125 -1.421875 \n",
       "Q 19.53125 -1.421875 13.0625 8.265625 \n",
       "Q 6.59375 17.96875 6.59375 36.375 \n",
       "Q 6.59375 54.828125 13.0625 64.515625 \n",
       "Q 19.53125 74.21875 31.78125 74.21875 \n",
       "z\n",
       "\" id=\"DejaVuSans-48\"/>\n",
       "       </defs>\n",
       "       <use xlink:href=\"#DejaVuSans-48\"/>\n",
       "      </g>\n",
       "     </g>\n",
       "    </g>\n",
       "    <g id=\"xtick_5\">\n",
       "     <g id=\"line2d_5\">\n",
       "      <g>\n",
       "       <use style=\"stroke:#000000;stroke-width:0.8;\" x=\"318.934621\" xlink:href=\"#m2248e7b8c2\" y=\"224.64\"/>\n",
       "      </g>\n",
       "     </g>\n",
       "     <g id=\"text_5\">\n",
       "      <!-- 1 -->\n",
       "      <g transform=\"translate(315.753371 239.238437)scale(0.1 -0.1)\">\n",
       "       <use xlink:href=\"#DejaVuSans-49\"/>\n",
       "      </g>\n",
       "     </g>\n",
       "    </g>\n",
       "    <g id=\"xtick_6\">\n",
       "     <g id=\"line2d_6\">\n",
       "      <g>\n",
       "       <use style=\"stroke:#000000;stroke-width:0.8;\" x=\"370.860572\" xlink:href=\"#m2248e7b8c2\" y=\"224.64\"/>\n",
       "      </g>\n",
       "     </g>\n",
       "     <g id=\"text_6\">\n",
       "      <!-- 2 -->\n",
       "      <g transform=\"translate(367.679322 239.238437)scale(0.1 -0.1)\">\n",
       "       <use xlink:href=\"#DejaVuSans-50\"/>\n",
       "      </g>\n",
       "     </g>\n",
       "    </g>\n",
       "    <g id=\"text_7\">\n",
       "     <!-- Вес признака -->\n",
       "     <g transform=\"translate(201.346094 252.916562)scale(0.1 -0.1)\">\n",
       "      <defs>\n",
       "       <path d=\"M 19.671875 34.8125 \n",
       "L 19.671875 8.109375 \n",
       "L 35.5 8.109375 \n",
       "Q 43.453125 8.109375 47.28125 11.40625 \n",
       "Q 51.125 14.703125 51.125 21.484375 \n",
       "Q 51.125 28.328125 47.28125 31.5625 \n",
       "Q 43.453125 34.8125 35.5 34.8125 \n",
       "z\n",
       "M 19.671875 64.796875 \n",
       "L 19.671875 42.828125 \n",
       "L 34.28125 42.828125 \n",
       "Q 41.5 42.828125 45.03125 45.53125 \n",
       "Q 48.578125 48.25 48.578125 53.8125 \n",
       "Q 48.578125 59.328125 45.03125 62.0625 \n",
       "Q 41.5 64.796875 34.28125 64.796875 \n",
       "z\n",
       "M 9.8125 72.90625 \n",
       "L 35.015625 72.90625 \n",
       "Q 46.296875 72.90625 52.390625 68.21875 \n",
       "Q 58.5 63.53125 58.5 54.890625 \n",
       "Q 58.5 48.1875 55.375 44.234375 \n",
       "Q 52.25 40.28125 46.1875 39.3125 \n",
       "Q 53.46875 37.75 57.5 32.78125 \n",
       "Q 61.53125 27.828125 61.53125 20.40625 \n",
       "Q 61.53125 10.640625 54.890625 5.3125 \n",
       "Q 48.25 0 35.984375 0 \n",
       "L 9.8125 0 \n",
       "z\n",
       "\" id=\"DejaVuSans-1042\"/>\n",
       "       <path d=\"M 56.203125 29.59375 \n",
       "L 56.203125 25.203125 \n",
       "L 14.890625 25.203125 \n",
       "Q 15.484375 15.921875 20.484375 11.0625 \n",
       "Q 25.484375 6.203125 34.421875 6.203125 \n",
       "Q 39.59375 6.203125 44.453125 7.46875 \n",
       "Q 49.3125 8.734375 54.109375 11.28125 \n",
       "L 54.109375 2.78125 \n",
       "Q 49.265625 0.734375 44.1875 -0.34375 \n",
       "Q 39.109375 -1.421875 33.890625 -1.421875 \n",
       "Q 20.796875 -1.421875 13.15625 6.1875 \n",
       "Q 5.515625 13.8125 5.515625 26.8125 \n",
       "Q 5.515625 40.234375 12.765625 48.109375 \n",
       "Q 20.015625 56 32.328125 56 \n",
       "Q 43.359375 56 49.78125 48.890625 \n",
       "Q 56.203125 41.796875 56.203125 29.59375 \n",
       "z\n",
       "M 47.21875 32.234375 \n",
       "Q 47.125 39.59375 43.09375 43.984375 \n",
       "Q 39.0625 48.390625 32.421875 48.390625 \n",
       "Q 24.90625 48.390625 20.390625 44.140625 \n",
       "Q 15.875 39.890625 15.1875 32.171875 \n",
       "z\n",
       "\" id=\"DejaVuSans-1077\"/>\n",
       "       <path d=\"M 48.78125 52.59375 \n",
       "L 48.78125 44.1875 \n",
       "Q 44.96875 46.296875 41.140625 47.34375 \n",
       "Q 37.3125 48.390625 33.40625 48.390625 \n",
       "Q 24.65625 48.390625 19.8125 42.84375 \n",
       "Q 14.984375 37.3125 14.984375 27.296875 \n",
       "Q 14.984375 17.28125 19.8125 11.734375 \n",
       "Q 24.65625 6.203125 33.40625 6.203125 \n",
       "Q 37.3125 6.203125 41.140625 7.25 \n",
       "Q 44.96875 8.296875 48.78125 10.40625 \n",
       "L 48.78125 2.09375 \n",
       "Q 45.015625 0.34375 40.984375 -0.53125 \n",
       "Q 36.96875 -1.421875 32.421875 -1.421875 \n",
       "Q 20.0625 -1.421875 12.78125 6.34375 \n",
       "Q 5.515625 14.109375 5.515625 27.296875 \n",
       "Q 5.515625 40.671875 12.859375 48.328125 \n",
       "Q 20.21875 56 33.015625 56 \n",
       "Q 37.15625 56 41.109375 55.140625 \n",
       "Q 45.0625 54.296875 48.78125 52.59375 \n",
       "z\n",
       "\" id=\"DejaVuSans-1089\"/>\n",
       "       <path id=\"DejaVuSans-32\"/>\n",
       "       <path d=\"M 56.296875 54.6875 \n",
       "L 56.296875 0 \n",
       "L 47.265625 0 \n",
       "L 47.265625 47.515625 \n",
       "L 18.109375 47.515625 \n",
       "L 18.109375 0 \n",
       "L 9.078125 0 \n",
       "L 9.078125 54.6875 \n",
       "z\n",
       "\" id=\"DejaVuSans-1087\"/>\n",
       "       <path d=\"M 18.109375 8.203125 \n",
       "L 18.109375 -20.796875 \n",
       "L 9.078125 -20.796875 \n",
       "L 9.078125 54.6875 \n",
       "L 18.109375 54.6875 \n",
       "L 18.109375 46.390625 \n",
       "Q 20.953125 51.265625 25.265625 53.625 \n",
       "Q 29.59375 56 35.59375 56 \n",
       "Q 45.5625 56 51.78125 48.09375 \n",
       "Q 58.015625 40.1875 58.015625 27.296875 \n",
       "Q 58.015625 14.40625 51.78125 6.484375 \n",
       "Q 45.5625 -1.421875 35.59375 -1.421875 \n",
       "Q 29.59375 -1.421875 25.265625 0.953125 \n",
       "Q 20.953125 3.328125 18.109375 8.203125 \n",
       "z\n",
       "M 48.6875 27.296875 \n",
       "Q 48.6875 37.203125 44.609375 42.84375 \n",
       "Q 40.53125 48.484375 33.40625 48.484375 \n",
       "Q 26.265625 48.484375 22.1875 42.84375 \n",
       "Q 18.109375 37.203125 18.109375 27.296875 \n",
       "Q 18.109375 17.390625 22.1875 11.75 \n",
       "Q 26.265625 6.109375 33.40625 6.109375 \n",
       "Q 40.53125 6.109375 44.609375 11.75 \n",
       "Q 48.6875 17.390625 48.6875 27.296875 \n",
       "z\n",
       "\" id=\"DejaVuSans-1088\"/>\n",
       "       <path d=\"M 55.90625 54.6875 \n",
       "L 55.90625 0 \n",
       "L 46.96875 0 \n",
       "L 46.96875 43.890625 \n",
       "L 20.609375 0 \n",
       "L 9.078125 0 \n",
       "L 9.078125 54.6875 \n",
       "L 18.015625 54.6875 \n",
       "L 18.015625 10.890625 \n",
       "L 44.34375 54.6875 \n",
       "z\n",
       "\" id=\"DejaVuSans-1080\"/>\n",
       "       <path d=\"M 34.46875 29.5 \n",
       "Q 40.53125 28.328125 43.890625 24.75 \n",
       "Q 47.265625 21.1875 47.265625 15.921875 \n",
       "Q 47.265625 7.46875 40.96875 3.015625 \n",
       "Q 34.671875 -1.421875 23.046875 -1.421875 \n",
       "Q 19.140625 -1.421875 15.015625 -0.734375 \n",
       "Q 10.890625 -0.046875 6.5 1.3125 \n",
       "L 6.5 9.671875 \n",
       "Q 9.96875 7.859375 14.109375 6.953125 \n",
       "Q 18.265625 6.0625 22.796875 6.0625 \n",
       "Q 30.171875 6.0625 34.296875 8.796875 \n",
       "Q 38.421875 11.53125 38.421875 15.921875 \n",
       "Q 38.421875 20.21875 34.765625 22.828125 \n",
       "Q 31.109375 25.4375 24.421875 25.4375 \n",
       "L 17.1875 25.4375 \n",
       "L 17.1875 32.859375 \n",
       "L 24.75 32.859375 \n",
       "Q 30.421875 32.859375 33.71875 35.03125 \n",
       "Q 37.015625 37.203125 37.015625 40.625 \n",
       "Q 37.015625 43.75 33.609375 46 \n",
       "Q 30.21875 48.25 24.421875 48.25 \n",
       "Q 20.953125 48.25 17.015625 47.609375 \n",
       "Q 13.09375 46.96875 8.34375 45.5625 \n",
       "L 8.34375 53.71875 \n",
       "Q 13.140625 54.890625 17.28125 55.46875 \n",
       "Q 21.4375 56.0625 25.140625 56.0625 \n",
       "Q 34.71875 56.0625 40.25 52.21875 \n",
       "Q 45.796875 48.390625 45.796875 41.5 \n",
       "Q 45.796875 36.96875 42.859375 33.8125 \n",
       "Q 39.9375 30.671875 34.46875 29.5 \n",
       "z\n",
       "\" id=\"DejaVuSans-1079\"/>\n",
       "       <path d=\"M 9.078125 54.6875 \n",
       "L 18.109375 54.6875 \n",
       "L 18.109375 32.375 \n",
       "L 47.265625 32.375 \n",
       "L 47.265625 54.6875 \n",
       "L 56.296875 54.6875 \n",
       "L 56.296875 0 \n",
       "L 47.265625 0 \n",
       "L 47.265625 25.203125 \n",
       "L 18.109375 25.203125 \n",
       "L 18.109375 0 \n",
       "L 9.078125 0 \n",
       "z\n",
       "\" id=\"DejaVuSans-1085\"/>\n",
       "       <path d=\"M 34.28125 27.484375 \n",
       "Q 23.390625 27.484375 19.1875 25 \n",
       "Q 14.984375 22.515625 14.984375 16.5 \n",
       "Q 14.984375 11.71875 18.140625 8.90625 \n",
       "Q 21.296875 6.109375 26.703125 6.109375 \n",
       "Q 34.1875 6.109375 38.703125 11.40625 \n",
       "Q 43.21875 16.703125 43.21875 25.484375 \n",
       "L 43.21875 27.484375 \n",
       "z\n",
       "M 52.203125 31.203125 \n",
       "L 52.203125 0 \n",
       "L 43.21875 0 \n",
       "L 43.21875 8.296875 \n",
       "Q 40.140625 3.328125 35.546875 0.953125 \n",
       "Q 30.953125 -1.421875 24.3125 -1.421875 \n",
       "Q 15.921875 -1.421875 10.953125 3.296875 \n",
       "Q 6 8.015625 6 15.921875 \n",
       "Q 6 25.140625 12.171875 29.828125 \n",
       "Q 18.359375 34.515625 30.609375 34.515625 \n",
       "L 43.21875 34.515625 \n",
       "L 43.21875 35.40625 \n",
       "Q 43.21875 41.609375 39.140625 45 \n",
       "Q 35.0625 48.390625 27.6875 48.390625 \n",
       "Q 23 48.390625 18.546875 47.265625 \n",
       "Q 14.109375 46.140625 10.015625 43.890625 \n",
       "L 10.015625 52.203125 \n",
       "Q 14.9375 54.109375 19.578125 55.046875 \n",
       "Q 24.21875 56 28.609375 56 \n",
       "Q 40.484375 56 46.34375 49.84375 \n",
       "Q 52.203125 43.703125 52.203125 31.203125 \n",
       "z\n",
       "\" id=\"DejaVuSans-1072\"/>\n",
       "       <path d=\"M 9.078125 54.6875 \n",
       "L 18.015625 54.6875 \n",
       "L 18.015625 29 \n",
       "L 43.359375 54.6875 \n",
       "L 54.390625 54.6875 \n",
       "L 33.5 33.546875 \n",
       "L 57.078125 0 \n",
       "L 47.015625 0 \n",
       "L 27.640625 27.59375 \n",
       "L 18.015625 17.828125 \n",
       "L 18.015625 0 \n",
       "L 9.078125 0 \n",
       "z\n",
       "\" id=\"DejaVuSans-1082\"/>\n",
       "      </defs>\n",
       "      <use xlink:href=\"#DejaVuSans-1042\"/>\n",
       "      <use x=\"68.603516\" xlink:href=\"#DejaVuSans-1077\"/>\n",
       "      <use x=\"130.126953\" xlink:href=\"#DejaVuSans-1089\"/>\n",
       "      <use x=\"185.107422\" xlink:href=\"#DejaVuSans-32\"/>\n",
       "      <use x=\"216.894531\" xlink:href=\"#DejaVuSans-1087\"/>\n",
       "      <use x=\"282.275391\" xlink:href=\"#DejaVuSans-1088\"/>\n",
       "      <use x=\"345.751953\" xlink:href=\"#DejaVuSans-1080\"/>\n",
       "      <use x=\"410.742188\" xlink:href=\"#DejaVuSans-1079\"/>\n",
       "      <use x=\"463.916016\" xlink:href=\"#DejaVuSans-1085\"/>\n",
       "      <use x=\"529.296875\" xlink:href=\"#DejaVuSans-1072\"/>\n",
       "      <use x=\"590.576172\" xlink:href=\"#DejaVuSans-1082\"/>\n",
       "      <use x=\"650.976562\" xlink:href=\"#DejaVuSans-1072\"/>\n",
       "     </g>\n",
       "    </g>\n",
       "   </g>\n",
       "   <g id=\"matplotlib.axis_2\">\n",
       "    <g id=\"ytick_1\">\n",
       "     <g id=\"line2d_7\">\n",
       "      <defs>\n",
       "       <path d=\"M 0 0 \n",
       "L -3.5 0 \n",
       "\" id=\"m9c20325091\" style=\"stroke:#000000;stroke-width:0.8;\"/>\n",
       "      </defs>\n",
       "      <g>\n",
       "       <use style=\"stroke:#000000;stroke-width:0.8;\" x=\"69.559375\" xlink:href=\"#m9c20325091\" y=\"208.579091\"/>\n",
       "      </g>\n",
       "     </g>\n",
       "     <g id=\"text_8\">\n",
       "      <!-- CRIM -->\n",
       "      <g transform=\"translate(37.05 212.37831)scale(0.1 -0.1)\">\n",
       "       <defs>\n",
       "        <path d=\"M 64.40625 67.28125 \n",
       "L 64.40625 56.890625 \n",
       "Q 59.421875 61.53125 53.78125 63.8125 \n",
       "Q 48.140625 66.109375 41.796875 66.109375 \n",
       "Q 29.296875 66.109375 22.65625 58.46875 \n",
       "Q 16.015625 50.828125 16.015625 36.375 \n",
       "Q 16.015625 21.96875 22.65625 14.328125 \n",
       "Q 29.296875 6.6875 41.796875 6.6875 \n",
       "Q 48.140625 6.6875 53.78125 8.984375 \n",
       "Q 59.421875 11.28125 64.40625 15.921875 \n",
       "L 64.40625 5.609375 \n",
       "Q 59.234375 2.09375 53.4375 0.328125 \n",
       "Q 47.65625 -1.421875 41.21875 -1.421875 \n",
       "Q 24.65625 -1.421875 15.125 8.703125 \n",
       "Q 5.609375 18.84375 5.609375 36.375 \n",
       "Q 5.609375 53.953125 15.125 64.078125 \n",
       "Q 24.65625 74.21875 41.21875 74.21875 \n",
       "Q 47.75 74.21875 53.53125 72.484375 \n",
       "Q 59.328125 70.75 64.40625 67.28125 \n",
       "z\n",
       "\" id=\"DejaVuSans-67\"/>\n",
       "        <path d=\"M 44.390625 34.1875 \n",
       "Q 47.5625 33.109375 50.5625 29.59375 \n",
       "Q 53.5625 26.078125 56.59375 19.921875 \n",
       "L 66.609375 0 \n",
       "L 56 0 \n",
       "L 46.6875 18.703125 \n",
       "Q 43.0625 26.03125 39.671875 28.421875 \n",
       "Q 36.28125 30.8125 30.421875 30.8125 \n",
       "L 19.671875 30.8125 \n",
       "L 19.671875 0 \n",
       "L 9.8125 0 \n",
       "L 9.8125 72.90625 \n",
       "L 32.078125 72.90625 \n",
       "Q 44.578125 72.90625 50.734375 67.671875 \n",
       "Q 56.890625 62.453125 56.890625 51.90625 \n",
       "Q 56.890625 45.015625 53.6875 40.46875 \n",
       "Q 50.484375 35.9375 44.390625 34.1875 \n",
       "z\n",
       "M 19.671875 64.796875 \n",
       "L 19.671875 38.921875 \n",
       "L 32.078125 38.921875 \n",
       "Q 39.203125 38.921875 42.84375 42.21875 \n",
       "Q 46.484375 45.515625 46.484375 51.90625 \n",
       "Q 46.484375 58.296875 42.84375 61.546875 \n",
       "Q 39.203125 64.796875 32.078125 64.796875 \n",
       "z\n",
       "\" id=\"DejaVuSans-82\"/>\n",
       "        <path d=\"M 9.8125 72.90625 \n",
       "L 19.671875 72.90625 \n",
       "L 19.671875 0 \n",
       "L 9.8125 0 \n",
       "z\n",
       "\" id=\"DejaVuSans-73\"/>\n",
       "        <path d=\"M 9.8125 72.90625 \n",
       "L 24.515625 72.90625 \n",
       "L 43.109375 23.296875 \n",
       "L 61.8125 72.90625 \n",
       "L 76.515625 72.90625 \n",
       "L 76.515625 0 \n",
       "L 66.890625 0 \n",
       "L 66.890625 64.015625 \n",
       "L 48.09375 14.015625 \n",
       "L 38.1875 14.015625 \n",
       "L 19.390625 64.015625 \n",
       "L 19.390625 0 \n",
       "L 9.8125 0 \n",
       "z\n",
       "\" id=\"DejaVuSans-77\"/>\n",
       "       </defs>\n",
       "       <use xlink:href=\"#DejaVuSans-67\"/>\n",
       "       <use x=\"69.824219\" xlink:href=\"#DejaVuSans-82\"/>\n",
       "       <use x=\"139.306641\" xlink:href=\"#DejaVuSans-73\"/>\n",
       "       <use x=\"168.798828\" xlink:href=\"#DejaVuSans-77\"/>\n",
       "      </g>\n",
       "     </g>\n",
       "    </g>\n",
       "    <g id=\"ytick_2\">\n",
       "     <g id=\"line2d_8\">\n",
       "      <g>\n",
       "       <use style=\"stroke:#000000;stroke-width:0.8;\" x=\"69.559375\" xlink:href=\"#m9c20325091\" y=\"193.135909\"/>\n",
       "      </g>\n",
       "     </g>\n",
       "     <g id=\"text_9\">\n",
       "      <!-- ZN -->\n",
       "      <g transform=\"translate(48.228125 196.935128)scale(0.1 -0.1)\">\n",
       "       <defs>\n",
       "        <path d=\"M 5.609375 72.90625 \n",
       "L 62.890625 72.90625 \n",
       "L 62.890625 65.375 \n",
       "L 16.796875 8.296875 \n",
       "L 64.015625 8.296875 \n",
       "L 64.015625 0 \n",
       "L 4.5 0 \n",
       "L 4.5 7.515625 \n",
       "L 50.59375 64.59375 \n",
       "L 5.609375 64.59375 \n",
       "z\n",
       "\" id=\"DejaVuSans-90\"/>\n",
       "        <path d=\"M 9.8125 72.90625 \n",
       "L 23.09375 72.90625 \n",
       "L 55.421875 11.921875 \n",
       "L 55.421875 72.90625 \n",
       "L 64.984375 72.90625 \n",
       "L 64.984375 0 \n",
       "L 51.703125 0 \n",
       "L 19.390625 60.984375 \n",
       "L 19.390625 0 \n",
       "L 9.8125 0 \n",
       "z\n",
       "\" id=\"DejaVuSans-78\"/>\n",
       "       </defs>\n",
       "       <use xlink:href=\"#DejaVuSans-90\"/>\n",
       "       <use x=\"68.505859\" xlink:href=\"#DejaVuSans-78\"/>\n",
       "      </g>\n",
       "     </g>\n",
       "    </g>\n",
       "    <g id=\"ytick_3\">\n",
       "     <g id=\"line2d_9\">\n",
       "      <g>\n",
       "       <use style=\"stroke:#000000;stroke-width:0.8;\" x=\"69.559375\" xlink:href=\"#m9c20325091\" y=\"177.692727\"/>\n",
       "      </g>\n",
       "     </g>\n",
       "     <g id=\"text_10\">\n",
       "      <!-- INDUS -->\n",
       "      <g transform=\"translate(30.760938 181.491946)scale(0.1 -0.1)\">\n",
       "       <defs>\n",
       "        <path d=\"M 19.671875 64.796875 \n",
       "L 19.671875 8.109375 \n",
       "L 31.59375 8.109375 \n",
       "Q 46.6875 8.109375 53.6875 14.9375 \n",
       "Q 60.6875 21.78125 60.6875 36.53125 \n",
       "Q 60.6875 51.171875 53.6875 57.984375 \n",
       "Q 46.6875 64.796875 31.59375 64.796875 \n",
       "z\n",
       "M 9.8125 72.90625 \n",
       "L 30.078125 72.90625 \n",
       "Q 51.265625 72.90625 61.171875 64.09375 \n",
       "Q 71.09375 55.28125 71.09375 36.53125 \n",
       "Q 71.09375 17.671875 61.125 8.828125 \n",
       "Q 51.171875 0 30.078125 0 \n",
       "L 9.8125 0 \n",
       "z\n",
       "\" id=\"DejaVuSans-68\"/>\n",
       "        <path d=\"M 8.6875 72.90625 \n",
       "L 18.609375 72.90625 \n",
       "L 18.609375 28.609375 \n",
       "Q 18.609375 16.890625 22.84375 11.734375 \n",
       "Q 27.09375 6.59375 36.625 6.59375 \n",
       "Q 46.09375 6.59375 50.34375 11.734375 \n",
       "Q 54.59375 16.890625 54.59375 28.609375 \n",
       "L 54.59375 72.90625 \n",
       "L 64.5 72.90625 \n",
       "L 64.5 27.390625 \n",
       "Q 64.5 13.140625 57.4375 5.859375 \n",
       "Q 50.390625 -1.421875 36.625 -1.421875 \n",
       "Q 22.796875 -1.421875 15.734375 5.859375 \n",
       "Q 8.6875 13.140625 8.6875 27.390625 \n",
       "z\n",
       "\" id=\"DejaVuSans-85\"/>\n",
       "        <path d=\"M 53.515625 70.515625 \n",
       "L 53.515625 60.890625 \n",
       "Q 47.90625 63.578125 42.921875 64.890625 \n",
       "Q 37.9375 66.21875 33.296875 66.21875 \n",
       "Q 25.25 66.21875 20.875 63.09375 \n",
       "Q 16.5 59.96875 16.5 54.203125 \n",
       "Q 16.5 49.359375 19.40625 46.890625 \n",
       "Q 22.3125 44.4375 30.421875 42.921875 \n",
       "L 36.375 41.703125 \n",
       "Q 47.40625 39.59375 52.65625 34.296875 \n",
       "Q 57.90625 29 57.90625 20.125 \n",
       "Q 57.90625 9.515625 50.796875 4.046875 \n",
       "Q 43.703125 -1.421875 29.984375 -1.421875 \n",
       "Q 24.8125 -1.421875 18.96875 -0.25 \n",
       "Q 13.140625 0.921875 6.890625 3.21875 \n",
       "L 6.890625 13.375 \n",
       "Q 12.890625 10.015625 18.65625 8.296875 \n",
       "Q 24.421875 6.59375 29.984375 6.59375 \n",
       "Q 38.421875 6.59375 43.015625 9.90625 \n",
       "Q 47.609375 13.234375 47.609375 19.390625 \n",
       "Q 47.609375 24.75 44.3125 27.78125 \n",
       "Q 41.015625 30.8125 33.5 32.328125 \n",
       "L 27.484375 33.5 \n",
       "Q 16.453125 35.6875 11.515625 40.375 \n",
       "Q 6.59375 45.0625 6.59375 53.421875 \n",
       "Q 6.59375 63.09375 13.40625 68.65625 \n",
       "Q 20.21875 74.21875 32.171875 74.21875 \n",
       "Q 37.3125 74.21875 42.625 73.28125 \n",
       "Q 47.953125 72.359375 53.515625 70.515625 \n",
       "z\n",
       "\" id=\"DejaVuSans-83\"/>\n",
       "       </defs>\n",
       "       <use xlink:href=\"#DejaVuSans-73\"/>\n",
       "       <use x=\"29.492188\" xlink:href=\"#DejaVuSans-78\"/>\n",
       "       <use x=\"104.296875\" xlink:href=\"#DejaVuSans-68\"/>\n",
       "       <use x=\"181.298828\" xlink:href=\"#DejaVuSans-85\"/>\n",
       "       <use x=\"254.492188\" xlink:href=\"#DejaVuSans-83\"/>\n",
       "      </g>\n",
       "     </g>\n",
       "    </g>\n",
       "    <g id=\"ytick_4\">\n",
       "     <g id=\"line2d_10\">\n",
       "      <g>\n",
       "       <use style=\"stroke:#000000;stroke-width:0.8;\" x=\"69.559375\" xlink:href=\"#m9c20325091\" y=\"162.249545\"/>\n",
       "      </g>\n",
       "     </g>\n",
       "     <g id=\"text_11\">\n",
       "      <!-- CHAS -->\n",
       "      <g transform=\"translate(34.867188 166.048764)scale(0.1 -0.1)\">\n",
       "       <defs>\n",
       "        <path d=\"M 9.8125 72.90625 \n",
       "L 19.671875 72.90625 \n",
       "L 19.671875 43.015625 \n",
       "L 55.515625 43.015625 \n",
       "L 55.515625 72.90625 \n",
       "L 65.375 72.90625 \n",
       "L 65.375 0 \n",
       "L 55.515625 0 \n",
       "L 55.515625 34.71875 \n",
       "L 19.671875 34.71875 \n",
       "L 19.671875 0 \n",
       "L 9.8125 0 \n",
       "z\n",
       "\" id=\"DejaVuSans-72\"/>\n",
       "        <path d=\"M 34.1875 63.1875 \n",
       "L 20.796875 26.90625 \n",
       "L 47.609375 26.90625 \n",
       "z\n",
       "M 28.609375 72.90625 \n",
       "L 39.796875 72.90625 \n",
       "L 67.578125 0 \n",
       "L 57.328125 0 \n",
       "L 50.6875 18.703125 \n",
       "L 17.828125 18.703125 \n",
       "L 11.1875 0 \n",
       "L 0.78125 0 \n",
       "z\n",
       "\" id=\"DejaVuSans-65\"/>\n",
       "       </defs>\n",
       "       <use xlink:href=\"#DejaVuSans-67\"/>\n",
       "       <use x=\"69.824219\" xlink:href=\"#DejaVuSans-72\"/>\n",
       "       <use x=\"145.019531\" xlink:href=\"#DejaVuSans-65\"/>\n",
       "       <use x=\"213.427734\" xlink:href=\"#DejaVuSans-83\"/>\n",
       "      </g>\n",
       "     </g>\n",
       "    </g>\n",
       "    <g id=\"ytick_5\">\n",
       "     <g id=\"line2d_11\">\n",
       "      <g>\n",
       "       <use style=\"stroke:#000000;stroke-width:0.8;\" x=\"69.559375\" xlink:href=\"#m9c20325091\" y=\"146.806364\"/>\n",
       "      </g>\n",
       "     </g>\n",
       "     <g id=\"text_12\">\n",
       "      <!-- NOX -->\n",
       "      <g transform=\"translate(40.99375 150.605582)scale(0.1 -0.1)\">\n",
       "       <defs>\n",
       "        <path d=\"M 39.40625 66.21875 \n",
       "Q 28.65625 66.21875 22.328125 58.203125 \n",
       "Q 16.015625 50.203125 16.015625 36.375 \n",
       "Q 16.015625 22.609375 22.328125 14.59375 \n",
       "Q 28.65625 6.59375 39.40625 6.59375 \n",
       "Q 50.140625 6.59375 56.421875 14.59375 \n",
       "Q 62.703125 22.609375 62.703125 36.375 \n",
       "Q 62.703125 50.203125 56.421875 58.203125 \n",
       "Q 50.140625 66.21875 39.40625 66.21875 \n",
       "z\n",
       "M 39.40625 74.21875 \n",
       "Q 54.734375 74.21875 63.90625 63.9375 \n",
       "Q 73.09375 53.65625 73.09375 36.375 \n",
       "Q 73.09375 19.140625 63.90625 8.859375 \n",
       "Q 54.734375 -1.421875 39.40625 -1.421875 \n",
       "Q 24.03125 -1.421875 14.8125 8.828125 \n",
       "Q 5.609375 19.09375 5.609375 36.375 \n",
       "Q 5.609375 53.65625 14.8125 63.9375 \n",
       "Q 24.03125 74.21875 39.40625 74.21875 \n",
       "z\n",
       "\" id=\"DejaVuSans-79\"/>\n",
       "        <path d=\"M 6.296875 72.90625 \n",
       "L 16.890625 72.90625 \n",
       "L 35.015625 45.796875 \n",
       "L 53.21875 72.90625 \n",
       "L 63.8125 72.90625 \n",
       "L 40.375 37.890625 \n",
       "L 65.375 0 \n",
       "L 54.78125 0 \n",
       "L 34.28125 31 \n",
       "L 13.625 0 \n",
       "L 2.984375 0 \n",
       "L 29 38.921875 \n",
       "z\n",
       "\" id=\"DejaVuSans-88\"/>\n",
       "       </defs>\n",
       "       <use xlink:href=\"#DejaVuSans-78\"/>\n",
       "       <use x=\"74.804688\" xlink:href=\"#DejaVuSans-79\"/>\n",
       "       <use x=\"147.140625\" xlink:href=\"#DejaVuSans-88\"/>\n",
       "      </g>\n",
       "     </g>\n",
       "    </g>\n",
       "    <g id=\"ytick_6\">\n",
       "     <g id=\"line2d_12\">\n",
       "      <g>\n",
       "       <use style=\"stroke:#000000;stroke-width:0.8;\" x=\"69.559375\" xlink:href=\"#m9c20325091\" y=\"131.363182\"/>\n",
       "      </g>\n",
       "     </g>\n",
       "     <g id=\"text_13\">\n",
       "      <!-- RM -->\n",
       "      <g transform=\"translate(46.982813 135.162401)scale(0.1 -0.1)\">\n",
       "       <use xlink:href=\"#DejaVuSans-82\"/>\n",
       "       <use x=\"69.482422\" xlink:href=\"#DejaVuSans-77\"/>\n",
       "      </g>\n",
       "     </g>\n",
       "    </g>\n",
       "    <g id=\"ytick_7\">\n",
       "     <g id=\"line2d_13\">\n",
       "      <g>\n",
       "       <use style=\"stroke:#000000;stroke-width:0.8;\" x=\"69.559375\" xlink:href=\"#m9c20325091\" y=\"115.92\"/>\n",
       "      </g>\n",
       "     </g>\n",
       "     <g id=\"text_14\">\n",
       "      <!-- AGE -->\n",
       "      <g transform=\"translate(41.826563 119.719219)scale(0.1 -0.1)\">\n",
       "       <defs>\n",
       "        <path d=\"M 59.515625 10.40625 \n",
       "L 59.515625 29.984375 \n",
       "L 43.40625 29.984375 \n",
       "L 43.40625 38.09375 \n",
       "L 69.28125 38.09375 \n",
       "L 69.28125 6.78125 \n",
       "Q 63.578125 2.734375 56.6875 0.65625 \n",
       "Q 49.8125 -1.421875 42 -1.421875 \n",
       "Q 24.90625 -1.421875 15.25 8.5625 \n",
       "Q 5.609375 18.5625 5.609375 36.375 \n",
       "Q 5.609375 54.25 15.25 64.234375 \n",
       "Q 24.90625 74.21875 42 74.21875 \n",
       "Q 49.125 74.21875 55.546875 72.453125 \n",
       "Q 61.96875 70.703125 67.390625 67.28125 \n",
       "L 67.390625 56.78125 \n",
       "Q 61.921875 61.421875 55.765625 63.765625 \n",
       "Q 49.609375 66.109375 42.828125 66.109375 \n",
       "Q 29.4375 66.109375 22.71875 58.640625 \n",
       "Q 16.015625 51.171875 16.015625 36.375 \n",
       "Q 16.015625 21.625 22.71875 14.15625 \n",
       "Q 29.4375 6.6875 42.828125 6.6875 \n",
       "Q 48.046875 6.6875 52.140625 7.59375 \n",
       "Q 56.25 8.5 59.515625 10.40625 \n",
       "z\n",
       "\" id=\"DejaVuSans-71\"/>\n",
       "        <path d=\"M 9.8125 72.90625 \n",
       "L 55.90625 72.90625 \n",
       "L 55.90625 64.59375 \n",
       "L 19.671875 64.59375 \n",
       "L 19.671875 43.015625 \n",
       "L 54.390625 43.015625 \n",
       "L 54.390625 34.71875 \n",
       "L 19.671875 34.71875 \n",
       "L 19.671875 8.296875 \n",
       "L 56.78125 8.296875 \n",
       "L 56.78125 0 \n",
       "L 9.8125 0 \n",
       "z\n",
       "\" id=\"DejaVuSans-69\"/>\n",
       "       </defs>\n",
       "       <use xlink:href=\"#DejaVuSans-65\"/>\n",
       "       <use x=\"66.658203\" xlink:href=\"#DejaVuSans-71\"/>\n",
       "       <use x=\"144.148438\" xlink:href=\"#DejaVuSans-69\"/>\n",
       "      </g>\n",
       "     </g>\n",
       "    </g>\n",
       "    <g id=\"ytick_8\">\n",
       "     <g id=\"line2d_14\">\n",
       "      <g>\n",
       "       <use style=\"stroke:#000000;stroke-width:0.8;\" x=\"69.559375\" xlink:href=\"#m9c20325091\" y=\"100.476818\"/>\n",
       "      </g>\n",
       "     </g>\n",
       "     <g id=\"text_15\">\n",
       "      <!-- DIS -->\n",
       "      <g transform=\"translate(45.560938 104.276037)scale(0.1 -0.1)\">\n",
       "       <use xlink:href=\"#DejaVuSans-68\"/>\n",
       "       <use x=\"77.001953\" xlink:href=\"#DejaVuSans-73\"/>\n",
       "       <use x=\"106.494141\" xlink:href=\"#DejaVuSans-83\"/>\n",
       "      </g>\n",
       "     </g>\n",
       "    </g>\n",
       "    <g id=\"ytick_9\">\n",
       "     <g id=\"line2d_15\">\n",
       "      <g>\n",
       "       <use style=\"stroke:#000000;stroke-width:0.8;\" x=\"69.559375\" xlink:href=\"#m9c20325091\" y=\"85.033636\"/>\n",
       "      </g>\n",
       "     </g>\n",
       "     <g id=\"text_16\">\n",
       "      <!-- RAD -->\n",
       "      <g transform=\"translate(41.470313 88.832855)scale(0.1 -0.1)\">\n",
       "       <use xlink:href=\"#DejaVuSans-82\"/>\n",
       "       <use x=\"65.482422\" xlink:href=\"#DejaVuSans-65\"/>\n",
       "       <use x=\"133.890625\" xlink:href=\"#DejaVuSans-68\"/>\n",
       "      </g>\n",
       "     </g>\n",
       "    </g>\n",
       "    <g id=\"ytick_10\">\n",
       "     <g id=\"line2d_16\">\n",
       "      <g>\n",
       "       <use style=\"stroke:#000000;stroke-width:0.8;\" x=\"69.559375\" xlink:href=\"#m9c20325091\" y=\"69.590455\"/>\n",
       "      </g>\n",
       "     </g>\n",
       "     <g id=\"text_17\">\n",
       "      <!-- TAX -->\n",
       "      <g transform=\"translate(43.535938 73.389673)scale(0.1 -0.1)\">\n",
       "       <defs>\n",
       "        <path d=\"M -0.296875 72.90625 \n",
       "L 61.375 72.90625 \n",
       "L 61.375 64.59375 \n",
       "L 35.5 64.59375 \n",
       "L 35.5 0 \n",
       "L 25.59375 0 \n",
       "L 25.59375 64.59375 \n",
       "L -0.296875 64.59375 \n",
       "z\n",
       "\" id=\"DejaVuSans-84\"/>\n",
       "       </defs>\n",
       "       <use xlink:href=\"#DejaVuSans-84\"/>\n",
       "       <use x=\"53.333984\" xlink:href=\"#DejaVuSans-65\"/>\n",
       "       <use x=\"121.742188\" xlink:href=\"#DejaVuSans-88\"/>\n",
       "      </g>\n",
       "     </g>\n",
       "    </g>\n",
       "    <g id=\"ytick_11\">\n",
       "     <g id=\"line2d_17\">\n",
       "      <g>\n",
       "       <use style=\"stroke:#000000;stroke-width:0.8;\" x=\"69.559375\" xlink:href=\"#m9c20325091\" y=\"54.147273\"/>\n",
       "      </g>\n",
       "     </g>\n",
       "     <g id=\"text_18\">\n",
       "      <!-- PTRATIO -->\n",
       "      <g transform=\"translate(20.878125 57.946491)scale(0.1 -0.1)\">\n",
       "       <defs>\n",
       "        <path d=\"M 19.671875 64.796875 \n",
       "L 19.671875 37.40625 \n",
       "L 32.078125 37.40625 \n",
       "Q 38.96875 37.40625 42.71875 40.96875 \n",
       "Q 46.484375 44.53125 46.484375 51.125 \n",
       "Q 46.484375 57.671875 42.71875 61.234375 \n",
       "Q 38.96875 64.796875 32.078125 64.796875 \n",
       "z\n",
       "M 9.8125 72.90625 \n",
       "L 32.078125 72.90625 \n",
       "Q 44.34375 72.90625 50.609375 67.359375 \n",
       "Q 56.890625 61.8125 56.890625 51.125 \n",
       "Q 56.890625 40.328125 50.609375 34.8125 \n",
       "Q 44.34375 29.296875 32.078125 29.296875 \n",
       "L 19.671875 29.296875 \n",
       "L 19.671875 0 \n",
       "L 9.8125 0 \n",
       "z\n",
       "\" id=\"DejaVuSans-80\"/>\n",
       "       </defs>\n",
       "       <use xlink:href=\"#DejaVuSans-80\"/>\n",
       "       <use x=\"60.302734\" xlink:href=\"#DejaVuSans-84\"/>\n",
       "       <use x=\"121.386719\" xlink:href=\"#DejaVuSans-82\"/>\n",
       "       <use x=\"186.869141\" xlink:href=\"#DejaVuSans-65\"/>\n",
       "       <use x=\"247.527344\" xlink:href=\"#DejaVuSans-84\"/>\n",
       "       <use x=\"308.611328\" xlink:href=\"#DejaVuSans-73\"/>\n",
       "       <use x=\"338.103516\" xlink:href=\"#DejaVuSans-79\"/>\n",
       "      </g>\n",
       "     </g>\n",
       "    </g>\n",
       "    <g id=\"ytick_12\">\n",
       "     <g id=\"line2d_18\">\n",
       "      <g>\n",
       "       <use style=\"stroke:#000000;stroke-width:0.8;\" x=\"69.559375\" xlink:href=\"#m9c20325091\" y=\"38.704091\"/>\n",
       "      </g>\n",
       "     </g>\n",
       "     <g id=\"text_19\">\n",
       "      <!-- B -->\n",
       "      <g transform=\"translate(55.698438 42.50331)scale(0.1 -0.1)\">\n",
       "       <defs>\n",
       "        <path d=\"M 19.671875 34.8125 \n",
       "L 19.671875 8.109375 \n",
       "L 35.5 8.109375 \n",
       "Q 43.453125 8.109375 47.28125 11.40625 \n",
       "Q 51.125 14.703125 51.125 21.484375 \n",
       "Q 51.125 28.328125 47.28125 31.5625 \n",
       "Q 43.453125 34.8125 35.5 34.8125 \n",
       "z\n",
       "M 19.671875 64.796875 \n",
       "L 19.671875 42.828125 \n",
       "L 34.28125 42.828125 \n",
       "Q 41.5 42.828125 45.03125 45.53125 \n",
       "Q 48.578125 48.25 48.578125 53.8125 \n",
       "Q 48.578125 59.328125 45.03125 62.0625 \n",
       "Q 41.5 64.796875 34.28125 64.796875 \n",
       "z\n",
       "M 9.8125 72.90625 \n",
       "L 35.015625 72.90625 \n",
       "Q 46.296875 72.90625 52.390625 68.21875 \n",
       "Q 58.5 63.53125 58.5 54.890625 \n",
       "Q 58.5 48.1875 55.375 44.234375 \n",
       "Q 52.25 40.28125 46.1875 39.3125 \n",
       "Q 53.46875 37.75 57.5 32.78125 \n",
       "Q 61.53125 27.828125 61.53125 20.40625 \n",
       "Q 61.53125 10.640625 54.890625 5.3125 \n",
       "Q 48.25 0 35.984375 0 \n",
       "L 9.8125 0 \n",
       "z\n",
       "\" id=\"DejaVuSans-66\"/>\n",
       "       </defs>\n",
       "       <use xlink:href=\"#DejaVuSans-66\"/>\n",
       "      </g>\n",
       "     </g>\n",
       "    </g>\n",
       "    <g id=\"ytick_13\">\n",
       "     <g id=\"line2d_19\">\n",
       "      <g>\n",
       "       <use style=\"stroke:#000000;stroke-width:0.8;\" x=\"69.559375\" xlink:href=\"#m9c20325091\" y=\"23.260909\"/>\n",
       "      </g>\n",
       "     </g>\n",
       "     <g id=\"text_20\">\n",
       "      <!-- LSTAT -->\n",
       "      <g transform=\"translate(33.132813 27.060128)scale(0.1 -0.1)\">\n",
       "       <defs>\n",
       "        <path d=\"M 9.8125 72.90625 \n",
       "L 19.671875 72.90625 \n",
       "L 19.671875 8.296875 \n",
       "L 55.171875 8.296875 \n",
       "L 55.171875 0 \n",
       "L 9.8125 0 \n",
       "z\n",
       "\" id=\"DejaVuSans-76\"/>\n",
       "       </defs>\n",
       "       <use xlink:href=\"#DejaVuSans-76\"/>\n",
       "       <use x=\"55.712891\" xlink:href=\"#DejaVuSans-83\"/>\n",
       "       <use x=\"119.189453\" xlink:href=\"#DejaVuSans-84\"/>\n",
       "       <use x=\"172.523438\" xlink:href=\"#DejaVuSans-65\"/>\n",
       "       <use x=\"233.181641\" xlink:href=\"#DejaVuSans-84\"/>\n",
       "      </g>\n",
       "     </g>\n",
       "    </g>\n",
       "    <g id=\"text_21\">\n",
       "     <!-- Название признака -->\n",
       "     <g transform=\"translate(14.798438 167.365312)rotate(-90)scale(0.1 -0.1)\">\n",
       "      <defs>\n",
       "       <path d=\"M 9.8125 72.90625 \n",
       "L 19.671875 72.90625 \n",
       "L 19.671875 43.015625 \n",
       "L 55.515625 43.015625 \n",
       "L 55.515625 72.90625 \n",
       "L 65.375 72.90625 \n",
       "L 65.375 0 \n",
       "L 55.515625 0 \n",
       "L 55.515625 34.71875 \n",
       "L 19.671875 34.71875 \n",
       "L 19.671875 0 \n",
       "L 9.8125 0 \n",
       "z\n",
       "\" id=\"DejaVuSans-1053\"/>\n",
       "       <path d=\"M 18.0625 25.203125 \n",
       "L 18.0625 7.171875 \n",
       "L 30.859375 7.171875 \n",
       "Q 37.015625 7.171875 40.234375 9.484375 \n",
       "Q 43.453125 11.8125 43.453125 16.21875 \n",
       "Q 43.453125 20.609375 40.234375 22.90625 \n",
       "Q 37.015625 25.203125 30.859375 25.203125 \n",
       "z\n",
       "M 18.0625 47.515625 \n",
       "L 18.0625 32.375 \n",
       "L 29.890625 32.375 \n",
       "Q 34.96875 32.375 38.1875 34.390625 \n",
       "Q 41.40625 36.421875 41.40625 40.046875 \n",
       "Q 41.40625 43.65625 38.1875 45.578125 \n",
       "Q 34.96875 47.515625 29.890625 47.515625 \n",
       "z\n",
       "M 9.078125 54.6875 \n",
       "L 30.46875 54.6875 \n",
       "Q 40.09375 54.6875 45.265625 51.171875 \n",
       "Q 50.4375 47.65625 50.4375 41.15625 \n",
       "Q 50.4375 36.140625 47.796875 33.171875 \n",
       "Q 45.171875 30.21875 39.984375 29.5 \n",
       "Q 46.1875 28.328125 49.609375 24.609375 \n",
       "Q 53.03125 20.90625 53.03125 15.328125 \n",
       "Q 53.03125 8.015625 47.390625 4 \n",
       "Q 41.75 0 31.296875 0 \n",
       "L 9.078125 0 \n",
       "z\n",
       "\" id=\"DejaVuSans-1074\"/>\n",
       "      </defs>\n",
       "      <use xlink:href=\"#DejaVuSans-1053\"/>\n",
       "      <use x=\"75.195312\" xlink:href=\"#DejaVuSans-1072\"/>\n",
       "      <use x=\"136.474609\" xlink:href=\"#DejaVuSans-1079\"/>\n",
       "      <use x=\"189.648438\" xlink:href=\"#DejaVuSans-1074\"/>\n",
       "      <use x=\"248.583984\" xlink:href=\"#DejaVuSans-1072\"/>\n",
       "      <use x=\"309.863281\" xlink:href=\"#DejaVuSans-1085\"/>\n",
       "      <use x=\"375.244141\" xlink:href=\"#DejaVuSans-1080\"/>\n",
       "      <use x=\"440.234375\" xlink:href=\"#DejaVuSans-1077\"/>\n",
       "      <use x=\"501.757812\" xlink:href=\"#DejaVuSans-32\"/>\n",
       "      <use x=\"533.544922\" xlink:href=\"#DejaVuSans-1087\"/>\n",
       "      <use x=\"598.925781\" xlink:href=\"#DejaVuSans-1088\"/>\n",
       "      <use x=\"662.402344\" xlink:href=\"#DejaVuSans-1080\"/>\n",
       "      <use x=\"727.392578\" xlink:href=\"#DejaVuSans-1079\"/>\n",
       "      <use x=\"780.566406\" xlink:href=\"#DejaVuSans-1085\"/>\n",
       "      <use x=\"845.947266\" xlink:href=\"#DejaVuSans-1072\"/>\n",
       "      <use x=\"907.226562\" xlink:href=\"#DejaVuSans-1082\"/>\n",
       "      <use x=\"967.626953\" xlink:href=\"#DejaVuSans-1072\"/>\n",
       "     </g>\n",
       "    </g>\n",
       "   </g>\n",
       "   <g id=\"patch_16\">\n",
       "    <path d=\"M 69.559375 224.64 \n",
       "L 69.559375 7.2 \n",
       "\" style=\"fill:none;stroke:#000000;stroke-linecap:square;stroke-linejoin:miter;stroke-width:0.8;\"/>\n",
       "   </g>\n",
       "   <g id=\"patch_17\">\n",
       "    <path d=\"M 404.359375 224.64 \n",
       "L 404.359375 7.2 \n",
       "\" style=\"fill:none;stroke:#000000;stroke-linecap:square;stroke-linejoin:miter;stroke-width:0.8;\"/>\n",
       "   </g>\n",
       "   <g id=\"patch_18\">\n",
       "    <path d=\"M 69.559375 224.64 \n",
       "L 404.359375 224.64 \n",
       "\" style=\"fill:none;stroke:#000000;stroke-linecap:square;stroke-linejoin:miter;stroke-width:0.8;\"/>\n",
       "   </g>\n",
       "   <g id=\"patch_19\">\n",
       "    <path d=\"M 69.559375 7.2 \n",
       "L 404.359375 7.2 \n",
       "\" style=\"fill:none;stroke:#000000;stroke-linecap:square;stroke-linejoin:miter;stroke-width:0.8;\"/>\n",
       "   </g>\n",
       "  </g>\n",
       " </g>\n",
       " <defs>\n",
       "  <clipPath id=\"p7d37e10be1\">\n",
       "   <rect height=\"217.44\" width=\"334.8\" x=\"69.559375\" y=\"7.2\"/>\n",
       "  </clipPath>\n",
       " </defs>\n",
       "</svg>\n"
      ],
      "text/plain": [
       "<Figure size 432x288 with 1 Axes>"
      ]
     },
     "metadata": {
      "needs_background": "light"
     },
     "output_type": "display_data"
    }
   ],
   "source": [
    "plt.barh(boston_data_train.columns, lr.coef_.flatten())\n",
    "plt.xlabel('Вес признака')\n",
    "plt.ylabel('Название признака')"
   ]
  },
  {
   "cell_type": "markdown",
   "id": "190767cb",
   "metadata": {},
   "source": [
    "> !!! по данным признакам мы не можем определить вклад каждого признака в итоговую цену!!! <br>\n",
    "т.к. признаки не масштабированы и имеют разный масштаб значений"
   ]
  },
  {
   "cell_type": "markdown",
   "id": "578e4aec",
   "metadata": {},
   "source": [
    "## 06 Стандартизация признаков"
   ]
  },
  {
   "cell_type": "markdown",
   "id": "d374769b",
   "metadata": {},
   "source": [
    "> от значения признака отнимается средняя по данному признаку и делиться на среднеквадратичное отклонение"
   ]
  },
  {
   "cell_type": "markdown",
   "id": "c8881c14",
   "metadata": {},
   "source": [
    "${X}_{scaled} =  \\Bigg[\\frac{ x - {x}_{mean}} {\\sigma_{x}}\\Bigg] $"
   ]
  },
  {
   "cell_type": "code",
   "execution_count": 178,
   "id": "a6cbcd93",
   "metadata": {},
   "outputs": [],
   "source": [
    "from sklearn.preprocessing import StandardScaler"
   ]
  },
  {
   "cell_type": "code",
   "execution_count": 179,
   "id": "afe12463",
   "metadata": {},
   "outputs": [],
   "source": [
    "# создаем объект scaler, с помощью него будем стандартизировать признаки\n",
    "scaler = StandardScaler()"
   ]
  },
  {
   "cell_type": "code",
   "execution_count": 184,
   "id": "a098e7ed",
   "metadata": {},
   "outputs": [],
   "source": [
    "# вычисляем среднее значение и среднеквадратичное значение для каждого признаков в датафрейме \n",
    "# и сразу вычиляем стандартизированное значение для каждого признака\n",
    "boston_data_train_scaled = scaler.fit_transform(boston_data_train)"
   ]
  },
  {
   "cell_type": "code",
   "execution_count": 187,
   "id": "afb95adc",
   "metadata": {},
   "outputs": [
    {
     "data": {
      "text/plain": [
       "numpy.ndarray"
      ]
     },
     "execution_count": 187,
     "metadata": {},
     "output_type": "execute_result"
    }
   ],
   "source": [
    "type(boston_data_train_scaled)"
   ]
  },
  {
   "cell_type": "code",
   "execution_count": 188,
   "id": "db1e381a",
   "metadata": {},
   "outputs": [
    {
     "data": {
      "text/plain": [
       "(379, 13)"
      ]
     },
     "execution_count": 188,
     "metadata": {},
     "output_type": "execute_result"
    }
   ],
   "source": [
    "boston_data_train_scaled.shape"
   ]
  },
  {
   "cell_type": "code",
   "execution_count": 189,
   "id": "5d46160c",
   "metadata": {},
   "outputs": [],
   "source": [
    "# создаем из массива numpy датафрейм\n",
    "boston_data_train_scaled = pd.DataFrame(boston_data_train_scaled, columns=boston_data_train.columns)"
   ]
  },
  {
   "cell_type": "code",
   "execution_count": 190,
   "id": "d31290cf",
   "metadata": {},
   "outputs": [],
   "source": [
    "# применяем стандартизацию к датафрейму x_test\n",
    "boston_data_test_scaled = scaler.transform(boston_data_test)"
   ]
  },
  {
   "cell_type": "code",
   "execution_count": 191,
   "id": "3d46fca0",
   "metadata": {},
   "outputs": [
    {
     "data": {
      "text/plain": [
       "numpy.ndarray"
      ]
     },
     "execution_count": 191,
     "metadata": {},
     "output_type": "execute_result"
    }
   ],
   "source": [
    "# получаем массив в котором каждый признак стандартизирован с помощью среднего значения \n",
    "# и среднеквадратичного отклонения вычисленных на тренеровочной выборке\n",
    "type(boston_data_test_scaled)"
   ]
  },
  {
   "cell_type": "code",
   "execution_count": 192,
   "id": "57d51c97",
   "metadata": {},
   "outputs": [],
   "source": [
    "boston_data_test_scaled = pd.DataFrame(boston_data_test_scaled, columns=boston_data_test.columns)"
   ]
  },
  {
   "cell_type": "code",
   "execution_count": 193,
   "id": "cffe756a",
   "metadata": {},
   "outputs": [
    {
     "data": {
      "text/html": [
       "<div>\n",
       "<style scoped>\n",
       "    .dataframe tbody tr th:only-of-type {\n",
       "        vertical-align: middle;\n",
       "    }\n",
       "\n",
       "    .dataframe tbody tr th {\n",
       "        vertical-align: top;\n",
       "    }\n",
       "\n",
       "    .dataframe thead th {\n",
       "        text-align: right;\n",
       "    }\n",
       "</style>\n",
       "<table border=\"1\" class=\"dataframe\">\n",
       "  <thead>\n",
       "    <tr style=\"text-align: right;\">\n",
       "      <th></th>\n",
       "      <th>CRIM</th>\n",
       "      <th>ZN</th>\n",
       "      <th>INDUS</th>\n",
       "      <th>CHAS</th>\n",
       "      <th>NOX</th>\n",
       "      <th>RM</th>\n",
       "      <th>AGE</th>\n",
       "      <th>DIS</th>\n",
       "      <th>RAD</th>\n",
       "      <th>TAX</th>\n",
       "      <th>PTRATIO</th>\n",
       "      <th>B</th>\n",
       "      <th>LSTAT</th>\n",
       "    </tr>\n",
       "  </thead>\n",
       "  <tbody>\n",
       "    <tr>\n",
       "      <th>0</th>\n",
       "      <td>0.397841</td>\n",
       "      <td>-0.504456</td>\n",
       "      <td>1.042276</td>\n",
       "      <td>3.684688</td>\n",
       "      <td>1.933374</td>\n",
       "      <td>-0.256333</td>\n",
       "      <td>0.551440</td>\n",
       "      <td>-0.550762</td>\n",
       "      <td>1.740699</td>\n",
       "      <td>1.585865</td>\n",
       "      <td>0.813598</td>\n",
       "      <td>0.425956</td>\n",
       "      <td>-0.114403</td>\n",
       "    </tr>\n",
       "    <tr>\n",
       "      <th>1</th>\n",
       "      <td>-0.468914</td>\n",
       "      <td>3.016114</td>\n",
       "      <td>-1.373737</td>\n",
       "      <td>-0.271393</td>\n",
       "      <td>-1.260443</td>\n",
       "      <td>1.239272</td>\n",
       "      <td>-1.121584</td>\n",
       "      <td>1.664444</td>\n",
       "      <td>-0.848303</td>\n",
       "      <td>-0.436919</td>\n",
       "      <td>-2.852684</td>\n",
       "      <td>-0.027547</td>\n",
       "      <td>-0.555789</td>\n",
       "    </tr>\n",
       "    <tr>\n",
       "      <th>2</th>\n",
       "      <td>-0.434075</td>\n",
       "      <td>-0.504456</td>\n",
       "      <td>-0.588314</td>\n",
       "      <td>-0.271393</td>\n",
       "      <td>-0.876486</td>\n",
       "      <td>-1.367354</td>\n",
       "      <td>0.976846</td>\n",
       "      <td>0.969400</td>\n",
       "      <td>-0.730621</td>\n",
       "      <td>-1.013142</td>\n",
       "      <td>-0.295935</td>\n",
       "      <td>0.442168</td>\n",
       "      <td>2.858416</td>\n",
       "    </tr>\n",
       "    <tr>\n",
       "      <th>3</th>\n",
       "      <td>0.652726</td>\n",
       "      <td>-0.504456</td>\n",
       "      <td>1.042276</td>\n",
       "      <td>-0.271393</td>\n",
       "      <td>1.435977</td>\n",
       "      <td>0.692918</td>\n",
       "      <td>0.880325</td>\n",
       "      <td>-0.743530</td>\n",
       "      <td>1.740699</td>\n",
       "      <td>1.585865</td>\n",
       "      <td>0.813598</td>\n",
       "      <td>-3.931624</td>\n",
       "      <td>0.802203</td>\n",
       "    </tr>\n",
       "    <tr>\n",
       "      <th>4</th>\n",
       "      <td>1.721625</td>\n",
       "      <td>-0.504456</td>\n",
       "      <td>1.042276</td>\n",
       "      <td>-0.271393</td>\n",
       "      <td>0.275382</td>\n",
       "      <td>-0.888150</td>\n",
       "      <td>-0.403042</td>\n",
       "      <td>-0.501979</td>\n",
       "      <td>1.740699</td>\n",
       "      <td>1.585865</td>\n",
       "      <td>0.813598</td>\n",
       "      <td>0.442168</td>\n",
       "      <td>0.390038</td>\n",
       "    </tr>\n",
       "    <tr>\n",
       "      <th>...</th>\n",
       "      <td>...</td>\n",
       "      <td>...</td>\n",
       "      <td>...</td>\n",
       "      <td>...</td>\n",
       "      <td>...</td>\n",
       "      <td>...</td>\n",
       "      <td>...</td>\n",
       "      <td>...</td>\n",
       "      <td>...</td>\n",
       "      <td>...</td>\n",
       "      <td>...</td>\n",
       "      <td>...</td>\n",
       "      <td>...</td>\n",
       "    </tr>\n",
       "    <tr>\n",
       "      <th>122</th>\n",
       "      <td>-0.473886</td>\n",
       "      <td>3.456186</td>\n",
       "      <td>-1.300878</td>\n",
       "      <td>-0.271393</td>\n",
       "      <td>-1.208085</td>\n",
       "      <td>0.660870</td>\n",
       "      <td>-1.139458</td>\n",
       "      <td>3.991322</td>\n",
       "      <td>-0.495258</td>\n",
       "      <td>-1.289249</td>\n",
       "      <td>-0.730100</td>\n",
       "      <td>0.304970</td>\n",
       "      <td>-1.187879</td>\n",
       "    </tr>\n",
       "    <tr>\n",
       "      <th>123</th>\n",
       "      <td>1.091789</td>\n",
       "      <td>-0.504456</td>\n",
       "      <td>1.042276</td>\n",
       "      <td>-0.271393</td>\n",
       "      <td>1.435977</td>\n",
       "      <td>-0.167818</td>\n",
       "      <td>1.098390</td>\n",
       "      <td>-0.773476</td>\n",
       "      <td>1.740699</td>\n",
       "      <td>1.585865</td>\n",
       "      <td>0.813598</td>\n",
       "      <td>0.442168</td>\n",
       "      <td>0.908320</td>\n",
       "    </tr>\n",
       "    <tr>\n",
       "      <th>124</th>\n",
       "      <td>-0.373938</td>\n",
       "      <td>0.375686</td>\n",
       "      <td>-1.016727</td>\n",
       "      <td>-0.271393</td>\n",
       "      <td>0.860042</td>\n",
       "      <td>3.676498</td>\n",
       "      <td>0.676559</td>\n",
       "      <td>-0.995948</td>\n",
       "      <td>-0.495258</td>\n",
       "      <td>-0.827070</td>\n",
       "      <td>-2.659721</td>\n",
       "      <td>0.362761</td>\n",
       "      <td>-1.092527</td>\n",
       "    </tr>\n",
       "    <tr>\n",
       "      <th>125</th>\n",
       "      <td>1.243768</td>\n",
       "      <td>-0.504456</td>\n",
       "      <td>1.042276</td>\n",
       "      <td>-0.271393</td>\n",
       "      <td>0.572075</td>\n",
       "      <td>-0.167818</td>\n",
       "      <td>1.026893</td>\n",
       "      <td>-0.817478</td>\n",
       "      <td>1.740699</td>\n",
       "      <td>1.585865</td>\n",
       "      <td>0.813598</td>\n",
       "      <td>0.252473</td>\n",
       "      <td>0.892941</td>\n",
       "    </tr>\n",
       "    <tr>\n",
       "      <th>126</th>\n",
       "      <td>14.483270</td>\n",
       "      <td>-0.504456</td>\n",
       "      <td>1.042276</td>\n",
       "      <td>-0.271393</td>\n",
       "      <td>1.069473</td>\n",
       "      <td>1.027140</td>\n",
       "      <td>0.855301</td>\n",
       "      <td>-1.181664</td>\n",
       "      <td>1.740699</td>\n",
       "      <td>1.585865</td>\n",
       "      <td>0.813598</td>\n",
       "      <td>0.442168</td>\n",
       "      <td>0.766831</td>\n",
       "    </tr>\n",
       "  </tbody>\n",
       "</table>\n",
       "<p>127 rows × 13 columns</p>\n",
       "</div>"
      ],
      "text/plain": [
       "          CRIM        ZN     INDUS      CHAS       NOX        RM       AGE  \\\n",
       "0     0.397841 -0.504456  1.042276  3.684688  1.933374 -0.256333  0.551440   \n",
       "1    -0.468914  3.016114 -1.373737 -0.271393 -1.260443  1.239272 -1.121584   \n",
       "2    -0.434075 -0.504456 -0.588314 -0.271393 -0.876486 -1.367354  0.976846   \n",
       "3     0.652726 -0.504456  1.042276 -0.271393  1.435977  0.692918  0.880325   \n",
       "4     1.721625 -0.504456  1.042276 -0.271393  0.275382 -0.888150 -0.403042   \n",
       "..         ...       ...       ...       ...       ...       ...       ...   \n",
       "122  -0.473886  3.456186 -1.300878 -0.271393 -1.208085  0.660870 -1.139458   \n",
       "123   1.091789 -0.504456  1.042276 -0.271393  1.435977 -0.167818  1.098390   \n",
       "124  -0.373938  0.375686 -1.016727 -0.271393  0.860042  3.676498  0.676559   \n",
       "125   1.243768 -0.504456  1.042276 -0.271393  0.572075 -0.167818  1.026893   \n",
       "126  14.483270 -0.504456  1.042276 -0.271393  1.069473  1.027140  0.855301   \n",
       "\n",
       "          DIS       RAD       TAX   PTRATIO         B     LSTAT  \n",
       "0   -0.550762  1.740699  1.585865  0.813598  0.425956 -0.114403  \n",
       "1    1.664444 -0.848303 -0.436919 -2.852684 -0.027547 -0.555789  \n",
       "2    0.969400 -0.730621 -1.013142 -0.295935  0.442168  2.858416  \n",
       "3   -0.743530  1.740699  1.585865  0.813598 -3.931624  0.802203  \n",
       "4   -0.501979  1.740699  1.585865  0.813598  0.442168  0.390038  \n",
       "..        ...       ...       ...       ...       ...       ...  \n",
       "122  3.991322 -0.495258 -1.289249 -0.730100  0.304970 -1.187879  \n",
       "123 -0.773476  1.740699  1.585865  0.813598  0.442168  0.908320  \n",
       "124 -0.995948 -0.495258 -0.827070 -2.659721  0.362761 -1.092527  \n",
       "125 -0.817478  1.740699  1.585865  0.813598  0.252473  0.892941  \n",
       "126 -1.181664  1.740699  1.585865  0.813598  0.442168  0.766831  \n",
       "\n",
       "[127 rows x 13 columns]"
      ]
     },
     "execution_count": 193,
     "metadata": {},
     "output_type": "execute_result"
    }
   ],
   "source": [
    "boston_data_test_scaled"
   ]
  },
  {
   "cell_type": "code",
   "execution_count": 194,
   "id": "d50d11cf",
   "metadata": {},
   "outputs": [
    {
     "data": {
      "text/plain": [
       "LinearRegression()"
      ]
     },
     "execution_count": 194,
     "metadata": {},
     "output_type": "execute_result"
    }
   ],
   "source": [
    "# Пострим новую модель на основе стандартизированных признаков\n",
    "lr.fit(boston_data_train_scaled, true_price_train)"
   ]
  },
  {
   "cell_type": "code",
   "execution_count": 196,
   "id": "85c20a5a",
   "metadata": {},
   "outputs": [
    {
     "data": {
      "text/plain": [
       "Text(0, 0.5, 'Название признака')"
      ]
     },
     "execution_count": 196,
     "metadata": {},
     "output_type": "execute_result"
    },
    {
     "data": {
      "image/svg+xml": [
       "<?xml version=\"1.0\" encoding=\"utf-8\" standalone=\"no\"?>\n",
       "<!DOCTYPE svg PUBLIC \"-//W3C//DTD SVG 1.1//EN\"\n",
       "  \"http://www.w3.org/Graphics/SVG/1.1/DTD/svg11.dtd\">\n",
       "<!-- Created with matplotlib (https://matplotlib.org/) -->\n",
       "<svg height=\"262.19625pt\" version=\"1.1\" viewBox=\"0 0 411.559375 262.19625\" width=\"411.559375pt\" xmlns=\"http://www.w3.org/2000/svg\" xmlns:xlink=\"http://www.w3.org/1999/xlink\">\n",
       " <metadata>\n",
       "  <rdf:RDF xmlns:cc=\"http://creativecommons.org/ns#\" xmlns:dc=\"http://purl.org/dc/elements/1.1/\" xmlns:rdf=\"http://www.w3.org/1999/02/22-rdf-syntax-ns#\">\n",
       "   <cc:Work>\n",
       "    <dc:type rdf:resource=\"http://purl.org/dc/dcmitype/StillImage\"/>\n",
       "    <dc:date>2021-10-17T22:23:55.621974</dc:date>\n",
       "    <dc:format>image/svg+xml</dc:format>\n",
       "    <dc:creator>\n",
       "     <cc:Agent>\n",
       "      <dc:title>Matplotlib v3.3.4, https://matplotlib.org/</dc:title>\n",
       "     </cc:Agent>\n",
       "    </dc:creator>\n",
       "   </cc:Work>\n",
       "  </rdf:RDF>\n",
       " </metadata>\n",
       " <defs>\n",
       "  <style type=\"text/css\">*{stroke-linecap:butt;stroke-linejoin:round;}</style>\n",
       " </defs>\n",
       " <g id=\"figure_1\">\n",
       "  <g id=\"patch_1\">\n",
       "   <path d=\"M -0 262.19625 \n",
       "L 411.559375 262.19625 \n",
       "L 411.559375 0 \n",
       "L -0 0 \n",
       "z\n",
       "\" style=\"fill:none;\"/>\n",
       "  </g>\n",
       "  <g id=\"axes_1\">\n",
       "   <g id=\"patch_2\">\n",
       "    <path d=\"M 69.559375 224.64 \n",
       "L 404.359375 224.64 \n",
       "L 404.359375 7.2 \n",
       "L 69.559375 7.2 \n",
       "z\n",
       "\" style=\"fill:#ffffff;\"/>\n",
       "   </g>\n",
       "   <g id=\"patch_3\">\n",
       "    <path clip-path=\"url(#p04db0661d8)\" d=\"M 267.00867 214.756364 \n",
       "L 234.274891 214.756364 \n",
       "L 234.274891 202.401818 \n",
       "L 267.00867 202.401818 \n",
       "z\n",
       "\" style=\"fill:#1f77b4;\"/>\n",
       "   </g>\n",
       "   <g id=\"patch_4\">\n",
       "    <path clip-path=\"url(#p04db0661d8)\" d=\"M 267.00867 199.313182 \n",
       "L 307.672112 199.313182 \n",
       "L 307.672112 186.958636 \n",
       "L 267.00867 186.958636 \n",
       "z\n",
       "\" style=\"fill:#1f77b4;\"/>\n",
       "   </g>\n",
       "   <g id=\"patch_5\">\n",
       "    <path clip-path=\"url(#p04db0661d8)\" d=\"M 267.00867 183.87 \n",
       "L 255.310994 183.87 \n",
       "L 255.310994 171.515455 \n",
       "L 267.00867 171.515455 \n",
       "z\n",
       "\" style=\"fill:#1f77b4;\"/>\n",
       "   </g>\n",
       "   <g id=\"patch_6\">\n",
       "    <path clip-path=\"url(#p04db0661d8)\" d=\"M 267.00867 168.426818 \n",
       "L 305.897231 168.426818 \n",
       "L 305.897231 156.072273 \n",
       "L 267.00867 156.072273 \n",
       "z\n",
       "\" style=\"fill:#1f77b4;\"/>\n",
       "   </g>\n",
       "   <g id=\"patch_7\">\n",
       "    <path clip-path=\"url(#p04db0661d8)\" d=\"M 267.00867 152.983636 \n",
       "L 164.550766 152.983636 \n",
       "L 164.550766 140.629091 \n",
       "L 267.00867 140.629091 \n",
       "z\n",
       "\" style=\"fill:#1f77b4;\"/>\n",
       "   </g>\n",
       "   <g id=\"patch_8\">\n",
       "    <path clip-path=\"url(#p04db0661d8)\" d=\"M 267.00867 137.540455 \n",
       "L 389.141193 137.540455 \n",
       "L 389.141193 125.185909 \n",
       "L 267.00867 125.185909 \n",
       "z\n",
       "\" style=\"fill:#1f77b4;\"/>\n",
       "   </g>\n",
       "   <g id=\"patch_9\">\n",
       "    <path clip-path=\"url(#p04db0661d8)\" d=\"M 267.00867 122.097273 \n",
       "L 263.016252 122.097273 \n",
       "L 263.016252 109.742727 \n",
       "L 267.00867 109.742727 \n",
       "z\n",
       "\" style=\"fill:#1f77b4;\"/>\n",
       "   </g>\n",
       "   <g id=\"patch_10\">\n",
       "    <path clip-path=\"url(#p04db0661d8)\" d=\"M 267.00867 106.654091 \n",
       "L 117.632931 106.654091 \n",
       "L 117.632931 94.299545 \n",
       "L 267.00867 94.299545 \n",
       "z\n",
       "\" style=\"fill:#1f77b4;\"/>\n",
       "   </g>\n",
       "   <g id=\"patch_11\">\n",
       "    <path clip-path=\"url(#p04db0661d8)\" d=\"M 267.00867 91.210909 \n",
       "L 385.061077 91.210909 \n",
       "L 385.061077 78.856364 \n",
       "L 267.00867 78.856364 \n",
       "z\n",
       "\" style=\"fill:#1f77b4;\"/>\n",
       "   </g>\n",
       "   <g id=\"patch_12\">\n",
       "    <path clip-path=\"url(#p04db0661d8)\" d=\"M 267.00867 75.767727 \n",
       "L 178.048679 75.767727 \n",
       "L 178.048679 63.413182 \n",
       "L 267.00867 63.413182 \n",
       "z\n",
       "\" style=\"fill:#1f77b4;\"/>\n",
       "   </g>\n",
       "   <g id=\"patch_13\">\n",
       "    <path clip-path=\"url(#p04db0661d8)\" d=\"M 267.00867 60.324545 \n",
       "L 172.850322 60.324545 \n",
       "L 172.850322 47.97 \n",
       "L 267.00867 47.97 \n",
       "z\n",
       "\" style=\"fill:#1f77b4;\"/>\n",
       "   </g>\n",
       "   <g id=\"patch_14\">\n",
       "    <path clip-path=\"url(#p04db0661d8)\" d=\"M 267.00867 44.881364 \n",
       "L 297.510587 44.881364 \n",
       "L 297.510587 32.526818 \n",
       "L 267.00867 32.526818 \n",
       "z\n",
       "\" style=\"fill:#1f77b4;\"/>\n",
       "   </g>\n",
       "   <g id=\"patch_15\">\n",
       "    <path clip-path=\"url(#p04db0661d8)\" d=\"M 267.00867 29.438182 \n",
       "L 84.777557 29.438182 \n",
       "L 84.777557 17.083636 \n",
       "L 267.00867 17.083636 \n",
       "z\n",
       "\" style=\"fill:#1f77b4;\"/>\n",
       "   </g>\n",
       "   <g id=\"matplotlib.axis_1\">\n",
       "    <g id=\"xtick_1\">\n",
       "     <g id=\"line2d_1\">\n",
       "      <defs>\n",
       "       <path d=\"M 0 0 \n",
       "L 0 3.5 \n",
       "\" id=\"m3b811cd422\" style=\"stroke:#000000;stroke-width:0.8;\"/>\n",
       "      </defs>\n",
       "      <g>\n",
       "       <use style=\"stroke:#000000;stroke-width:0.8;\" x=\"111.230816\" xlink:href=\"#m3b811cd422\" y=\"224.64\"/>\n",
       "      </g>\n",
       "     </g>\n",
       "     <g id=\"text_1\">\n",
       "      <!-- −3 -->\n",
       "      <g transform=\"translate(103.859723 239.238437)scale(0.1 -0.1)\">\n",
       "       <defs>\n",
       "        <path d=\"M 10.59375 35.5 \n",
       "L 73.1875 35.5 \n",
       "L 73.1875 27.203125 \n",
       "L 10.59375 27.203125 \n",
       "z\n",
       "\" id=\"DejaVuSans-8722\"/>\n",
       "        <path d=\"M 40.578125 39.3125 \n",
       "Q 47.65625 37.796875 51.625 33 \n",
       "Q 55.609375 28.21875 55.609375 21.1875 \n",
       "Q 55.609375 10.40625 48.1875 4.484375 \n",
       "Q 40.765625 -1.421875 27.09375 -1.421875 \n",
       "Q 22.515625 -1.421875 17.65625 -0.515625 \n",
       "Q 12.796875 0.390625 7.625 2.203125 \n",
       "L 7.625 11.71875 \n",
       "Q 11.71875 9.328125 16.59375 8.109375 \n",
       "Q 21.484375 6.890625 26.8125 6.890625 \n",
       "Q 36.078125 6.890625 40.9375 10.546875 \n",
       "Q 45.796875 14.203125 45.796875 21.1875 \n",
       "Q 45.796875 27.640625 41.28125 31.265625 \n",
       "Q 36.765625 34.90625 28.71875 34.90625 \n",
       "L 20.21875 34.90625 \n",
       "L 20.21875 43.015625 \n",
       "L 29.109375 43.015625 \n",
       "Q 36.375 43.015625 40.234375 45.921875 \n",
       "Q 44.09375 48.828125 44.09375 54.296875 \n",
       "Q 44.09375 59.90625 40.109375 62.90625 \n",
       "Q 36.140625 65.921875 28.71875 65.921875 \n",
       "Q 24.65625 65.921875 20.015625 65.03125 \n",
       "Q 15.375 64.15625 9.8125 62.3125 \n",
       "L 9.8125 71.09375 \n",
       "Q 15.4375 72.65625 20.34375 73.4375 \n",
       "Q 25.25 74.21875 29.59375 74.21875 \n",
       "Q 40.828125 74.21875 47.359375 69.109375 \n",
       "Q 53.90625 64.015625 53.90625 55.328125 \n",
       "Q 53.90625 49.265625 50.4375 45.09375 \n",
       "Q 46.96875 40.921875 40.578125 39.3125 \n",
       "z\n",
       "\" id=\"DejaVuSans-51\"/>\n",
       "       </defs>\n",
       "       <use xlink:href=\"#DejaVuSans-8722\"/>\n",
       "       <use x=\"83.789062\" xlink:href=\"#DejaVuSans-51\"/>\n",
       "      </g>\n",
       "     </g>\n",
       "    </g>\n",
       "    <g id=\"xtick_2\">\n",
       "     <g id=\"line2d_2\">\n",
       "      <g>\n",
       "       <use style=\"stroke:#000000;stroke-width:0.8;\" x=\"163.156768\" xlink:href=\"#m3b811cd422\" y=\"224.64\"/>\n",
       "      </g>\n",
       "     </g>\n",
       "     <g id=\"text_2\">\n",
       "      <!-- −2 -->\n",
       "      <g transform=\"translate(155.785674 239.238437)scale(0.1 -0.1)\">\n",
       "       <defs>\n",
       "        <path d=\"M 19.1875 8.296875 \n",
       "L 53.609375 8.296875 \n",
       "L 53.609375 0 \n",
       "L 7.328125 0 \n",
       "L 7.328125 8.296875 \n",
       "Q 12.9375 14.109375 22.625 23.890625 \n",
       "Q 32.328125 33.6875 34.8125 36.53125 \n",
       "Q 39.546875 41.84375 41.421875 45.53125 \n",
       "Q 43.3125 49.21875 43.3125 52.78125 \n",
       "Q 43.3125 58.59375 39.234375 62.25 \n",
       "Q 35.15625 65.921875 28.609375 65.921875 \n",
       "Q 23.96875 65.921875 18.8125 64.3125 \n",
       "Q 13.671875 62.703125 7.8125 59.421875 \n",
       "L 7.8125 69.390625 \n",
       "Q 13.765625 71.78125 18.9375 73 \n",
       "Q 24.125 74.21875 28.421875 74.21875 \n",
       "Q 39.75 74.21875 46.484375 68.546875 \n",
       "Q 53.21875 62.890625 53.21875 53.421875 \n",
       "Q 53.21875 48.921875 51.53125 44.890625 \n",
       "Q 49.859375 40.875 45.40625 35.40625 \n",
       "Q 44.1875 33.984375 37.640625 27.21875 \n",
       "Q 31.109375 20.453125 19.1875 8.296875 \n",
       "z\n",
       "\" id=\"DejaVuSans-50\"/>\n",
       "       </defs>\n",
       "       <use xlink:href=\"#DejaVuSans-8722\"/>\n",
       "       <use x=\"83.789062\" xlink:href=\"#DejaVuSans-50\"/>\n",
       "      </g>\n",
       "     </g>\n",
       "    </g>\n",
       "    <g id=\"xtick_3\">\n",
       "     <g id=\"line2d_3\">\n",
       "      <g>\n",
       "       <use style=\"stroke:#000000;stroke-width:0.8;\" x=\"215.082719\" xlink:href=\"#m3b811cd422\" y=\"224.64\"/>\n",
       "      </g>\n",
       "     </g>\n",
       "     <g id=\"text_3\">\n",
       "      <!-- −1 -->\n",
       "      <g transform=\"translate(207.711625 239.238437)scale(0.1 -0.1)\">\n",
       "       <defs>\n",
       "        <path d=\"M 12.40625 8.296875 \n",
       "L 28.515625 8.296875 \n",
       "L 28.515625 63.921875 \n",
       "L 10.984375 60.40625 \n",
       "L 10.984375 69.390625 \n",
       "L 28.421875 72.90625 \n",
       "L 38.28125 72.90625 \n",
       "L 38.28125 8.296875 \n",
       "L 54.390625 8.296875 \n",
       "L 54.390625 0 \n",
       "L 12.40625 0 \n",
       "z\n",
       "\" id=\"DejaVuSans-49\"/>\n",
       "       </defs>\n",
       "       <use xlink:href=\"#DejaVuSans-8722\"/>\n",
       "       <use x=\"83.789062\" xlink:href=\"#DejaVuSans-49\"/>\n",
       "      </g>\n",
       "     </g>\n",
       "    </g>\n",
       "    <g id=\"xtick_4\">\n",
       "     <g id=\"line2d_4\">\n",
       "      <g>\n",
       "       <use style=\"stroke:#000000;stroke-width:0.8;\" x=\"267.00867\" xlink:href=\"#m3b811cd422\" y=\"224.64\"/>\n",
       "      </g>\n",
       "     </g>\n",
       "     <g id=\"text_4\">\n",
       "      <!-- 0 -->\n",
       "      <g transform=\"translate(263.82742 239.238437)scale(0.1 -0.1)\">\n",
       "       <defs>\n",
       "        <path d=\"M 31.78125 66.40625 \n",
       "Q 24.171875 66.40625 20.328125 58.90625 \n",
       "Q 16.5 51.421875 16.5 36.375 \n",
       "Q 16.5 21.390625 20.328125 13.890625 \n",
       "Q 24.171875 6.390625 31.78125 6.390625 \n",
       "Q 39.453125 6.390625 43.28125 13.890625 \n",
       "Q 47.125 21.390625 47.125 36.375 \n",
       "Q 47.125 51.421875 43.28125 58.90625 \n",
       "Q 39.453125 66.40625 31.78125 66.40625 \n",
       "z\n",
       "M 31.78125 74.21875 \n",
       "Q 44.046875 74.21875 50.515625 64.515625 \n",
       "Q 56.984375 54.828125 56.984375 36.375 \n",
       "Q 56.984375 17.96875 50.515625 8.265625 \n",
       "Q 44.046875 -1.421875 31.78125 -1.421875 \n",
       "Q 19.53125 -1.421875 13.0625 8.265625 \n",
       "Q 6.59375 17.96875 6.59375 36.375 \n",
       "Q 6.59375 54.828125 13.0625 64.515625 \n",
       "Q 19.53125 74.21875 31.78125 74.21875 \n",
       "z\n",
       "\" id=\"DejaVuSans-48\"/>\n",
       "       </defs>\n",
       "       <use xlink:href=\"#DejaVuSans-48\"/>\n",
       "      </g>\n",
       "     </g>\n",
       "    </g>\n",
       "    <g id=\"xtick_5\">\n",
       "     <g id=\"line2d_5\">\n",
       "      <g>\n",
       "       <use style=\"stroke:#000000;stroke-width:0.8;\" x=\"318.934621\" xlink:href=\"#m3b811cd422\" y=\"224.64\"/>\n",
       "      </g>\n",
       "     </g>\n",
       "     <g id=\"text_5\">\n",
       "      <!-- 1 -->\n",
       "      <g transform=\"translate(315.753371 239.238437)scale(0.1 -0.1)\">\n",
       "       <use xlink:href=\"#DejaVuSans-49\"/>\n",
       "      </g>\n",
       "     </g>\n",
       "    </g>\n",
       "    <g id=\"xtick_6\">\n",
       "     <g id=\"line2d_6\">\n",
       "      <g>\n",
       "       <use style=\"stroke:#000000;stroke-width:0.8;\" x=\"370.860572\" xlink:href=\"#m3b811cd422\" y=\"224.64\"/>\n",
       "      </g>\n",
       "     </g>\n",
       "     <g id=\"text_6\">\n",
       "      <!-- 2 -->\n",
       "      <g transform=\"translate(367.679322 239.238437)scale(0.1 -0.1)\">\n",
       "       <use xlink:href=\"#DejaVuSans-50\"/>\n",
       "      </g>\n",
       "     </g>\n",
       "    </g>\n",
       "    <g id=\"text_7\">\n",
       "     <!-- Вес признака -->\n",
       "     <g transform=\"translate(201.346094 252.916562)scale(0.1 -0.1)\">\n",
       "      <defs>\n",
       "       <path d=\"M 19.671875 34.8125 \n",
       "L 19.671875 8.109375 \n",
       "L 35.5 8.109375 \n",
       "Q 43.453125 8.109375 47.28125 11.40625 \n",
       "Q 51.125 14.703125 51.125 21.484375 \n",
       "Q 51.125 28.328125 47.28125 31.5625 \n",
       "Q 43.453125 34.8125 35.5 34.8125 \n",
       "z\n",
       "M 19.671875 64.796875 \n",
       "L 19.671875 42.828125 \n",
       "L 34.28125 42.828125 \n",
       "Q 41.5 42.828125 45.03125 45.53125 \n",
       "Q 48.578125 48.25 48.578125 53.8125 \n",
       "Q 48.578125 59.328125 45.03125 62.0625 \n",
       "Q 41.5 64.796875 34.28125 64.796875 \n",
       "z\n",
       "M 9.8125 72.90625 \n",
       "L 35.015625 72.90625 \n",
       "Q 46.296875 72.90625 52.390625 68.21875 \n",
       "Q 58.5 63.53125 58.5 54.890625 \n",
       "Q 58.5 48.1875 55.375 44.234375 \n",
       "Q 52.25 40.28125 46.1875 39.3125 \n",
       "Q 53.46875 37.75 57.5 32.78125 \n",
       "Q 61.53125 27.828125 61.53125 20.40625 \n",
       "Q 61.53125 10.640625 54.890625 5.3125 \n",
       "Q 48.25 0 35.984375 0 \n",
       "L 9.8125 0 \n",
       "z\n",
       "\" id=\"DejaVuSans-1042\"/>\n",
       "       <path d=\"M 56.203125 29.59375 \n",
       "L 56.203125 25.203125 \n",
       "L 14.890625 25.203125 \n",
       "Q 15.484375 15.921875 20.484375 11.0625 \n",
       "Q 25.484375 6.203125 34.421875 6.203125 \n",
       "Q 39.59375 6.203125 44.453125 7.46875 \n",
       "Q 49.3125 8.734375 54.109375 11.28125 \n",
       "L 54.109375 2.78125 \n",
       "Q 49.265625 0.734375 44.1875 -0.34375 \n",
       "Q 39.109375 -1.421875 33.890625 -1.421875 \n",
       "Q 20.796875 -1.421875 13.15625 6.1875 \n",
       "Q 5.515625 13.8125 5.515625 26.8125 \n",
       "Q 5.515625 40.234375 12.765625 48.109375 \n",
       "Q 20.015625 56 32.328125 56 \n",
       "Q 43.359375 56 49.78125 48.890625 \n",
       "Q 56.203125 41.796875 56.203125 29.59375 \n",
       "z\n",
       "M 47.21875 32.234375 \n",
       "Q 47.125 39.59375 43.09375 43.984375 \n",
       "Q 39.0625 48.390625 32.421875 48.390625 \n",
       "Q 24.90625 48.390625 20.390625 44.140625 \n",
       "Q 15.875 39.890625 15.1875 32.171875 \n",
       "z\n",
       "\" id=\"DejaVuSans-1077\"/>\n",
       "       <path d=\"M 48.78125 52.59375 \n",
       "L 48.78125 44.1875 \n",
       "Q 44.96875 46.296875 41.140625 47.34375 \n",
       "Q 37.3125 48.390625 33.40625 48.390625 \n",
       "Q 24.65625 48.390625 19.8125 42.84375 \n",
       "Q 14.984375 37.3125 14.984375 27.296875 \n",
       "Q 14.984375 17.28125 19.8125 11.734375 \n",
       "Q 24.65625 6.203125 33.40625 6.203125 \n",
       "Q 37.3125 6.203125 41.140625 7.25 \n",
       "Q 44.96875 8.296875 48.78125 10.40625 \n",
       "L 48.78125 2.09375 \n",
       "Q 45.015625 0.34375 40.984375 -0.53125 \n",
       "Q 36.96875 -1.421875 32.421875 -1.421875 \n",
       "Q 20.0625 -1.421875 12.78125 6.34375 \n",
       "Q 5.515625 14.109375 5.515625 27.296875 \n",
       "Q 5.515625 40.671875 12.859375 48.328125 \n",
       "Q 20.21875 56 33.015625 56 \n",
       "Q 37.15625 56 41.109375 55.140625 \n",
       "Q 45.0625 54.296875 48.78125 52.59375 \n",
       "z\n",
       "\" id=\"DejaVuSans-1089\"/>\n",
       "       <path id=\"DejaVuSans-32\"/>\n",
       "       <path d=\"M 56.296875 54.6875 \n",
       "L 56.296875 0 \n",
       "L 47.265625 0 \n",
       "L 47.265625 47.515625 \n",
       "L 18.109375 47.515625 \n",
       "L 18.109375 0 \n",
       "L 9.078125 0 \n",
       "L 9.078125 54.6875 \n",
       "z\n",
       "\" id=\"DejaVuSans-1087\"/>\n",
       "       <path d=\"M 18.109375 8.203125 \n",
       "L 18.109375 -20.796875 \n",
       "L 9.078125 -20.796875 \n",
       "L 9.078125 54.6875 \n",
       "L 18.109375 54.6875 \n",
       "L 18.109375 46.390625 \n",
       "Q 20.953125 51.265625 25.265625 53.625 \n",
       "Q 29.59375 56 35.59375 56 \n",
       "Q 45.5625 56 51.78125 48.09375 \n",
       "Q 58.015625 40.1875 58.015625 27.296875 \n",
       "Q 58.015625 14.40625 51.78125 6.484375 \n",
       "Q 45.5625 -1.421875 35.59375 -1.421875 \n",
       "Q 29.59375 -1.421875 25.265625 0.953125 \n",
       "Q 20.953125 3.328125 18.109375 8.203125 \n",
       "z\n",
       "M 48.6875 27.296875 \n",
       "Q 48.6875 37.203125 44.609375 42.84375 \n",
       "Q 40.53125 48.484375 33.40625 48.484375 \n",
       "Q 26.265625 48.484375 22.1875 42.84375 \n",
       "Q 18.109375 37.203125 18.109375 27.296875 \n",
       "Q 18.109375 17.390625 22.1875 11.75 \n",
       "Q 26.265625 6.109375 33.40625 6.109375 \n",
       "Q 40.53125 6.109375 44.609375 11.75 \n",
       "Q 48.6875 17.390625 48.6875 27.296875 \n",
       "z\n",
       "\" id=\"DejaVuSans-1088\"/>\n",
       "       <path d=\"M 55.90625 54.6875 \n",
       "L 55.90625 0 \n",
       "L 46.96875 0 \n",
       "L 46.96875 43.890625 \n",
       "L 20.609375 0 \n",
       "L 9.078125 0 \n",
       "L 9.078125 54.6875 \n",
       "L 18.015625 54.6875 \n",
       "L 18.015625 10.890625 \n",
       "L 44.34375 54.6875 \n",
       "z\n",
       "\" id=\"DejaVuSans-1080\"/>\n",
       "       <path d=\"M 34.46875 29.5 \n",
       "Q 40.53125 28.328125 43.890625 24.75 \n",
       "Q 47.265625 21.1875 47.265625 15.921875 \n",
       "Q 47.265625 7.46875 40.96875 3.015625 \n",
       "Q 34.671875 -1.421875 23.046875 -1.421875 \n",
       "Q 19.140625 -1.421875 15.015625 -0.734375 \n",
       "Q 10.890625 -0.046875 6.5 1.3125 \n",
       "L 6.5 9.671875 \n",
       "Q 9.96875 7.859375 14.109375 6.953125 \n",
       "Q 18.265625 6.0625 22.796875 6.0625 \n",
       "Q 30.171875 6.0625 34.296875 8.796875 \n",
       "Q 38.421875 11.53125 38.421875 15.921875 \n",
       "Q 38.421875 20.21875 34.765625 22.828125 \n",
       "Q 31.109375 25.4375 24.421875 25.4375 \n",
       "L 17.1875 25.4375 \n",
       "L 17.1875 32.859375 \n",
       "L 24.75 32.859375 \n",
       "Q 30.421875 32.859375 33.71875 35.03125 \n",
       "Q 37.015625 37.203125 37.015625 40.625 \n",
       "Q 37.015625 43.75 33.609375 46 \n",
       "Q 30.21875 48.25 24.421875 48.25 \n",
       "Q 20.953125 48.25 17.015625 47.609375 \n",
       "Q 13.09375 46.96875 8.34375 45.5625 \n",
       "L 8.34375 53.71875 \n",
       "Q 13.140625 54.890625 17.28125 55.46875 \n",
       "Q 21.4375 56.0625 25.140625 56.0625 \n",
       "Q 34.71875 56.0625 40.25 52.21875 \n",
       "Q 45.796875 48.390625 45.796875 41.5 \n",
       "Q 45.796875 36.96875 42.859375 33.8125 \n",
       "Q 39.9375 30.671875 34.46875 29.5 \n",
       "z\n",
       "\" id=\"DejaVuSans-1079\"/>\n",
       "       <path d=\"M 9.078125 54.6875 \n",
       "L 18.109375 54.6875 \n",
       "L 18.109375 32.375 \n",
       "L 47.265625 32.375 \n",
       "L 47.265625 54.6875 \n",
       "L 56.296875 54.6875 \n",
       "L 56.296875 0 \n",
       "L 47.265625 0 \n",
       "L 47.265625 25.203125 \n",
       "L 18.109375 25.203125 \n",
       "L 18.109375 0 \n",
       "L 9.078125 0 \n",
       "z\n",
       "\" id=\"DejaVuSans-1085\"/>\n",
       "       <path d=\"M 34.28125 27.484375 \n",
       "Q 23.390625 27.484375 19.1875 25 \n",
       "Q 14.984375 22.515625 14.984375 16.5 \n",
       "Q 14.984375 11.71875 18.140625 8.90625 \n",
       "Q 21.296875 6.109375 26.703125 6.109375 \n",
       "Q 34.1875 6.109375 38.703125 11.40625 \n",
       "Q 43.21875 16.703125 43.21875 25.484375 \n",
       "L 43.21875 27.484375 \n",
       "z\n",
       "M 52.203125 31.203125 \n",
       "L 52.203125 0 \n",
       "L 43.21875 0 \n",
       "L 43.21875 8.296875 \n",
       "Q 40.140625 3.328125 35.546875 0.953125 \n",
       "Q 30.953125 -1.421875 24.3125 -1.421875 \n",
       "Q 15.921875 -1.421875 10.953125 3.296875 \n",
       "Q 6 8.015625 6 15.921875 \n",
       "Q 6 25.140625 12.171875 29.828125 \n",
       "Q 18.359375 34.515625 30.609375 34.515625 \n",
       "L 43.21875 34.515625 \n",
       "L 43.21875 35.40625 \n",
       "Q 43.21875 41.609375 39.140625 45 \n",
       "Q 35.0625 48.390625 27.6875 48.390625 \n",
       "Q 23 48.390625 18.546875 47.265625 \n",
       "Q 14.109375 46.140625 10.015625 43.890625 \n",
       "L 10.015625 52.203125 \n",
       "Q 14.9375 54.109375 19.578125 55.046875 \n",
       "Q 24.21875 56 28.609375 56 \n",
       "Q 40.484375 56 46.34375 49.84375 \n",
       "Q 52.203125 43.703125 52.203125 31.203125 \n",
       "z\n",
       "\" id=\"DejaVuSans-1072\"/>\n",
       "       <path d=\"M 9.078125 54.6875 \n",
       "L 18.015625 54.6875 \n",
       "L 18.015625 29 \n",
       "L 43.359375 54.6875 \n",
       "L 54.390625 54.6875 \n",
       "L 33.5 33.546875 \n",
       "L 57.078125 0 \n",
       "L 47.015625 0 \n",
       "L 27.640625 27.59375 \n",
       "L 18.015625 17.828125 \n",
       "L 18.015625 0 \n",
       "L 9.078125 0 \n",
       "z\n",
       "\" id=\"DejaVuSans-1082\"/>\n",
       "      </defs>\n",
       "      <use xlink:href=\"#DejaVuSans-1042\"/>\n",
       "      <use x=\"68.603516\" xlink:href=\"#DejaVuSans-1077\"/>\n",
       "      <use x=\"130.126953\" xlink:href=\"#DejaVuSans-1089\"/>\n",
       "      <use x=\"185.107422\" xlink:href=\"#DejaVuSans-32\"/>\n",
       "      <use x=\"216.894531\" xlink:href=\"#DejaVuSans-1087\"/>\n",
       "      <use x=\"282.275391\" xlink:href=\"#DejaVuSans-1088\"/>\n",
       "      <use x=\"345.751953\" xlink:href=\"#DejaVuSans-1080\"/>\n",
       "      <use x=\"410.742188\" xlink:href=\"#DejaVuSans-1079\"/>\n",
       "      <use x=\"463.916016\" xlink:href=\"#DejaVuSans-1085\"/>\n",
       "      <use x=\"529.296875\" xlink:href=\"#DejaVuSans-1072\"/>\n",
       "      <use x=\"590.576172\" xlink:href=\"#DejaVuSans-1082\"/>\n",
       "      <use x=\"650.976562\" xlink:href=\"#DejaVuSans-1072\"/>\n",
       "     </g>\n",
       "    </g>\n",
       "   </g>\n",
       "   <g id=\"matplotlib.axis_2\">\n",
       "    <g id=\"ytick_1\">\n",
       "     <g id=\"line2d_7\">\n",
       "      <defs>\n",
       "       <path d=\"M 0 0 \n",
       "L -3.5 0 \n",
       "\" id=\"m2017cd6789\" style=\"stroke:#000000;stroke-width:0.8;\"/>\n",
       "      </defs>\n",
       "      <g>\n",
       "       <use style=\"stroke:#000000;stroke-width:0.8;\" x=\"69.559375\" xlink:href=\"#m2017cd6789\" y=\"208.579091\"/>\n",
       "      </g>\n",
       "     </g>\n",
       "     <g id=\"text_8\">\n",
       "      <!-- CRIM -->\n",
       "      <g transform=\"translate(37.05 212.37831)scale(0.1 -0.1)\">\n",
       "       <defs>\n",
       "        <path d=\"M 64.40625 67.28125 \n",
       "L 64.40625 56.890625 \n",
       "Q 59.421875 61.53125 53.78125 63.8125 \n",
       "Q 48.140625 66.109375 41.796875 66.109375 \n",
       "Q 29.296875 66.109375 22.65625 58.46875 \n",
       "Q 16.015625 50.828125 16.015625 36.375 \n",
       "Q 16.015625 21.96875 22.65625 14.328125 \n",
       "Q 29.296875 6.6875 41.796875 6.6875 \n",
       "Q 48.140625 6.6875 53.78125 8.984375 \n",
       "Q 59.421875 11.28125 64.40625 15.921875 \n",
       "L 64.40625 5.609375 \n",
       "Q 59.234375 2.09375 53.4375 0.328125 \n",
       "Q 47.65625 -1.421875 41.21875 -1.421875 \n",
       "Q 24.65625 -1.421875 15.125 8.703125 \n",
       "Q 5.609375 18.84375 5.609375 36.375 \n",
       "Q 5.609375 53.953125 15.125 64.078125 \n",
       "Q 24.65625 74.21875 41.21875 74.21875 \n",
       "Q 47.75 74.21875 53.53125 72.484375 \n",
       "Q 59.328125 70.75 64.40625 67.28125 \n",
       "z\n",
       "\" id=\"DejaVuSans-67\"/>\n",
       "        <path d=\"M 44.390625 34.1875 \n",
       "Q 47.5625 33.109375 50.5625 29.59375 \n",
       "Q 53.5625 26.078125 56.59375 19.921875 \n",
       "L 66.609375 0 \n",
       "L 56 0 \n",
       "L 46.6875 18.703125 \n",
       "Q 43.0625 26.03125 39.671875 28.421875 \n",
       "Q 36.28125 30.8125 30.421875 30.8125 \n",
       "L 19.671875 30.8125 \n",
       "L 19.671875 0 \n",
       "L 9.8125 0 \n",
       "L 9.8125 72.90625 \n",
       "L 32.078125 72.90625 \n",
       "Q 44.578125 72.90625 50.734375 67.671875 \n",
       "Q 56.890625 62.453125 56.890625 51.90625 \n",
       "Q 56.890625 45.015625 53.6875 40.46875 \n",
       "Q 50.484375 35.9375 44.390625 34.1875 \n",
       "z\n",
       "M 19.671875 64.796875 \n",
       "L 19.671875 38.921875 \n",
       "L 32.078125 38.921875 \n",
       "Q 39.203125 38.921875 42.84375 42.21875 \n",
       "Q 46.484375 45.515625 46.484375 51.90625 \n",
       "Q 46.484375 58.296875 42.84375 61.546875 \n",
       "Q 39.203125 64.796875 32.078125 64.796875 \n",
       "z\n",
       "\" id=\"DejaVuSans-82\"/>\n",
       "        <path d=\"M 9.8125 72.90625 \n",
       "L 19.671875 72.90625 \n",
       "L 19.671875 0 \n",
       "L 9.8125 0 \n",
       "z\n",
       "\" id=\"DejaVuSans-73\"/>\n",
       "        <path d=\"M 9.8125 72.90625 \n",
       "L 24.515625 72.90625 \n",
       "L 43.109375 23.296875 \n",
       "L 61.8125 72.90625 \n",
       "L 76.515625 72.90625 \n",
       "L 76.515625 0 \n",
       "L 66.890625 0 \n",
       "L 66.890625 64.015625 \n",
       "L 48.09375 14.015625 \n",
       "L 38.1875 14.015625 \n",
       "L 19.390625 64.015625 \n",
       "L 19.390625 0 \n",
       "L 9.8125 0 \n",
       "z\n",
       "\" id=\"DejaVuSans-77\"/>\n",
       "       </defs>\n",
       "       <use xlink:href=\"#DejaVuSans-67\"/>\n",
       "       <use x=\"69.824219\" xlink:href=\"#DejaVuSans-82\"/>\n",
       "       <use x=\"139.306641\" xlink:href=\"#DejaVuSans-73\"/>\n",
       "       <use x=\"168.798828\" xlink:href=\"#DejaVuSans-77\"/>\n",
       "      </g>\n",
       "     </g>\n",
       "    </g>\n",
       "    <g id=\"ytick_2\">\n",
       "     <g id=\"line2d_8\">\n",
       "      <g>\n",
       "       <use style=\"stroke:#000000;stroke-width:0.8;\" x=\"69.559375\" xlink:href=\"#m2017cd6789\" y=\"193.135909\"/>\n",
       "      </g>\n",
       "     </g>\n",
       "     <g id=\"text_9\">\n",
       "      <!-- ZN -->\n",
       "      <g transform=\"translate(48.228125 196.935128)scale(0.1 -0.1)\">\n",
       "       <defs>\n",
       "        <path d=\"M 5.609375 72.90625 \n",
       "L 62.890625 72.90625 \n",
       "L 62.890625 65.375 \n",
       "L 16.796875 8.296875 \n",
       "L 64.015625 8.296875 \n",
       "L 64.015625 0 \n",
       "L 4.5 0 \n",
       "L 4.5 7.515625 \n",
       "L 50.59375 64.59375 \n",
       "L 5.609375 64.59375 \n",
       "z\n",
       "\" id=\"DejaVuSans-90\"/>\n",
       "        <path d=\"M 9.8125 72.90625 \n",
       "L 23.09375 72.90625 \n",
       "L 55.421875 11.921875 \n",
       "L 55.421875 72.90625 \n",
       "L 64.984375 72.90625 \n",
       "L 64.984375 0 \n",
       "L 51.703125 0 \n",
       "L 19.390625 60.984375 \n",
       "L 19.390625 0 \n",
       "L 9.8125 0 \n",
       "z\n",
       "\" id=\"DejaVuSans-78\"/>\n",
       "       </defs>\n",
       "       <use xlink:href=\"#DejaVuSans-90\"/>\n",
       "       <use x=\"68.505859\" xlink:href=\"#DejaVuSans-78\"/>\n",
       "      </g>\n",
       "     </g>\n",
       "    </g>\n",
       "    <g id=\"ytick_3\">\n",
       "     <g id=\"line2d_9\">\n",
       "      <g>\n",
       "       <use style=\"stroke:#000000;stroke-width:0.8;\" x=\"69.559375\" xlink:href=\"#m2017cd6789\" y=\"177.692727\"/>\n",
       "      </g>\n",
       "     </g>\n",
       "     <g id=\"text_10\">\n",
       "      <!-- INDUS -->\n",
       "      <g transform=\"translate(30.760938 181.491946)scale(0.1 -0.1)\">\n",
       "       <defs>\n",
       "        <path d=\"M 19.671875 64.796875 \n",
       "L 19.671875 8.109375 \n",
       "L 31.59375 8.109375 \n",
       "Q 46.6875 8.109375 53.6875 14.9375 \n",
       "Q 60.6875 21.78125 60.6875 36.53125 \n",
       "Q 60.6875 51.171875 53.6875 57.984375 \n",
       "Q 46.6875 64.796875 31.59375 64.796875 \n",
       "z\n",
       "M 9.8125 72.90625 \n",
       "L 30.078125 72.90625 \n",
       "Q 51.265625 72.90625 61.171875 64.09375 \n",
       "Q 71.09375 55.28125 71.09375 36.53125 \n",
       "Q 71.09375 17.671875 61.125 8.828125 \n",
       "Q 51.171875 0 30.078125 0 \n",
       "L 9.8125 0 \n",
       "z\n",
       "\" id=\"DejaVuSans-68\"/>\n",
       "        <path d=\"M 8.6875 72.90625 \n",
       "L 18.609375 72.90625 \n",
       "L 18.609375 28.609375 \n",
       "Q 18.609375 16.890625 22.84375 11.734375 \n",
       "Q 27.09375 6.59375 36.625 6.59375 \n",
       "Q 46.09375 6.59375 50.34375 11.734375 \n",
       "Q 54.59375 16.890625 54.59375 28.609375 \n",
       "L 54.59375 72.90625 \n",
       "L 64.5 72.90625 \n",
       "L 64.5 27.390625 \n",
       "Q 64.5 13.140625 57.4375 5.859375 \n",
       "Q 50.390625 -1.421875 36.625 -1.421875 \n",
       "Q 22.796875 -1.421875 15.734375 5.859375 \n",
       "Q 8.6875 13.140625 8.6875 27.390625 \n",
       "z\n",
       "\" id=\"DejaVuSans-85\"/>\n",
       "        <path d=\"M 53.515625 70.515625 \n",
       "L 53.515625 60.890625 \n",
       "Q 47.90625 63.578125 42.921875 64.890625 \n",
       "Q 37.9375 66.21875 33.296875 66.21875 \n",
       "Q 25.25 66.21875 20.875 63.09375 \n",
       "Q 16.5 59.96875 16.5 54.203125 \n",
       "Q 16.5 49.359375 19.40625 46.890625 \n",
       "Q 22.3125 44.4375 30.421875 42.921875 \n",
       "L 36.375 41.703125 \n",
       "Q 47.40625 39.59375 52.65625 34.296875 \n",
       "Q 57.90625 29 57.90625 20.125 \n",
       "Q 57.90625 9.515625 50.796875 4.046875 \n",
       "Q 43.703125 -1.421875 29.984375 -1.421875 \n",
       "Q 24.8125 -1.421875 18.96875 -0.25 \n",
       "Q 13.140625 0.921875 6.890625 3.21875 \n",
       "L 6.890625 13.375 \n",
       "Q 12.890625 10.015625 18.65625 8.296875 \n",
       "Q 24.421875 6.59375 29.984375 6.59375 \n",
       "Q 38.421875 6.59375 43.015625 9.90625 \n",
       "Q 47.609375 13.234375 47.609375 19.390625 \n",
       "Q 47.609375 24.75 44.3125 27.78125 \n",
       "Q 41.015625 30.8125 33.5 32.328125 \n",
       "L 27.484375 33.5 \n",
       "Q 16.453125 35.6875 11.515625 40.375 \n",
       "Q 6.59375 45.0625 6.59375 53.421875 \n",
       "Q 6.59375 63.09375 13.40625 68.65625 \n",
       "Q 20.21875 74.21875 32.171875 74.21875 \n",
       "Q 37.3125 74.21875 42.625 73.28125 \n",
       "Q 47.953125 72.359375 53.515625 70.515625 \n",
       "z\n",
       "\" id=\"DejaVuSans-83\"/>\n",
       "       </defs>\n",
       "       <use xlink:href=\"#DejaVuSans-73\"/>\n",
       "       <use x=\"29.492188\" xlink:href=\"#DejaVuSans-78\"/>\n",
       "       <use x=\"104.296875\" xlink:href=\"#DejaVuSans-68\"/>\n",
       "       <use x=\"181.298828\" xlink:href=\"#DejaVuSans-85\"/>\n",
       "       <use x=\"254.492188\" xlink:href=\"#DejaVuSans-83\"/>\n",
       "      </g>\n",
       "     </g>\n",
       "    </g>\n",
       "    <g id=\"ytick_4\">\n",
       "     <g id=\"line2d_10\">\n",
       "      <g>\n",
       "       <use style=\"stroke:#000000;stroke-width:0.8;\" x=\"69.559375\" xlink:href=\"#m2017cd6789\" y=\"162.249545\"/>\n",
       "      </g>\n",
       "     </g>\n",
       "     <g id=\"text_11\">\n",
       "      <!-- CHAS -->\n",
       "      <g transform=\"translate(34.867188 166.048764)scale(0.1 -0.1)\">\n",
       "       <defs>\n",
       "        <path d=\"M 9.8125 72.90625 \n",
       "L 19.671875 72.90625 \n",
       "L 19.671875 43.015625 \n",
       "L 55.515625 43.015625 \n",
       "L 55.515625 72.90625 \n",
       "L 65.375 72.90625 \n",
       "L 65.375 0 \n",
       "L 55.515625 0 \n",
       "L 55.515625 34.71875 \n",
       "L 19.671875 34.71875 \n",
       "L 19.671875 0 \n",
       "L 9.8125 0 \n",
       "z\n",
       "\" id=\"DejaVuSans-72\"/>\n",
       "        <path d=\"M 34.1875 63.1875 \n",
       "L 20.796875 26.90625 \n",
       "L 47.609375 26.90625 \n",
       "z\n",
       "M 28.609375 72.90625 \n",
       "L 39.796875 72.90625 \n",
       "L 67.578125 0 \n",
       "L 57.328125 0 \n",
       "L 50.6875 18.703125 \n",
       "L 17.828125 18.703125 \n",
       "L 11.1875 0 \n",
       "L 0.78125 0 \n",
       "z\n",
       "\" id=\"DejaVuSans-65\"/>\n",
       "       </defs>\n",
       "       <use xlink:href=\"#DejaVuSans-67\"/>\n",
       "       <use x=\"69.824219\" xlink:href=\"#DejaVuSans-72\"/>\n",
       "       <use x=\"145.019531\" xlink:href=\"#DejaVuSans-65\"/>\n",
       "       <use x=\"213.427734\" xlink:href=\"#DejaVuSans-83\"/>\n",
       "      </g>\n",
       "     </g>\n",
       "    </g>\n",
       "    <g id=\"ytick_5\">\n",
       "     <g id=\"line2d_11\">\n",
       "      <g>\n",
       "       <use style=\"stroke:#000000;stroke-width:0.8;\" x=\"69.559375\" xlink:href=\"#m2017cd6789\" y=\"146.806364\"/>\n",
       "      </g>\n",
       "     </g>\n",
       "     <g id=\"text_12\">\n",
       "      <!-- NOX -->\n",
       "      <g transform=\"translate(40.99375 150.605582)scale(0.1 -0.1)\">\n",
       "       <defs>\n",
       "        <path d=\"M 39.40625 66.21875 \n",
       "Q 28.65625 66.21875 22.328125 58.203125 \n",
       "Q 16.015625 50.203125 16.015625 36.375 \n",
       "Q 16.015625 22.609375 22.328125 14.59375 \n",
       "Q 28.65625 6.59375 39.40625 6.59375 \n",
       "Q 50.140625 6.59375 56.421875 14.59375 \n",
       "Q 62.703125 22.609375 62.703125 36.375 \n",
       "Q 62.703125 50.203125 56.421875 58.203125 \n",
       "Q 50.140625 66.21875 39.40625 66.21875 \n",
       "z\n",
       "M 39.40625 74.21875 \n",
       "Q 54.734375 74.21875 63.90625 63.9375 \n",
       "Q 73.09375 53.65625 73.09375 36.375 \n",
       "Q 73.09375 19.140625 63.90625 8.859375 \n",
       "Q 54.734375 -1.421875 39.40625 -1.421875 \n",
       "Q 24.03125 -1.421875 14.8125 8.828125 \n",
       "Q 5.609375 19.09375 5.609375 36.375 \n",
       "Q 5.609375 53.65625 14.8125 63.9375 \n",
       "Q 24.03125 74.21875 39.40625 74.21875 \n",
       "z\n",
       "\" id=\"DejaVuSans-79\"/>\n",
       "        <path d=\"M 6.296875 72.90625 \n",
       "L 16.890625 72.90625 \n",
       "L 35.015625 45.796875 \n",
       "L 53.21875 72.90625 \n",
       "L 63.8125 72.90625 \n",
       "L 40.375 37.890625 \n",
       "L 65.375 0 \n",
       "L 54.78125 0 \n",
       "L 34.28125 31 \n",
       "L 13.625 0 \n",
       "L 2.984375 0 \n",
       "L 29 38.921875 \n",
       "z\n",
       "\" id=\"DejaVuSans-88\"/>\n",
       "       </defs>\n",
       "       <use xlink:href=\"#DejaVuSans-78\"/>\n",
       "       <use x=\"74.804688\" xlink:href=\"#DejaVuSans-79\"/>\n",
       "       <use x=\"147.140625\" xlink:href=\"#DejaVuSans-88\"/>\n",
       "      </g>\n",
       "     </g>\n",
       "    </g>\n",
       "    <g id=\"ytick_6\">\n",
       "     <g id=\"line2d_12\">\n",
       "      <g>\n",
       "       <use style=\"stroke:#000000;stroke-width:0.8;\" x=\"69.559375\" xlink:href=\"#m2017cd6789\" y=\"131.363182\"/>\n",
       "      </g>\n",
       "     </g>\n",
       "     <g id=\"text_13\">\n",
       "      <!-- RM -->\n",
       "      <g transform=\"translate(46.982813 135.162401)scale(0.1 -0.1)\">\n",
       "       <use xlink:href=\"#DejaVuSans-82\"/>\n",
       "       <use x=\"69.482422\" xlink:href=\"#DejaVuSans-77\"/>\n",
       "      </g>\n",
       "     </g>\n",
       "    </g>\n",
       "    <g id=\"ytick_7\">\n",
       "     <g id=\"line2d_13\">\n",
       "      <g>\n",
       "       <use style=\"stroke:#000000;stroke-width:0.8;\" x=\"69.559375\" xlink:href=\"#m2017cd6789\" y=\"115.92\"/>\n",
       "      </g>\n",
       "     </g>\n",
       "     <g id=\"text_14\">\n",
       "      <!-- AGE -->\n",
       "      <g transform=\"translate(41.826563 119.719219)scale(0.1 -0.1)\">\n",
       "       <defs>\n",
       "        <path d=\"M 59.515625 10.40625 \n",
       "L 59.515625 29.984375 \n",
       "L 43.40625 29.984375 \n",
       "L 43.40625 38.09375 \n",
       "L 69.28125 38.09375 \n",
       "L 69.28125 6.78125 \n",
       "Q 63.578125 2.734375 56.6875 0.65625 \n",
       "Q 49.8125 -1.421875 42 -1.421875 \n",
       "Q 24.90625 -1.421875 15.25 8.5625 \n",
       "Q 5.609375 18.5625 5.609375 36.375 \n",
       "Q 5.609375 54.25 15.25 64.234375 \n",
       "Q 24.90625 74.21875 42 74.21875 \n",
       "Q 49.125 74.21875 55.546875 72.453125 \n",
       "Q 61.96875 70.703125 67.390625 67.28125 \n",
       "L 67.390625 56.78125 \n",
       "Q 61.921875 61.421875 55.765625 63.765625 \n",
       "Q 49.609375 66.109375 42.828125 66.109375 \n",
       "Q 29.4375 66.109375 22.71875 58.640625 \n",
       "Q 16.015625 51.171875 16.015625 36.375 \n",
       "Q 16.015625 21.625 22.71875 14.15625 \n",
       "Q 29.4375 6.6875 42.828125 6.6875 \n",
       "Q 48.046875 6.6875 52.140625 7.59375 \n",
       "Q 56.25 8.5 59.515625 10.40625 \n",
       "z\n",
       "\" id=\"DejaVuSans-71\"/>\n",
       "        <path d=\"M 9.8125 72.90625 \n",
       "L 55.90625 72.90625 \n",
       "L 55.90625 64.59375 \n",
       "L 19.671875 64.59375 \n",
       "L 19.671875 43.015625 \n",
       "L 54.390625 43.015625 \n",
       "L 54.390625 34.71875 \n",
       "L 19.671875 34.71875 \n",
       "L 19.671875 8.296875 \n",
       "L 56.78125 8.296875 \n",
       "L 56.78125 0 \n",
       "L 9.8125 0 \n",
       "z\n",
       "\" id=\"DejaVuSans-69\"/>\n",
       "       </defs>\n",
       "       <use xlink:href=\"#DejaVuSans-65\"/>\n",
       "       <use x=\"66.658203\" xlink:href=\"#DejaVuSans-71\"/>\n",
       "       <use x=\"144.148438\" xlink:href=\"#DejaVuSans-69\"/>\n",
       "      </g>\n",
       "     </g>\n",
       "    </g>\n",
       "    <g id=\"ytick_8\">\n",
       "     <g id=\"line2d_14\">\n",
       "      <g>\n",
       "       <use style=\"stroke:#000000;stroke-width:0.8;\" x=\"69.559375\" xlink:href=\"#m2017cd6789\" y=\"100.476818\"/>\n",
       "      </g>\n",
       "     </g>\n",
       "     <g id=\"text_15\">\n",
       "      <!-- DIS -->\n",
       "      <g transform=\"translate(45.560938 104.276037)scale(0.1 -0.1)\">\n",
       "       <use xlink:href=\"#DejaVuSans-68\"/>\n",
       "       <use x=\"77.001953\" xlink:href=\"#DejaVuSans-73\"/>\n",
       "       <use x=\"106.494141\" xlink:href=\"#DejaVuSans-83\"/>\n",
       "      </g>\n",
       "     </g>\n",
       "    </g>\n",
       "    <g id=\"ytick_9\">\n",
       "     <g id=\"line2d_15\">\n",
       "      <g>\n",
       "       <use style=\"stroke:#000000;stroke-width:0.8;\" x=\"69.559375\" xlink:href=\"#m2017cd6789\" y=\"85.033636\"/>\n",
       "      </g>\n",
       "     </g>\n",
       "     <g id=\"text_16\">\n",
       "      <!-- RAD -->\n",
       "      <g transform=\"translate(41.470313 88.832855)scale(0.1 -0.1)\">\n",
       "       <use xlink:href=\"#DejaVuSans-82\"/>\n",
       "       <use x=\"65.482422\" xlink:href=\"#DejaVuSans-65\"/>\n",
       "       <use x=\"133.890625\" xlink:href=\"#DejaVuSans-68\"/>\n",
       "      </g>\n",
       "     </g>\n",
       "    </g>\n",
       "    <g id=\"ytick_10\">\n",
       "     <g id=\"line2d_16\">\n",
       "      <g>\n",
       "       <use style=\"stroke:#000000;stroke-width:0.8;\" x=\"69.559375\" xlink:href=\"#m2017cd6789\" y=\"69.590455\"/>\n",
       "      </g>\n",
       "     </g>\n",
       "     <g id=\"text_17\">\n",
       "      <!-- TAX -->\n",
       "      <g transform=\"translate(43.535938 73.389673)scale(0.1 -0.1)\">\n",
       "       <defs>\n",
       "        <path d=\"M -0.296875 72.90625 \n",
       "L 61.375 72.90625 \n",
       "L 61.375 64.59375 \n",
       "L 35.5 64.59375 \n",
       "L 35.5 0 \n",
       "L 25.59375 0 \n",
       "L 25.59375 64.59375 \n",
       "L -0.296875 64.59375 \n",
       "z\n",
       "\" id=\"DejaVuSans-84\"/>\n",
       "       </defs>\n",
       "       <use xlink:href=\"#DejaVuSans-84\"/>\n",
       "       <use x=\"53.333984\" xlink:href=\"#DejaVuSans-65\"/>\n",
       "       <use x=\"121.742188\" xlink:href=\"#DejaVuSans-88\"/>\n",
       "      </g>\n",
       "     </g>\n",
       "    </g>\n",
       "    <g id=\"ytick_11\">\n",
       "     <g id=\"line2d_17\">\n",
       "      <g>\n",
       "       <use style=\"stroke:#000000;stroke-width:0.8;\" x=\"69.559375\" xlink:href=\"#m2017cd6789\" y=\"54.147273\"/>\n",
       "      </g>\n",
       "     </g>\n",
       "     <g id=\"text_18\">\n",
       "      <!-- PTRATIO -->\n",
       "      <g transform=\"translate(20.878125 57.946491)scale(0.1 -0.1)\">\n",
       "       <defs>\n",
       "        <path d=\"M 19.671875 64.796875 \n",
       "L 19.671875 37.40625 \n",
       "L 32.078125 37.40625 \n",
       "Q 38.96875 37.40625 42.71875 40.96875 \n",
       "Q 46.484375 44.53125 46.484375 51.125 \n",
       "Q 46.484375 57.671875 42.71875 61.234375 \n",
       "Q 38.96875 64.796875 32.078125 64.796875 \n",
       "z\n",
       "M 9.8125 72.90625 \n",
       "L 32.078125 72.90625 \n",
       "Q 44.34375 72.90625 50.609375 67.359375 \n",
       "Q 56.890625 61.8125 56.890625 51.125 \n",
       "Q 56.890625 40.328125 50.609375 34.8125 \n",
       "Q 44.34375 29.296875 32.078125 29.296875 \n",
       "L 19.671875 29.296875 \n",
       "L 19.671875 0 \n",
       "L 9.8125 0 \n",
       "z\n",
       "\" id=\"DejaVuSans-80\"/>\n",
       "       </defs>\n",
       "       <use xlink:href=\"#DejaVuSans-80\"/>\n",
       "       <use x=\"60.302734\" xlink:href=\"#DejaVuSans-84\"/>\n",
       "       <use x=\"121.386719\" xlink:href=\"#DejaVuSans-82\"/>\n",
       "       <use x=\"186.869141\" xlink:href=\"#DejaVuSans-65\"/>\n",
       "       <use x=\"247.527344\" xlink:href=\"#DejaVuSans-84\"/>\n",
       "       <use x=\"308.611328\" xlink:href=\"#DejaVuSans-73\"/>\n",
       "       <use x=\"338.103516\" xlink:href=\"#DejaVuSans-79\"/>\n",
       "      </g>\n",
       "     </g>\n",
       "    </g>\n",
       "    <g id=\"ytick_12\">\n",
       "     <g id=\"line2d_18\">\n",
       "      <g>\n",
       "       <use style=\"stroke:#000000;stroke-width:0.8;\" x=\"69.559375\" xlink:href=\"#m2017cd6789\" y=\"38.704091\"/>\n",
       "      </g>\n",
       "     </g>\n",
       "     <g id=\"text_19\">\n",
       "      <!-- B -->\n",
       "      <g transform=\"translate(55.698438 42.50331)scale(0.1 -0.1)\">\n",
       "       <defs>\n",
       "        <path d=\"M 19.671875 34.8125 \n",
       "L 19.671875 8.109375 \n",
       "L 35.5 8.109375 \n",
       "Q 43.453125 8.109375 47.28125 11.40625 \n",
       "Q 51.125 14.703125 51.125 21.484375 \n",
       "Q 51.125 28.328125 47.28125 31.5625 \n",
       "Q 43.453125 34.8125 35.5 34.8125 \n",
       "z\n",
       "M 19.671875 64.796875 \n",
       "L 19.671875 42.828125 \n",
       "L 34.28125 42.828125 \n",
       "Q 41.5 42.828125 45.03125 45.53125 \n",
       "Q 48.578125 48.25 48.578125 53.8125 \n",
       "Q 48.578125 59.328125 45.03125 62.0625 \n",
       "Q 41.5 64.796875 34.28125 64.796875 \n",
       "z\n",
       "M 9.8125 72.90625 \n",
       "L 35.015625 72.90625 \n",
       "Q 46.296875 72.90625 52.390625 68.21875 \n",
       "Q 58.5 63.53125 58.5 54.890625 \n",
       "Q 58.5 48.1875 55.375 44.234375 \n",
       "Q 52.25 40.28125 46.1875 39.3125 \n",
       "Q 53.46875 37.75 57.5 32.78125 \n",
       "Q 61.53125 27.828125 61.53125 20.40625 \n",
       "Q 61.53125 10.640625 54.890625 5.3125 \n",
       "Q 48.25 0 35.984375 0 \n",
       "L 9.8125 0 \n",
       "z\n",
       "\" id=\"DejaVuSans-66\"/>\n",
       "       </defs>\n",
       "       <use xlink:href=\"#DejaVuSans-66\"/>\n",
       "      </g>\n",
       "     </g>\n",
       "    </g>\n",
       "    <g id=\"ytick_13\">\n",
       "     <g id=\"line2d_19\">\n",
       "      <g>\n",
       "       <use style=\"stroke:#000000;stroke-width:0.8;\" x=\"69.559375\" xlink:href=\"#m2017cd6789\" y=\"23.260909\"/>\n",
       "      </g>\n",
       "     </g>\n",
       "     <g id=\"text_20\">\n",
       "      <!-- LSTAT -->\n",
       "      <g transform=\"translate(33.132813 27.060128)scale(0.1 -0.1)\">\n",
       "       <defs>\n",
       "        <path d=\"M 9.8125 72.90625 \n",
       "L 19.671875 72.90625 \n",
       "L 19.671875 8.296875 \n",
       "L 55.171875 8.296875 \n",
       "L 55.171875 0 \n",
       "L 9.8125 0 \n",
       "z\n",
       "\" id=\"DejaVuSans-76\"/>\n",
       "       </defs>\n",
       "       <use xlink:href=\"#DejaVuSans-76\"/>\n",
       "       <use x=\"55.712891\" xlink:href=\"#DejaVuSans-83\"/>\n",
       "       <use x=\"119.189453\" xlink:href=\"#DejaVuSans-84\"/>\n",
       "       <use x=\"172.523438\" xlink:href=\"#DejaVuSans-65\"/>\n",
       "       <use x=\"233.181641\" xlink:href=\"#DejaVuSans-84\"/>\n",
       "      </g>\n",
       "     </g>\n",
       "    </g>\n",
       "    <g id=\"text_21\">\n",
       "     <!-- Название признака -->\n",
       "     <g transform=\"translate(14.798438 167.365312)rotate(-90)scale(0.1 -0.1)\">\n",
       "      <defs>\n",
       "       <path d=\"M 9.8125 72.90625 \n",
       "L 19.671875 72.90625 \n",
       "L 19.671875 43.015625 \n",
       "L 55.515625 43.015625 \n",
       "L 55.515625 72.90625 \n",
       "L 65.375 72.90625 \n",
       "L 65.375 0 \n",
       "L 55.515625 0 \n",
       "L 55.515625 34.71875 \n",
       "L 19.671875 34.71875 \n",
       "L 19.671875 0 \n",
       "L 9.8125 0 \n",
       "z\n",
       "\" id=\"DejaVuSans-1053\"/>\n",
       "       <path d=\"M 18.0625 25.203125 \n",
       "L 18.0625 7.171875 \n",
       "L 30.859375 7.171875 \n",
       "Q 37.015625 7.171875 40.234375 9.484375 \n",
       "Q 43.453125 11.8125 43.453125 16.21875 \n",
       "Q 43.453125 20.609375 40.234375 22.90625 \n",
       "Q 37.015625 25.203125 30.859375 25.203125 \n",
       "z\n",
       "M 18.0625 47.515625 \n",
       "L 18.0625 32.375 \n",
       "L 29.890625 32.375 \n",
       "Q 34.96875 32.375 38.1875 34.390625 \n",
       "Q 41.40625 36.421875 41.40625 40.046875 \n",
       "Q 41.40625 43.65625 38.1875 45.578125 \n",
       "Q 34.96875 47.515625 29.890625 47.515625 \n",
       "z\n",
       "M 9.078125 54.6875 \n",
       "L 30.46875 54.6875 \n",
       "Q 40.09375 54.6875 45.265625 51.171875 \n",
       "Q 50.4375 47.65625 50.4375 41.15625 \n",
       "Q 50.4375 36.140625 47.796875 33.171875 \n",
       "Q 45.171875 30.21875 39.984375 29.5 \n",
       "Q 46.1875 28.328125 49.609375 24.609375 \n",
       "Q 53.03125 20.90625 53.03125 15.328125 \n",
       "Q 53.03125 8.015625 47.390625 4 \n",
       "Q 41.75 0 31.296875 0 \n",
       "L 9.078125 0 \n",
       "z\n",
       "\" id=\"DejaVuSans-1074\"/>\n",
       "      </defs>\n",
       "      <use xlink:href=\"#DejaVuSans-1053\"/>\n",
       "      <use x=\"75.195312\" xlink:href=\"#DejaVuSans-1072\"/>\n",
       "      <use x=\"136.474609\" xlink:href=\"#DejaVuSans-1079\"/>\n",
       "      <use x=\"189.648438\" xlink:href=\"#DejaVuSans-1074\"/>\n",
       "      <use x=\"248.583984\" xlink:href=\"#DejaVuSans-1072\"/>\n",
       "      <use x=\"309.863281\" xlink:href=\"#DejaVuSans-1085\"/>\n",
       "      <use x=\"375.244141\" xlink:href=\"#DejaVuSans-1080\"/>\n",
       "      <use x=\"440.234375\" xlink:href=\"#DejaVuSans-1077\"/>\n",
       "      <use x=\"501.757812\" xlink:href=\"#DejaVuSans-32\"/>\n",
       "      <use x=\"533.544922\" xlink:href=\"#DejaVuSans-1087\"/>\n",
       "      <use x=\"598.925781\" xlink:href=\"#DejaVuSans-1088\"/>\n",
       "      <use x=\"662.402344\" xlink:href=\"#DejaVuSans-1080\"/>\n",
       "      <use x=\"727.392578\" xlink:href=\"#DejaVuSans-1079\"/>\n",
       "      <use x=\"780.566406\" xlink:href=\"#DejaVuSans-1085\"/>\n",
       "      <use x=\"845.947266\" xlink:href=\"#DejaVuSans-1072\"/>\n",
       "      <use x=\"907.226562\" xlink:href=\"#DejaVuSans-1082\"/>\n",
       "      <use x=\"967.626953\" xlink:href=\"#DejaVuSans-1072\"/>\n",
       "     </g>\n",
       "    </g>\n",
       "   </g>\n",
       "   <g id=\"patch_16\">\n",
       "    <path d=\"M 69.559375 224.64 \n",
       "L 69.559375 7.2 \n",
       "\" style=\"fill:none;stroke:#000000;stroke-linecap:square;stroke-linejoin:miter;stroke-width:0.8;\"/>\n",
       "   </g>\n",
       "   <g id=\"patch_17\">\n",
       "    <path d=\"M 404.359375 224.64 \n",
       "L 404.359375 7.2 \n",
       "\" style=\"fill:none;stroke:#000000;stroke-linecap:square;stroke-linejoin:miter;stroke-width:0.8;\"/>\n",
       "   </g>\n",
       "   <g id=\"patch_18\">\n",
       "    <path d=\"M 69.559375 224.64 \n",
       "L 404.359375 224.64 \n",
       "\" style=\"fill:none;stroke:#000000;stroke-linecap:square;stroke-linejoin:miter;stroke-width:0.8;\"/>\n",
       "   </g>\n",
       "   <g id=\"patch_19\">\n",
       "    <path d=\"M 69.559375 7.2 \n",
       "L 404.359375 7.2 \n",
       "\" style=\"fill:none;stroke:#000000;stroke-linecap:square;stroke-linejoin:miter;stroke-width:0.8;\"/>\n",
       "   </g>\n",
       "  </g>\n",
       " </g>\n",
       " <defs>\n",
       "  <clipPath id=\"p04db0661d8\">\n",
       "   <rect height=\"217.44\" width=\"334.8\" x=\"69.559375\" y=\"7.2\"/>\n",
       "  </clipPath>\n",
       " </defs>\n",
       "</svg>\n"
      ],
      "text/plain": [
       "<Figure size 432x288 with 1 Axes>"
      ]
     },
     "metadata": {
      "needs_background": "light"
     },
     "output_type": "display_data"
    }
   ],
   "source": [
    "plt.barh(boston_data_train.columns, lr.coef_.flatten())\n",
    "plt.xlabel('Вес признака')\n",
    "plt.ylabel('Название признака')"
   ]
  },
  {
   "cell_type": "code",
   "execution_count": null,
   "id": "3951e892",
   "metadata": {},
   "outputs": [],
   "source": [
    "# Уберем из выборки признаки значение которых близки к нулю INDUS и AGE\n",
    "feats = [x for x in feature_names]\n",
    "feats"
   ]
  },
  {
   "cell_type": "code",
   "execution_count": null,
   "id": "563c1bb8",
   "metadata": {},
   "outputs": [],
   "source": [
    "# Убираем признаки AGE и INDUS т.к. у этих признаков судя по графику самые низкие веса\n",
    "feats.remove('INDUS')\n",
    "feats.remove('AGE')\n",
    "feats"
   ]
  },
  {
   "cell_type": "code",
   "execution_count": null,
   "id": "f00edfdc",
   "metadata": {},
   "outputs": [],
   "source": [
    "# Создадим функцию которая создает модель на тренеровочных данных и проверяет на реальных данных, \n",
    "# затем возвращает среднеквадратичную ошибку\n",
    "def create_model(x_train, y_train, x_test, y_test, feats, model):\n",
    "    '''\n",
    "    args:\n",
    "    x_train, y_train, x_test, y_test - данные\n",
    "    feats - список признаков\n",
    "    model - Модель\n",
    "    return: \n",
    "    mse - среднеквадратичное отклонение (ошибка)\n",
    "    '''\n",
    "    model.fit(x_train.loc[:, feats], y_train)\n",
    "    y_pred = model.predict(x_test.loc[:, feats])\n",
    "    mse = mean_squared_error(y_test, y_pred)\n",
    "    return mse"
   ]
  },
  {
   "cell_type": "code",
   "execution_count": null,
   "id": "cbc0144e",
   "metadata": {},
   "outputs": [],
   "source": [
    "create_model(x_train_scaled, y_train, x_test_scaled, y_test, feats, LinearRegression())"
   ]
  },
  {
   "cell_type": "code",
   "execution_count": null,
   "id": "96c70e72",
   "metadata": {},
   "outputs": [],
   "source": [
    "# сверяем с исходным отклонением\n",
    "initial_mse"
   ]
  },
  {
   "cell_type": "code",
   "execution_count": null,
   "id": "245e3e66",
   "metadata": {},
   "outputs": [],
   "source": [
    "# убрав несколько признаков, отклонение немного уменьшилось "
   ]
  },
  {
   "cell_type": "markdown",
   "id": "ce3cea72",
   "metadata": {},
   "source": [
    "> Для того чтобы постоить хрошую модель нужно подобрать и обработать признаки, а также справиться с проблемой переобучения. <br>\n",
    "Данная проблема возникает когда модель хорошо работает на тех данных на которых она была построена, но плохо предсказывает на новых данных.\n",
    "<br>\n",
    "<br>\n",
    "Одним из решений является регуляризация\n"
   ]
  },
  {
   "cell_type": "markdown",
   "id": "bfaaaf8a",
   "metadata": {},
   "source": [
    "## 07 Модели линейной регрессии с регуляризацией"
   ]
  },
  {
   "cell_type": "code",
   "execution_count": null,
   "id": "4627f51e",
   "metadata": {},
   "outputs": [],
   "source": [
    "from sklearn.linear_model import Lasso, Ridge "
   ]
  },
  {
   "cell_type": "markdown",
   "id": "d0c80517",
   "metadata": {},
   "source": [
    "> класс <b>Lasso</b> - линейная регрессия с L1-регуляризацией <br>\n",
    "класс <b>Ridge</b> - линейная регрессия с L2-регуляризацией"
   ]
  },
  {
   "cell_type": "markdown",
   "id": "76ee80fe",
   "metadata": {},
   "source": [
    "#### Lasso"
   ]
  },
  {
   "cell_type": "code",
   "execution_count": null,
   "id": "19739da2",
   "metadata": {},
   "outputs": [],
   "source": [
    "model_lasso = Lasso(alpha=0.003) \n",
    "# при помощи аргумента alpha мы можем влиять на степень регуляризации и тем сильнее мы боремся с переобучением"
   ]
  },
  {
   "cell_type": "markdown",
   "id": "a5d070a0",
   "metadata": {},
   "source": [
    "> оба класса имеют похожий интефейс ( набор функций ) с LenearRegression такие как fit и predict"
   ]
  },
  {
   "cell_type": "code",
   "execution_count": null,
   "id": "41527d51",
   "metadata": {},
   "outputs": [],
   "source": [
    "model_lasso_result = create_model(x_train_scaled, y_train, x_test_scaled, y_test, feats, model_lasso )\n",
    "model_lasso_result"
   ]
  },
  {
   "cell_type": "code",
   "execution_count": null,
   "id": "b9369468",
   "metadata": {},
   "outputs": [],
   "source": [
    "initial_mse"
   ]
  },
  {
   "cell_type": "code",
   "execution_count": null,
   "id": "19d88555",
   "metadata": {},
   "outputs": [],
   "source": [
    "initial_mse_hands"
   ]
  },
  {
   "cell_type": "markdown",
   "id": "86e7dd1d",
   "metadata": {},
   "source": [
    "#### Ridge ( гребень )"
   ]
  },
  {
   "cell_type": "code",
   "execution_count": null,
   "id": "b556028a",
   "metadata": {},
   "outputs": [],
   "source": [
    "model_ridge = Ridge(alpha=0.001)"
   ]
  },
  {
   "cell_type": "code",
   "execution_count": null,
   "id": "a55c29c2",
   "metadata": {},
   "outputs": [],
   "source": [
    "model_ridge_result = create_model(x_train_scaled, y_train, x_test_scaled, y_test, feats, model_ridge )\n",
    "model_ridge_result"
   ]
  },
  {
   "cell_type": "code",
   "execution_count": null,
   "id": "54b56f9f",
   "metadata": {},
   "outputs": [],
   "source": [
    "model_lasso_result"
   ]
  },
  {
   "cell_type": "code",
   "execution_count": null,
   "id": "d925512f",
   "metadata": {},
   "outputs": [],
   "source": [
    "model_ridge_result"
   ]
  },
  {
   "cell_type": "code",
   "execution_count": null,
   "id": "8eb61755",
   "metadata": {},
   "outputs": [],
   "source": [
    "initial_mse"
   ]
  },
  {
   "cell_type": "markdown",
   "id": "01319af3",
   "metadata": {},
   "source": [
    ">  При использовании регуляризации веса признаком понижают свое обсолютное значение, <br>\n",
    "!!! <b>этим устранияется одна из причин переобучения - бесконтрольный рост коэффициентов</b> !!! <br>\n",
    "чем выше коэффициент alpha тем ближе к нулю располагаются веса\n"
   ]
  },
  {
   "cell_type": "code",
   "execution_count": null,
   "id": "a3b52c06",
   "metadata": {},
   "outputs": [],
   "source": [
    "n = 21\n",
    "coeffs = np.zeros((n, len(feats)))\n",
    "alpha_list = np.logspace(-3, 1, n)\n",
    "alpha_list[3]\n",
    "for i, val in enumerate(alpha_list):\n",
    "    print(f\"i: {i}, val: {val}\")\n",
    "    lasso = Lasso(alpha = val)\n",
    "    lasso.fit(x_train_scaled.loc[:, feats], y_train)\n",
    "    coeffs[i, :] = lasso.coef_.flatten()\n",
    "    "
   ]
  },
  {
   "cell_type": "code",
   "execution_count": null,
   "id": "979960c4",
   "metadata": {},
   "outputs": [],
   "source": [
    "from pylab import rcParams\n",
    "rcParams[\"figure.figsize\"] = 10, 5\n",
    "\n",
    "for i in range(len(feats)):\n",
    "    plt.plot(alpha_list, coeffs[:, i])\n",
    "plt.title('Убывание аболютных значений весов признаков \\nпри увеличении коэффициента регуляризации alpha (Lasso)')\n",
    "plt.xlabel('alpha')\n",
    "plt.ylabel('Вес признака')\n",
    "#plt.legend?\n",
    "plt.legend(feats, loc='center right')"
   ]
  },
  {
   "cell_type": "markdown",
   "id": "4813da8d",
   "metadata": {},
   "source": [
    "> Такой эффект Lasso регресси иногда используются для отбора признаков т.к. незначительные признаки обнуляются на мегьших значениях alpha"
   ]
  },
  {
   "cell_type": "code",
   "execution_count": null,
   "id": "884d9e89",
   "metadata": {},
   "outputs": [],
   "source": [
    "n = 66\n",
    "coeffs = np.zeros((n, len(feats)))\n",
    "alpha_list = np.logspace(-3, 3.5, n)\n",
    "alpha_list[3]\n",
    "for i, val in enumerate(alpha_list):\n",
    "    #print(f\"i: {i}, val: {val}\")\n",
    "    ridge = Ridge(alpha = val)\n",
    "    ridge.fit(x_train_scaled.loc[:, feats], y_train)\n",
    "    coeffs[i, :] = ridge.coef_.flatten()\n",
    "\n",
    "# Определяем размер полотна\n",
    "from pylab import rcParams\n",
    "rcParams[\"figure.figsize\"] = 10, 5\n",
    "\n",
    "for i in range(len(feats)):\n",
    "    plt.plot(alpha_list, coeffs[:, i])\n",
    "plt.title('Убывание аболютных значений весов признаков \\nпри увеличении коэффициента регуляризации alpha (Ridge)')\n",
    "plt.xlabel('alpha')\n",
    "plt.ylabel('Вес признака')\n",
    "#plt.legend?\n",
    "plt.legend(feats, loc='center right')"
   ]
  },
  {
   "cell_type": "markdown",
   "id": "6317d54e",
   "metadata": {},
   "source": [
    "> При использании Ridge регрессии веса признаков по модулю также снижаютс, но делают это более плавно"
   ]
  },
  {
   "cell_type": "markdown",
   "id": "b5d6e919",
   "metadata": {},
   "source": [
    "# <span style=\"color:blue\">Обучение с учителем Scikit-Learn\n",
    "\n",
    "# <span style=\"color:blue\">Логистическая регрессия </span>"
   ]
  },
  {
   "cell_type": "markdown",
   "id": "e1c0c489",
   "metadata": {},
   "source": [
    "## 01 Применение логистической регрессии"
   ]
  },
  {
   "cell_type": "markdown",
   "id": "e111119f",
   "metadata": {},
   "source": [
    "> Логистическая регрессия - это один из самых простых признаков классификации, <br>\n",
    "в бинарной класификации два класса 0 и 1, одно событие обозначается нулем другое единицей <br>\n",
    "Когда мы применяем модель логистической регресси мы определяем вероятность, далее значение вероятно можно огруглить, т.е. если вероятно меньше 0.5 то это вероятность 0, а если больше или равно то 1 "
   ]
  },
  {
   "cell_type": "markdown",
   "id": "aa259825",
   "metadata": {},
   "source": [
    "> Не используется для решения задач регресси, а только для классификации <br>\n",
    "тем не менее задача алгоритма таже подобрать подходящие (оптимальные) веса для признаков"
   ]
  },
  {
   "cell_type": "markdown",
   "id": "086ce4fa",
   "metadata": {},
   "source": [
    "Задача алгоритма логистической регрессии - найти подходящие коэффициенты w при признаках x:"
   ]
  },
  {
   "cell_type": "markdown",
   "id": "63937da2",
   "metadata": {},
   "source": [
    "$z = {w}_{0} + {w}_{1} + {w}_{2} * {x}_{2} + ... + {w}_{m} * {w}_{m}$"
   ]
  },
  {
   "cell_type": "markdown",
   "id": "d3f3781f",
   "metadata": {},
   "source": [
    "Величина z помещается в сигмоидную функцию для вычисления вероятности:"
   ]
  },
  {
   "cell_type": "markdown",
   "id": "87307f48",
   "metadata": {},
   "source": [
    "$f_(x)=\\Bigg[\\frac{1}{1 + {e}_{-z}}\\Bigg]$"
   ]
  },
  {
   "cell_type": "markdown",
   "id": "83675043",
   "metadata": {},
   "source": [
    "Значение f(x) будет расположено на отрезке [0, 1]"
   ]
  },
  {
   "cell_type": "markdown",
   "id": "9318a182",
   "metadata": {},
   "source": [
    "f(x) - вероятность отнесения события к классу 1"
   ]
  },
  {
   "cell_type": "markdown",
   "id": "2d8b8675",
   "metadata": {},
   "source": [
    "1 - f(x) -вероятность отнесения события к классу 0"
   ]
  },
  {
   "cell_type": "markdown",
   "id": "c66327f7",
   "metadata": {},
   "source": [
    "### Log loss"
   ]
  },
  {
   "cell_type": "markdown",
   "id": "743e97a3",
   "metadata": {},
   "source": [
    "> чем более подходящие веса для логистической регресси подбираем тем ниже функция потерь, которая широко применяется для задач бинарной классификации"
   ]
  },
  {
   "cell_type": "markdown",
   "id": "a40bad91",
   "metadata": {},
   "source": [
    "> Чем ниже logloss тем более точные ответы мы получаем используя логистическую регрессию, при идеальных ответах log loss = 0 ( на практике такого не бывает ), если модель плозая log loss стремиться к бесконечности"
   ]
  },
  {
   "cell_type": "markdown",
   "id": "040c5514",
   "metadata": {},
   "source": [
    "> log loss для логистической регресси тоже самое, что среднеквадратичная ошибка для линейной регрессии"
   ]
  },
  {
   "cell_type": "markdown",
   "id": "50caa846",
   "metadata": {},
   "source": [
    "$logloss = -y * ln(p) - (1 - y) * ln(1 -p )$"
   ]
  },
  {
   "cell_type": "markdown",
   "id": "deb82308",
   "metadata": {},
   "source": [
    "- y - правильный ответ или истинное значение ( 0 или 1 ), в зависимости от отго к какому классу относиться событие\n",
    "- p - это то что мы получаем в результате нашего алгоритма, точ то выше обозначили как f(x) т.е. вероятность"
   ]
  },
  {
   "cell_type": "markdown",
   "id": "86d98abd",
   "metadata": {},
   "source": [
    "> чем лучше наш алгоритм тем p ближе к значению y и тем ниже logloss"
   ]
  },
  {
   "cell_type": "code",
   "execution_count": null,
   "id": "7c68bd9a",
   "metadata": {},
   "outputs": [],
   "source": [
    "import pandas as pd"
   ]
  },
  {
   "cell_type": "code",
   "execution_count": null,
   "id": "dd6fdf63",
   "metadata": {},
   "outputs": [],
   "source": [
    "import numpy as np"
   ]
  },
  {
   "cell_type": "code",
   "execution_count": null,
   "id": "537e218b",
   "metadata": {},
   "outputs": [],
   "source": [
    "from sklearn.model_selection import train_test_split"
   ]
  },
  {
   "cell_type": "code",
   "execution_count": null,
   "id": "4b404b4e",
   "metadata": {},
   "outputs": [],
   "source": [
    "from sklearn.linear_model import LogisticRegression"
   ]
  },
  {
   "cell_type": "markdown",
   "id": "b563270c",
   "metadata": {},
   "source": [
    "#### Подгрузим датасет с информацие о пасажирах титаника"
   ]
  },
  {
   "cell_type": "markdown",
   "id": "5ed73bfc",
   "metadata": {},
   "source": [
    "<a> https://www.kaggle.com/c/titanic/data </a>"
   ]
  },
  {
   "cell_type": "code",
   "execution_count": null,
   "id": "fddaf581",
   "metadata": {},
   "outputs": [],
   "source": [
    "data = pd.read_csv('kaagle_data/titanic_data_train.csv')"
   ]
  },
  {
   "cell_type": "code",
   "execution_count": null,
   "id": "b17a7236",
   "metadata": {},
   "outputs": [],
   "source": [
    "data"
   ]
  },
  {
   "cell_type": "code",
   "execution_count": null,
   "id": "4a7a1bb2",
   "metadata": {},
   "outputs": [],
   "source": [
    "data.keys()"
   ]
  },
  {
   "cell_type": "code",
   "execution_count": null,
   "id": "8a6790a1",
   "metadata": {},
   "outputs": [],
   "source": [
    "data = data.set_index('PassengerId')"
   ]
  },
  {
   "cell_type": "code",
   "execution_count": null,
   "id": "1aaddd99",
   "metadata": {},
   "outputs": [],
   "source": [
    "data"
   ]
  },
  {
   "cell_type": "markdown",
   "id": "a7eb8841",
   "metadata": {},
   "source": [
    "##### Задача - поределить признак Survived ( целевая переменная ), выжил-ли пасажир при крушении\n",
    "- 0 - утонул\n",
    "- 1 - выжил"
   ]
  },
  {
   "cell_type": "code",
   "execution_count": null,
   "id": "a01eaf07",
   "metadata": {},
   "outputs": [],
   "source": [
    "target = 'Survived'\n",
    "y = data[target] # Series содержит столбец Survived\n",
    "x = data.drop(target, axis=1) # Датасет без признака целевой переменной Survived"
   ]
  },
  {
   "cell_type": "markdown",
   "id": "84d2d205",
   "metadata": {},
   "source": [
    "##### Изучение качества данных"
   ]
  },
  {
   "cell_type": "markdown",
   "id": "096911ab",
   "metadata": {},
   "source": [
    "> По необходимости поработаем над очисткой данных"
   ]
  },
  {
   "cell_type": "code",
   "execution_count": null,
   "id": "1ca99cff",
   "metadata": {},
   "outputs": [],
   "source": [
    "x.info()"
   ]
  },
  {
   "cell_type": "markdown",
   "id": "23726435",
   "metadata": {},
   "source": [
    "Видим что не все поля полностью заполнены:\n",
    "- Cabin - заполнено всего 204 поля из 891\n",
    "- Age - заполнено 714 поля из 891\n",
    "- Embarked - заполнено 889 из 891"
   ]
  },
  {
   "cell_type": "code",
   "execution_count": null,
   "id": "5f3dd0da",
   "metadata": {},
   "outputs": [],
   "source": [
    "# Удалем не интересующие нас столбцы ( хотя признак Cabin очень интересен расположением до палубы )\n",
    "x = x.drop(['Cabin', 'Ticket', 'Name'], axis=1)"
   ]
  },
  {
   "cell_type": "code",
   "execution_count": null,
   "id": "5b661888",
   "metadata": {},
   "outputs": [],
   "source": [
    "# В поле Age 20% полей не заполнены, заполним их средним возрастом\n",
    "mean_age = x['Age'].mean()"
   ]
  },
  {
   "cell_type": "code",
   "execution_count": null,
   "id": "f1493c07",
   "metadata": {},
   "outputs": [],
   "source": [
    "mean_age"
   ]
  },
  {
   "cell_type": "code",
   "execution_count": null,
   "id": "89cba041",
   "metadata": {},
   "outputs": [],
   "source": [
    "x['Age'] = x['Age'].fillna(mean_age)"
   ]
  },
  {
   "cell_type": "markdown",
   "id": "53d2a9b2",
   "metadata": {},
   "source": [
    "В поле Emarked проущены всего два поля и оно является строковым, заполним из чаше всего встречающимися значениями ( модой )"
   ]
  },
  {
   "cell_type": "code",
   "execution_count": null,
   "id": "76c8f15e",
   "metadata": {},
   "outputs": [],
   "source": [
    "emb = x['Embarked'].value_counts()\n",
    "emb"
   ]
  },
  {
   "cell_type": "code",
   "execution_count": null,
   "id": "3b37a610",
   "metadata": {},
   "outputs": [],
   "source": [
    "type(emb)"
   ]
  },
  {
   "cell_type": "code",
   "execution_count": null,
   "id": "8102dfa6",
   "metadata": {},
   "outputs": [],
   "source": [
    "emb.idxmax()"
   ]
  },
  {
   "cell_type": "code",
   "execution_count": null,
   "id": "2830d879",
   "metadata": {},
   "outputs": [],
   "source": [
    "x['Embarked'] = x['Embarked'].fillna(emb.idxmax())"
   ]
  },
  {
   "cell_type": "code",
   "execution_count": null,
   "id": "3c14ba08",
   "metadata": {},
   "outputs": [],
   "source": [
    "x.info()"
   ]
  },
  {
   "cell_type": "markdown",
   "id": "cec28b74",
   "metadata": {},
   "source": [
    " Признак Sex является категориальным ( от слова категория ) т.к. в ней два класса male и female. Проеобразуем пловой категориальный признак Sex из строкового в числовой male = 0, female = 1"
   ]
  },
  {
   "cell_type": "code",
   "execution_count": null,
   "id": "281f8c1f",
   "metadata": {},
   "outputs": [],
   "source": [
    "x['Sex'].value_counts()"
   ]
  },
  {
   "cell_type": "code",
   "execution_count": null,
   "id": "fb959f62",
   "metadata": {},
   "outputs": [],
   "source": [
    "x['Sex'] = ( x['Sex'] == 'female').astype(int)"
   ]
  },
  {
   "cell_type": "code",
   "execution_count": null,
   "id": "a64907d6",
   "metadata": {},
   "outputs": [],
   "source": [
    "x['Sex'].value_counts()"
   ]
  },
  {
   "cell_type": "markdown",
   "id": "056ea4e8",
   "metadata": {},
   "source": [
    "Признак Embarked также категориальный и имее три класса, преобразуем его в dummy-переменные.<br>\n",
    "Создадим отдельные колонки с названиями категорий и будем хранить в них принадлежность пасажира к этой категории, 1 принадлежит, 0 не принадлежит"
   ]
  },
  {
   "cell_type": "code",
   "execution_count": null,
   "id": "d9d311d9",
   "metadata": {},
   "outputs": [],
   "source": [
    "# т.к. единственный сне числовой столбец остался Ebarked то функция get_dummies будет рпименен только к нему\n",
    "x = pd.get_dummies(x)"
   ]
  },
  {
   "cell_type": "code",
   "execution_count": null,
   "id": "adac6911",
   "metadata": {},
   "outputs": [],
   "source": [
    "x.columns"
   ]
  },
  {
   "cell_type": "markdown",
   "id": "cce53c8e",
   "metadata": {},
   "source": [
    "Видим что колнка Embarked удлаилась6 но появились три новые колонки 'Embarked_C','Embarked_Q', 'Embarked_S'"
   ]
  },
  {
   "cell_type": "code",
   "execution_count": null,
   "id": "3443e2e6",
   "metadata": {},
   "outputs": [],
   "source": [
    "x.info()"
   ]
  },
  {
   "cell_type": "markdown",
   "id": "1f46a8ce",
   "metadata": {},
   "source": [
    "Видим что теперь все поля датасета заполнены"
   ]
  },
  {
   "cell_type": "code",
   "execution_count": null,
   "id": "e23cf960",
   "metadata": {},
   "outputs": [],
   "source": [
    "x.head()"
   ]
  },
  {
   "cell_type": "markdown",
   "id": "f03b97df",
   "metadata": {},
   "source": [
    "Признак Pclass является числовым, но не колличественным и особой разницы для нас она не несет, поэтому преобразуем ее сначала в категориальный ( category )  признак, а затем в dummy\n",
    "- !!! Вопрос !!! как можно определить какой тип у признака"
   ]
  },
  {
   "cell_type": "code",
   "execution_count": null,
   "id": "d61ce592",
   "metadata": {},
   "outputs": [],
   "source": [
    "x['Pclass'].unique()"
   ]
  },
  {
   "cell_type": "code",
   "execution_count": null,
   "id": "f99de03a",
   "metadata": {},
   "outputs": [],
   "source": [
    "x['Pclass'] = x['Pclass'].astype('category')"
   ]
  },
  {
   "cell_type": "code",
   "execution_count": null,
   "id": "29cdc7b1",
   "metadata": {},
   "outputs": [],
   "source": [
    "x = pd.get_dummies(x)"
   ]
  },
  {
   "cell_type": "code",
   "execution_count": null,
   "id": "36f852d3",
   "metadata": {},
   "outputs": [],
   "source": [
    "x.columns"
   ]
  },
  {
   "cell_type": "code",
   "execution_count": null,
   "id": "d61b4f32",
   "metadata": {},
   "outputs": [],
   "source": [
    "x.head(10)"
   ]
  },
  {
   "cell_type": "code",
   "execution_count": null,
   "id": "12c55d04",
   "metadata": {},
   "outputs": [],
   "source": [
    "x.info()"
   ]
  },
  {
   "cell_type": "markdown",
   "id": "6106ca0d",
   "metadata": {},
   "source": [
    "#### Какова цель разбиения данных на валидационный, тестовый и тренировочный датасеты"
   ]
  },
  {
   "cell_type": "markdown",
   "id": "14a32cad",
   "metadata": {},
   "source": [
    "В этот раз мы разобъем данные из файла train.csv на две части:\n",
    "- тренировочный набор данных x_triain и y_train\n",
    "- валидационный набор данных x_valid и y_valid <br>\n",
    "На тренировочном датасете будем стоить модель, а на валидационном датасете проверять её качество <br>\n",
    "После проверки на валидационном датасете модно будет проверить модель на тестовом датасете test.csv ( скачать с kaggle ) <br>\n",
    "Полсе чего можно опубликовать результат на kaggle =)"
   ]
  },
  {
   "cell_type": "code",
   "execution_count": null,
   "id": "6b7e88aa",
   "metadata": {},
   "outputs": [],
   "source": [
    "x_train, x_valid, y_train, y_valid = train_test_split(x, y, test_size=0.25, random_state=42)"
   ]
  },
  {
   "cell_type": "markdown",
   "id": "a1cbbe11",
   "metadata": {},
   "source": [
    "#### Построение модели"
   ]
  },
  {
   "cell_type": "markdown",
   "id": "42e36295",
   "metadata": {},
   "source": [
    "Для начала построим простую модель <br>\n",
    "Затем будем сранвнивать качесво новых моделей с ней"
   ]
  },
  {
   "cell_type": "code",
   "execution_count": null,
   "id": "fbe2ee42",
   "metadata": {},
   "outputs": [],
   "source": [
    "x_train.info()"
   ]
  },
  {
   "cell_type": "code",
   "execution_count": null,
   "id": "aa8b93b4",
   "metadata": {},
   "outputs": [],
   "source": [
    "lr = LogisticRegression()"
   ]
  },
  {
   "cell_type": "code",
   "execution_count": null,
   "id": "9663efba",
   "metadata": {},
   "outputs": [],
   "source": [
    "lr.fit(x_train, y_train)"
   ]
  },
  {
   "cell_type": "code",
   "execution_count": null,
   "id": "9cd213b5",
   "metadata": {},
   "outputs": [],
   "source": [
    "y_pred = lr.predict(x_valid)"
   ]
  },
  {
   "cell_type": "code",
   "execution_count": null,
   "id": "874ce9f8",
   "metadata": {},
   "outputs": [],
   "source": [
    "y_pred"
   ]
  },
  {
   "cell_type": "markdown",
   "id": "925d338b",
   "metadata": {},
   "source": [
    "Для подсчета доли правильных ответов подгрузим функцию accuracy_score"
   ]
  },
  {
   "cell_type": "code",
   "execution_count": null,
   "id": "055219b0",
   "metadata": {},
   "outputs": [],
   "source": [
    "from sklearn.metrics import accuracy_score"
   ]
  },
  {
   "cell_type": "code",
   "execution_count": null,
   "id": "24c77467",
   "metadata": {},
   "outputs": [],
   "source": [
    "log_reress_acuuracy_valid = accuracy_score(y_valid, y_pred)\n",
    "log_reress_acuuracy_valid"
   ]
  },
  {
   "cell_type": "markdown",
   "id": "048bf873",
   "metadata": {},
   "source": [
    "Сделаем предсказание на тренировочном датасете"
   ]
  },
  {
   "cell_type": "code",
   "execution_count": null,
   "id": "ae6c06bc",
   "metadata": {},
   "outputs": [],
   "source": [
    "y_pred_train = lr.predict(x_train)"
   ]
  },
  {
   "cell_type": "code",
   "execution_count": null,
   "id": "4ba47196",
   "metadata": {},
   "outputs": [],
   "source": [
    "log_reress_acuuracy_train = accuracy_score(y_train, y_pred_train)\n",
    "log_reress_acuuracy_train"
   ]
  },
  {
   "cell_type": "markdown",
   "id": "5038d294",
   "metadata": {},
   "source": [
    "> На тренеровочном датасете этот показатель выше, возможно это из-за небольшого переобучения"
   ]
  },
  {
   "cell_type": "markdown",
   "id": "c32136e6",
   "metadata": {},
   "source": [
    "Методом <b> predict </b> мы вычисляли Классы событий <br>\n",
    "Метод <b> predict_probe </b> вычисляет вероятность собыитя 0 или 1"
   ]
  },
  {
   "cell_type": "markdown",
   "id": "cc71aa64",
   "metadata": {},
   "source": [
    "#### Получение вероятности события"
   ]
  },
  {
   "cell_type": "code",
   "execution_count": null,
   "id": "ea6990e1",
   "metadata": {},
   "outputs": [],
   "source": [
    "y_proba = lr.predict_proba(x_valid)"
   ]
  },
  {
   "cell_type": "code",
   "execution_count": null,
   "id": "b440b56a",
   "metadata": {},
   "outputs": [],
   "source": [
    "# Вероятность события для каждого пассажира\n",
    "y_proba"
   ]
  },
  {
   "cell_type": "markdown",
   "id": "7b8251d6",
   "metadata": {},
   "source": [
    "Вернется массив событий первый столбец - это вес вероятности 0, второй это вес вероятности 1\n",
    "Первый столбец вероятности события 0, второй столбец веротяности события 1 <br>\n",
    "нас интересует вероятность события 1 ( правый стобец ) - при получении ответа значения из него округляются до 0 или до 1"
   ]
  },
  {
   "cell_type": "code",
   "execution_count": null,
   "id": "997eb08e",
   "metadata": {},
   "outputs": [],
   "source": [
    "y_proba[0]"
   ]
  },
  {
   "cell_type": "code",
   "execution_count": null,
   "id": "6d9c8899",
   "metadata": {},
   "outputs": [],
   "source": [
    "lr.classes_"
   ]
  },
  {
   "cell_type": "markdown",
   "id": "ba891b30",
   "metadata": {},
   "source": [
    "#### Сохраняем данные"
   ]
  },
  {
   "cell_type": "code",
   "execution_count": null,
   "id": "f734d354",
   "metadata": {},
   "outputs": [],
   "source": [
    "x_train.to_pickle('x_train.pkl')\n",
    "y_train.to_pickle('y_train.pkl')\n",
    "\n",
    "x_valid.to_pickle('x_valid.pkl')\n",
    "y_valid.to_pickle('y_valid.pkl')"
   ]
  },
  {
   "cell_type": "code",
   "execution_count": null,
   "id": "d75e8e86",
   "metadata": {},
   "outputs": [],
   "source": [
    "!ls -l"
   ]
  },
  {
   "cell_type": "markdown",
   "id": "3d7fba49",
   "metadata": {},
   "source": [
    "# <span style=\"color:blue\">Обучение с учителем Scikit-Learn\n",
    "\n",
    "# <span style=\"color:blue\">Support Vector Machine </span>"
   ]
  },
  {
   "cell_type": "markdown",
   "id": "6bf79f36",
   "metadata": {},
   "source": [
    "Suuport Vector Machene - или метод опорных векторов один из самых известных методов машинного обучения он включает в себя несколько алогритмов с помощью них можно решать задачи классификации, либо здачи регрессии."
   ]
  },
  {
   "cell_type": "code",
   "execution_count": null,
   "id": "dcad7d54",
   "metadata": {},
   "outputs": [],
   "source": [
    "import pandas as pd\n",
    "import numpy as np"
   ]
  },
  {
   "cell_type": "code",
   "execution_count": null,
   "id": "69632ca9",
   "metadata": {},
   "outputs": [],
   "source": [
    "from sklearn.svm import SVC # Support Vector Cliassifire\n",
    "# С помощью этого класса можно строить МОДЕЛИ КЛАССИФИКАЦИЙ на основе метода Support Vector Machine"
   ]
  },
  {
   "cell_type": "code",
   "execution_count": null,
   "id": "450c0e98",
   "metadata": {},
   "outputs": [],
   "source": [
    "x_train = pd.read_pickle('x_train.pkl')\n",
    "y_train = pd.read_pickle('y_train.pkl')"
   ]
  },
  {
   "cell_type": "code",
   "execution_count": null,
   "id": "15cd64a9",
   "metadata": {},
   "outputs": [],
   "source": [
    "x_valid = pd.read_pickle('x_valid.pkl')\n",
    "y_valid = pd.read_pickle('y_valid.pkl')"
   ]
  },
  {
   "cell_type": "markdown",
   "id": "539b8bd7",
   "metadata": {},
   "source": [
    "> Алгоритмы Support Vector Machine чуствиетльны к ненормализованным и нестандартизованным данным"
   ]
  },
  {
   "cell_type": "markdown",
   "id": "646bab79",
   "metadata": {},
   "source": [
    "Прежде чем начать строить модели на основе алгоритмов Support Vector Machine мы должны привести все признаки к похожему масштабу, <br> \n",
    "т.е. применить стандартизация или нормализацию.\n",
    "- при стандартизации мы отнимали от значения признака среднее  значение по данному признаку затем делили на среднеквадратичное отклонение ( standart_scaler )\n",
    "- в этот раз мы применим нормализацию"
   ]
  },
  {
   "cell_type": "markdown",
   "id": "ddaafc0a",
   "metadata": {},
   "source": [
    "#### Нормализация данных"
   ]
  },
  {
   "cell_type": "markdown",
   "id": "6aa9d77e",
   "metadata": {},
   "source": [
    "> С помощью нормализации значения признаков буду приведены к такому виду, что минимальное значение признаков в тренеровочном датасете  будет равно нулю, а максимольное единице."
   ]
  },
  {
   "cell_type": "markdown",
   "id": "ccabbe95",
   "metadata": {},
   "source": [
    "Воспользуемся классом MinMaxScaler из модуля sklearn.preprocessing"
   ]
  },
  {
   "cell_type": "code",
   "execution_count": null,
   "id": "78c192de",
   "metadata": {},
   "outputs": [],
   "source": [
    "from sklearn.preprocessing import MinMaxScaler"
   ]
  },
  {
   "cell_type": "code",
   "execution_count": null,
   "id": "d4796574",
   "metadata": {},
   "outputs": [],
   "source": [
    "scaler = MinMaxScaler()"
   ]
  },
  {
   "cell_type": "code",
   "execution_count": null,
   "id": "972423f8",
   "metadata": {},
   "outputs": [],
   "source": [
    "x_train.head(10)"
   ]
  },
  {
   "cell_type": "markdown",
   "id": "a31a2a6a",
   "metadata": {},
   "source": [
    "Посмотрим на статистические показатели признаков"
   ]
  },
  {
   "cell_type": "code",
   "execution_count": null,
   "id": "51666586",
   "metadata": {},
   "outputs": [],
   "source": [
    "x_train.describe()"
   ]
  },
  {
   "cell_type": "markdown",
   "id": "265eb94a",
   "metadata": {},
   "source": [
    " Можно заметить, что большая часть признаков это dummy переменные принимающие значение 0 или 1, с ними ничего делать не нужно они уже считаются нормализованными"
   ]
  },
  {
   "cell_type": "markdown",
   "id": "bf9dc407",
   "metadata": {},
   "source": [
    "К примеру признак Age не является нормализованным т.к. его минимальное значение не равны 0 а максимальные на равны 1"
   ]
  },
  {
   "cell_type": "markdown",
   "id": "a3a7611d",
   "metadata": {},
   "source": [
    "Создадим массив со списком ненормализованных признаков"
   ]
  },
  {
   "cell_type": "code",
   "execution_count": null,
   "id": "4b7f7b66",
   "metadata": {},
   "outputs": [],
   "source": [
    "x_train.keys()"
   ]
  },
  {
   "cell_type": "code",
   "execution_count": null,
   "id": "824f39aa",
   "metadata": {},
   "outputs": [],
   "source": [
    "cols_for_scale = ['Age', 'SibSp', 'Parch', 'Fare']"
   ]
  },
  {
   "cell_type": "markdown",
   "id": "1e91b6e0",
   "metadata": {},
   "source": [
    "Применим метод fit_transform объекта MinMaxScaler для нормализации признаков и запишем нормализованные значения <br> в место старых значений этих признаков"
   ]
  },
  {
   "cell_type": "code",
   "execution_count": null,
   "id": "ccff5d8d",
   "metadata": {},
   "outputs": [],
   "source": [
    "x_train[cols_for_scale] = scaler.fit_transform(x_train[cols_for_scale])"
   ]
  },
  {
   "cell_type": "code",
   "execution_count": null,
   "id": "328bedcb",
   "metadata": {},
   "outputs": [],
   "source": [
    "x_train.head(10)"
   ]
  },
  {
   "cell_type": "code",
   "execution_count": null,
   "id": "3097c4a0",
   "metadata": {},
   "outputs": [],
   "source": [
    "x_train.describe()"
   ]
  },
  {
   "cell_type": "markdown",
   "id": "a8c52625",
   "metadata": {},
   "source": [
    "Теперь применим метод trasform к валидационным данным"
   ]
  },
  {
   "cell_type": "code",
   "execution_count": null,
   "id": "8fc7ef3f",
   "metadata": {},
   "outputs": [],
   "source": [
    "x_valid[cols_for_scale] = scaler.transform(x_valid[cols_for_scale])"
   ]
  },
  {
   "cell_type": "code",
   "execution_count": null,
   "id": "3e45a754",
   "metadata": {},
   "outputs": [],
   "source": [
    "x_valid.describe()"
   ]
  },
  {
   "cell_type": "markdown",
   "id": "fc1a229b",
   "metadata": {},
   "source": [
    "> Видим что не у всех признаков минимальное значение равно 0 а максимальное 1 <br>\n",
    "Это в полне нормальное явление, т.к. мы настравивали нормализацию по датафрейму x_train, т.е. применяли метод fit или fit_rtansform именно там, а на валидационном датафрейме применили только метод transform и теперь данные в этом датасете нормализованы согласованно. Просто в датафрейме x_valid не нашлись такиезе минимальные и максмальные значения как в датафреме x_train. <br>\n",
    "!!! Главное что одинаковые значения какого-либо признака после нормализации равны одному и томуже числу не зависимо от того в каком датасете они находяться!!! <br>\n",
    "\n",
    "> При этом датасет x_valid должен нормализовываться по датасету x_train, т.к. именно на датасете x_train будет производиться обучение модели <br>\n",
    "\n",
    "> В дальнейшем если у нас появяться новые данные мы долдны будем использовать нормализацию полученную на датафрейме x_train, можно каждый раз подгружать датафрейм x_train и применять метод fit чтобы создать модель нормализации, но также можно сохранять настроенную модель в файл, чтобы затем из этого файла читать, применять метод fit в таком случе будет уже не нужно, а нужно будет применить только метод transform "
   ]
  },
  {
   "cell_type": "markdown",
   "id": "6c4d8789",
   "metadata": {},
   "source": [
    "#### Созранение модели нормализации в файл и загрузка из файла"
   ]
  },
  {
   "cell_type": "code",
   "execution_count": null,
   "id": "c00c467f",
   "metadata": {},
   "outputs": [],
   "source": [
    "#from sklearn.externals import joblib # устаревший спопоб иморта библиотеки\n",
    "import joblib"
   ]
  },
  {
   "cell_type": "markdown",
   "id": "753b0a6b",
   "metadata": {},
   "source": [
    "Для сохранения модели нормализации в файл воспользуемся методом dump"
   ]
  },
  {
   "cell_type": "code",
   "execution_count": null,
   "id": "93763058",
   "metadata": {},
   "outputs": [],
   "source": [
    "joblib.dump(scaler, 'min_max_scaler.pkl')"
   ]
  },
  {
   "cell_type": "markdown",
   "id": "c2df8542",
   "metadata": {},
   "source": [
    "Для загрузки модели нормализации из файла воспользуемся методом load"
   ]
  },
  {
   "cell_type": "code",
   "execution_count": null,
   "id": "a0122895",
   "metadata": {},
   "outputs": [],
   "source": [
    "scaler = joblib.load('min_max_scaler.pkl')"
   ]
  },
  {
   "cell_type": "markdown",
   "id": "80e287b9",
   "metadata": {},
   "source": [
    "С помощью объекта sacaler, примениф метод transform мы можем нормализовать признаки, перечисленные в массиве cols_for_scale, созданный ранее"
   ]
  },
  {
   "cell_type": "markdown",
   "id": "b3bac5bd",
   "metadata": {},
   "source": [
    "> Другие модели можно точно также сохранять в файл и загружать из файла"
   ]
  },
  {
   "cell_type": "markdown",
   "id": "a60436ff",
   "metadata": {},
   "source": [
    " #### Приступим к построению модели SVC ( Support Vector Cliassifire )"
   ]
  },
  {
   "cell_type": "code",
   "execution_count": null,
   "id": "5fa1907f",
   "metadata": {},
   "outputs": [],
   "source": [
    "clf = SVC() # объект с помощью которого мы будем производить класификацию"
   ]
  },
  {
   "cell_type": "code",
   "execution_count": null,
   "id": "ec54eb22",
   "metadata": {},
   "outputs": [],
   "source": [
    "clf.fit(x_train, y_train) # применим метод fit к тренировочным данным"
   ]
  },
  {
   "cell_type": "code",
   "execution_count": null,
   "id": "1cd372cf",
   "metadata": {},
   "outputs": [],
   "source": [
    "y_pred = clf.predict(x_valid) # Сделаем предсказания на валидационных данных"
   ]
  },
  {
   "cell_type": "markdown",
   "id": "0f2dba30",
   "metadata": {},
   "source": [
    "Также чтобы не было переобучения, сделаем прдесказания на основе тренировочных данных"
   ]
  },
  {
   "cell_type": "code",
   "execution_count": null,
   "id": "70eb0bef",
   "metadata": {},
   "outputs": [],
   "source": [
    "y_pred_train = clf.predict(x_train)"
   ]
  },
  {
   "cell_type": "markdown",
   "id": "ebcfc8ba",
   "metadata": {},
   "source": [
    "#### Оценим Accuracy ( точность )"
   ]
  },
  {
   "cell_type": "code",
   "execution_count": null,
   "id": "6404d75b",
   "metadata": {},
   "outputs": [],
   "source": [
    "from sklearn.metrics import accuracy_score"
   ]
  },
  {
   "cell_type": "code",
   "execution_count": null,
   "id": "5f3ec54d",
   "metadata": {},
   "outputs": [],
   "source": [
    "accuracy_score(y_valid, y_pred)"
   ]
  },
  {
   "cell_type": "code",
   "execution_count": null,
   "id": "689e62e4",
   "metadata": {},
   "outputs": [],
   "source": [
    "accuracy_score(y_train, y_pred_train)"
   ]
  },
  {
   "cell_type": "markdown",
   "id": "06b7cdf3",
   "metadata": {},
   "source": [
    "Мы получили более низкий показатель accuracy чем на предущем уроке когда использовали логистическую регрессию"
   ]
  },
  {
   "cell_type": "code",
   "execution_count": null,
   "id": "3bca3b9a",
   "metadata": {},
   "outputs": [],
   "source": [
    "log_reress_acuuracy_valid"
   ]
  },
  {
   "cell_type": "code",
   "execution_count": null,
   "id": "cf4c884b",
   "metadata": {},
   "outputs": [],
   "source": [
    "log_reress_acuuracy_train"
   ]
  },
  {
   "cell_type": "markdown",
   "id": "f70b6e8a",
   "metadata": {},
   "source": [
    "#### Тюнинг модели SVC ( Support Vector Cliassifire )"
   ]
  },
  {
   "cell_type": "code",
   "execution_count": null,
   "id": "5bc174dd",
   "metadata": {},
   "outputs": [],
   "source": [
    "c_vals = np.logspace(-2,5,29)"
   ]
  },
  {
   "cell_type": "code",
   "execution_count": null,
   "id": "29609928",
   "metadata": {},
   "outputs": [],
   "source": [
    "c_vals"
   ]
  },
  {
   "cell_type": "markdown",
   "id": "018ef9ea",
   "metadata": {},
   "source": [
    "До этого модель SVC мы использовали с дефолтными параметрами, проведем тонкую настройку параметра C по умолчанию = 1"
   ]
  },
  {
   "cell_type": "markdown",
   "id": "94c7c2b2",
   "metadata": {},
   "source": [
    "> Параметр C - шрафует за ошибку классификации"
   ]
  },
  {
   "cell_type": "markdown",
   "id": "bab285bd",
   "metadata": {},
   "source": [
    "Создадим несколько значений параметра C, возьмем 29 значений из списка степеней 10ти от -2 до 5"
   ]
  },
  {
   "cell_type": "code",
   "execution_count": null,
   "id": "0f5b42be",
   "metadata": {},
   "outputs": [],
   "source": [
    "c_vals = np.logspace(-2,5,29)"
   ]
  },
  {
   "cell_type": "markdown",
   "id": "1b6caba8",
   "metadata": {},
   "source": [
    "модель SVC будет запускаться 29 с разными значениями С, параддедьно будем собирать данные для графика"
   ]
  },
  {
   "cell_type": "code",
   "execution_count": null,
   "id": "488a8cf4",
   "metadata": {},
   "outputs": [],
   "source": [
    "accuracy_valid = []\n",
    "accuracy_train = []\n",
    "for val in c_vals:\n",
    "    clf = SVC(C=val)\n",
    "    clf.fit(x_train, y_train)\n",
    "    y_pred = clf.predict(x_valid)\n",
    "    y_pred_train = clf.predict(x_train)\n",
    "    acc_valid = accuracy_score(y_valid, y_pred)\n",
    "    acc_train = accuracy_score(y_train, y_pred_train)\n",
    "    accuracy_valid.append(acc_valid)\n",
    "    accuracy_train.append(acc_train)\n",
    "    print(f'C = {val}\\n\\tacc_valid = {acc_valid}\\n\\tacc_train = {acc_train}')\n",
    "    "
   ]
  },
  {
   "cell_type": "code",
   "execution_count": null,
   "id": "44b452fd",
   "metadata": {},
   "outputs": [],
   "source": [
    "import matplotlib.pyplot as plt"
   ]
  },
  {
   "cell_type": "code",
   "execution_count": null,
   "id": "62a0c836",
   "metadata": {},
   "outputs": [],
   "source": [
    "%config InlineBackend.figure_format = 'svg'\n",
    "%matplotlib inline"
   ]
  },
  {
   "cell_type": "code",
   "execution_count": null,
   "id": "3ed51c94",
   "metadata": {},
   "outputs": [],
   "source": [
    "plt.plot(c_vals, accuracy_valid)\n",
    "plt.plot(c_vals, accuracy_train)\n",
    "plt.xlabel('Значение параметра С')\n",
    "plt.ylabel(\"Accurancy\")\n",
    "plt.legend(['valid', 'train'])"
   ]
  },
  {
   "cell_type": "markdown",
   "id": "443d83fc",
   "metadata": {},
   "source": [
    "Accuracy на тренировочных данных растет, а на валидационных данных сначала растет и на определенном значении начинает падать. <br>\n",
    "В итоге видим что максмальное значение accuracy достигнуто примерно в райно значений от 500 до 1000"
   ]
  },
  {
   "cell_type": "markdown",
   "id": "158fc70c",
   "metadata": {},
   "source": [
    "# <span style=\"color:blue\">Обучение с учителем Scikit-Learn\n",
    "\n",
    "# <span style=\"color:blue\">KNN ( k-nearest neighbors или К - ближайших соседей )  </span>"
   ]
  },
  {
   "cell_type": "markdown",
   "id": "ae0a4763",
   "metadata": {},
   "source": [
    "> Считается одним из самых простых для понимания методов в машинном обучении"
   ]
  },
  {
   "cell_type": "markdown",
   "id": "e18fff51",
   "metadata": {},
   "source": [
    "Если представить кадый объект который мы хотим классифицировать или решить для него задачу регрессии как точку в пространстве признаков, то можно предположить что целевая переменная этой точки будет близка по значения к целевой переменной соседних точек и если целевая переменная соседних точек известна можно приблизительно вычислить её и для данного объекта, применив что-то наподобии усреднения, такой принцип используется в объектах KNeighborsRegression и KNeighborsClassifaer, с помощью которых можно решать вопросы регресси и классификации"
   ]
  },
  {
   "cell_type": "markdown",
   "id": "98a5c74b",
   "metadata": {},
   "source": [
    "#### Разберем классификацию с помощью класса KNeighbrosClassifier"
   ]
  },
  {
   "cell_type": "code",
   "execution_count": null,
   "id": "263eec16",
   "metadata": {},
   "outputs": [],
   "source": [
    "import pandas as pd\n",
    "import numpy as np\n",
    "from sklearn.metrics import accuracy_score\n",
    "import matplotlib.pyplot as plt\n",
    "from pylab import rcParams\n",
    "\n",
    "%config InlineBackend.figure_format = 'svg'\n",
    "%matplotlib inline"
   ]
  },
  {
   "cell_type": "code",
   "execution_count": null,
   "id": "8466a44e",
   "metadata": {},
   "outputs": [],
   "source": [
    "from sklearn.neighbors import KNeighborsClassifier"
   ]
  },
  {
   "cell_type": "code",
   "execution_count": null,
   "id": "5abece2d",
   "metadata": {},
   "outputs": [],
   "source": [
    "x_train = pd.read_pickle('x_train.pkl')\n",
    "y_train = pd.read_pickle('y_train.pkl')"
   ]
  },
  {
   "cell_type": "code",
   "execution_count": null,
   "id": "f460d90b",
   "metadata": {},
   "outputs": [],
   "source": [
    "x_valid = pd.read_pickle('x_valid.pkl')\n",
    "y_valid = pd.read_pickle('y_valid.pkl')"
   ]
  },
  {
   "cell_type": "markdown",
   "id": "2898b386",
   "metadata": {},
   "source": [
    "Т.к. применяя KNN мы ищем соседние точки, то важно чтобы мы предварительно отмасштабирвали признаки, чтобы каждый признак вносил соизмеримый вклад в расстояние между точками"
   ]
  },
  {
   "cell_type": "markdown",
   "id": "38fc8286",
   "metadata": {},
   "source": [
    "#### Масштабирование признаков с использование RbustScaler"
   ]
  },
  {
   "cell_type": "code",
   "execution_count": null,
   "id": "77152707",
   "metadata": {},
   "outputs": [],
   "source": [
    "from sklearn.preprocessing import RobustScaler"
   ]
  },
  {
   "cell_type": "markdown",
   "id": "e846bb9a",
   "metadata": {},
   "source": [
    "Создадим список столбцов нуждающихся в масштабировании"
   ]
  },
  {
   "cell_type": "code",
   "execution_count": null,
   "id": "3f9c016a",
   "metadata": {},
   "outputs": [],
   "source": [
    "cols_for_scale = ['Age', 'SibSp', 'Parch', 'Fare']"
   ]
  },
  {
   "cell_type": "code",
   "execution_count": null,
   "id": "79ee5ff7",
   "metadata": {},
   "outputs": [],
   "source": [
    "scaler = RobustScaler()"
   ]
  },
  {
   "cell_type": "code",
   "execution_count": null,
   "id": "a440b5ce",
   "metadata": {},
   "outputs": [],
   "source": [
    "x_train[cols_for_scale] = scaler.fit_transform(x_train[cols_for_scale])"
   ]
  },
  {
   "cell_type": "markdown",
   "id": "23878de9",
   "metadata": {},
   "source": [
    "RobustScaler масштабирует признаки минимизируя влияние выбросов в данных, это достигается за счет того, что при масштабировании применяется медиана по данному признаку и интерквартильный размах, т.е. расстояние между первой и третей квртилью. <br>\n",
    "- первая квартиль - это значение признака такое, что если взять все объекты из выборки с меньшим значением, то это будет 25% выборки\n",
    "- третья квартиль - это значение признака такое что все объекты ниже этого значнеия это 75% выборки <br>\n",
    "<br>\n",
    "Таким образом у 55% всей выборки значение признака находиться между первой и третьей квартилями"
   ]
  },
  {
   "cell_type": "code",
   "execution_count": null,
   "id": "70442278",
   "metadata": {},
   "outputs": [],
   "source": [
    "x_train.describe()"
   ]
  },
  {
   "cell_type": "markdown",
   "id": "95356973",
   "metadata": {},
   "source": [
    "#### Классификация c помошью KNN"
   ]
  },
  {
   "cell_type": "markdown",
   "id": "ad9c51ff",
   "metadata": {},
   "source": [
    "Основной параметр KNN без настройки которого не обойтись - это n_neighbors - кол-во соседей по умолчанию = 5, кол-во соседей должно быть обязательно целым числом. Чем меньше соседей мы берем тем вероятнее переобучение и наоборот при увеличении числа соседей вычисление целевой переменной будет тяготеть к среднему по выборке"
   ]
  },
  {
   "cell_type": "code",
   "execution_count": null,
   "id": "bdc405c6",
   "metadata": {},
   "outputs": [],
   "source": [
    "k_vals = np.arange(2,10) # от 2 до 10 не включительно"
   ]
  },
  {
   "cell_type": "code",
   "execution_count": null,
   "id": "ea6a09be",
   "metadata": {},
   "outputs": [],
   "source": [
    "k_vals"
   ]
  },
  {
   "cell_type": "code",
   "execution_count": null,
   "id": "0146ec91",
   "metadata": {},
   "outputs": [],
   "source": [
    "accuracy_valid = []\n",
    "accuracy_train = []\n",
    "for val in k_vals:\n",
    "    clf = KNeighborsClassifier(n_neighbors=val)\n",
    "    clf.fit(x_train, y_train)\n",
    "    y_pred = clf.predict(x_valid)\n",
    "    y_pred_train = clf.predict(x_train)\n",
    "    acc_valid = accuracy_score(y_valid, y_pred)\n",
    "    acc_train = accuracy_score(y_train, y_pred_train)\n",
    "    accuracy_valid.append(acc_valid)\n",
    "    accuracy_train.append(acc_train)\n",
    "    print(f'n_neighbros = {val}\\n\\tacc_valid = {acc_valid}\\n\\tacc_train = {acc_train}')\n",
    "    "
   ]
  },
  {
   "cell_type": "code",
   "execution_count": null,
   "id": "74280e55",
   "metadata": {},
   "outputs": [],
   "source": [
    "type(accuracy_train)\n",
    "len(accuracy_train)"
   ]
  },
  {
   "cell_type": "code",
   "execution_count": null,
   "id": "3a13a3d5",
   "metadata": {},
   "outputs": [],
   "source": [
    "len(accuracy_valid)"
   ]
  },
  {
   "cell_type": "code",
   "execution_count": null,
   "id": "74348959",
   "metadata": {},
   "outputs": [],
   "source": [
    "plt.plot(k_vals, accuracy_valid)\n",
    "plt.plot(k_vals, accuracy_train)\n",
    "plt.xlabel('n_neighbors')\n",
    "plt.ylabel('accurancy')\n",
    "plt.legend(['valid', 'train'])"
   ]
  },
  {
   "cell_type": "markdown",
   "id": "3b70dcac",
   "metadata": {},
   "source": [
    "Судя по графику на валидационных данных наибольшее значение accuracy наблюдается на значении соседей равного 4ем"
   ]
  },
  {
   "cell_type": "markdown",
   "id": "4b0f5424",
   "metadata": {},
   "source": [
    "Построим модель еще раз на лучем кол-ве соседей"
   ]
  },
  {
   "cell_type": "code",
   "execution_count": null,
   "id": "4ffb8233",
   "metadata": {},
   "outputs": [],
   "source": [
    "clf = KNeighborsClassifier(n_neighbors=4)\n",
    "clf.fit(x_train, y_train)\n",
    "y_pred = clf.predict(x_valid)"
   ]
  },
  {
   "cell_type": "code",
   "execution_count": null,
   "id": "26d2f8ec",
   "metadata": {},
   "outputs": [],
   "source": [
    "accuracy_score(y_valid, y_pred)"
   ]
  },
  {
   "cell_type": "code",
   "execution_count": null,
   "id": "5628fc78",
   "metadata": {},
   "outputs": [],
   "source": [
    "log_reress_acuuracy_valid"
   ]
  },
  {
   "cell_type": "markdown",
   "id": "c10c3c56",
   "metadata": {},
   "source": [
    "#### Точность и плотность"
   ]
  },
  {
   "cell_type": "code",
   "execution_count": null,
   "id": "80f988d3",
   "metadata": {},
   "outputs": [],
   "source": [
    "y_valid.value_counts(normalize=True)"
   ]
  },
  {
   "cell_type": "markdown",
   "id": "eba65d5a",
   "metadata": {},
   "source": [
    "Около 60% утонувших и около 40% выживших"
   ]
  },
  {
   "cell_type": "markdown",
   "id": "35025056",
   "metadata": {},
   "source": [
    "Импортируем матрицу ошибок"
   ]
  },
  {
   "cell_type": "code",
   "execution_count": null,
   "id": "3700159f",
   "metadata": {},
   "outputs": [],
   "source": [
    "from sklearn.metrics import confusion_matrix"
   ]
  },
  {
   "cell_type": "markdown",
   "id": "42214c91",
   "metadata": {},
   "source": [
    "Первый аргумент правильные данные, втором наше предсказание"
   ]
  },
  {
   "cell_type": "code",
   "execution_count": null,
   "id": "b909a941",
   "metadata": {},
   "outputs": [],
   "source": [
    "confusion_matrix(y_valid,y_pred)"
   ]
  },
  {
   "cell_type": "markdown",
   "id": "a038addc",
   "metadata": {},
   "source": [
    "Верхний левый угол: TrueNegative - это те случаи когда мы правильно предсказали 0"
   ]
  },
  {
   "cell_type": "code",
   "execution_count": null,
   "id": "e78ee5ee",
   "metadata": {},
   "outputs": [],
   "source": [
    "TN = ((y_valid == 0) & (y_pred == 0)).sum()\n",
    "TN"
   ]
  },
  {
   "cell_type": "markdown",
   "id": "6e6d5789",
   "metadata": {},
   "source": [
    "Врхний правый угол: False Positive - это те случаи когда мы предсказали 1 но оно оказалось неверным"
   ]
  },
  {
   "cell_type": "code",
   "execution_count": null,
   "id": "fdb8cf31",
   "metadata": {},
   "outputs": [],
   "source": [
    "FP = ((y_valid == 0) & (y_pred == 1)).sum()\n",
    "FP"
   ]
  },
  {
   "cell_type": "markdown",
   "id": "c790175b",
   "metadata": {},
   "source": [
    "Нижний левый угол: False Negative - когда предсказан 0 но это не верно"
   ]
  },
  {
   "cell_type": "code",
   "execution_count": null,
   "id": "7c95fa9c",
   "metadata": {},
   "outputs": [],
   "source": [
    "FN = ((y_valid == 1) & (y_pred == 0)).sum()\n",
    "FN"
   ]
  },
  {
   "cell_type": "markdown",
   "id": "722d34b2",
   "metadata": {},
   "source": [
    "Нижний левый угол: True Positive - те случаи когда мы предсказали что пасажир выжил и он действительно выжел"
   ]
  },
  {
   "cell_type": "code",
   "execution_count": null,
   "id": "51a2a096",
   "metadata": {},
   "outputs": [],
   "source": [
    "TP = ((y_valid == 1) & (y_pred == 1)).sum()\n",
    "TP"
   ]
  },
  {
   "cell_type": "code",
   "execution_count": null,
   "id": "65736b47",
   "metadata": {},
   "outputs": [],
   "source": [
    "# Можно нормализовать матрицу ошибок, тогда значения будут не обсолютные а в долях и в сумме они должны дать 1\n",
    "cm = confusion_matrix(y_valid, y_pred) / y_valid.shape[0]\n",
    "cm"
   ]
  },
  {
   "cell_type": "markdown",
   "id": "adfeb7c8",
   "metadata": {},
   "source": [
    "<b> ---- Точность </b>"
   ]
  },
  {
   "cell_type": "markdown",
   "id": "6bf3b709",
   "metadata": {},
   "source": [
    "Доля правильно угаданных выживших от всех тех кого мы предсказали выжившими"
   ]
  },
  {
   "cell_type": "code",
   "execution_count": null,
   "id": "b227b12c",
   "metadata": {},
   "outputs": [],
   "source": [
    "Precision = TP / (TP + FP)\n",
    "Precision"
   ]
  },
  {
   "cell_type": "code",
   "execution_count": null,
   "id": "c76e4f79",
   "metadata": {},
   "outputs": [],
   "source": [
    "from sklearn.metrics import precision_score"
   ]
  },
  {
   "cell_type": "code",
   "execution_count": null,
   "id": "1db724cc",
   "metadata": {},
   "outputs": [],
   "source": [
    "precision_score(y_valid, y_pred)"
   ]
  },
  {
   "cell_type": "markdown",
   "id": "f6599eef",
   "metadata": {},
   "source": [
    "<b> ---- Полнота </b>"
   ]
  },
  {
   "cell_type": "markdown",
   "id": "1daa8dce",
   "metadata": {},
   "source": [
    "Доля правильно угаданных выживших от тех кто действительно выжил"
   ]
  },
  {
   "cell_type": "code",
   "execution_count": null,
   "id": "8c014594",
   "metadata": {},
   "outputs": [],
   "source": [
    "Recall = TP / (TP + FN)\n",
    "Recall"
   ]
  },
  {
   "cell_type": "code",
   "execution_count": null,
   "id": "5340053f",
   "metadata": {},
   "outputs": [],
   "source": [
    "from sklearn.metrics import  recall_score\n",
    "recall_score(y_valid, y_pred)"
   ]
  },
  {
   "cell_type": "markdown",
   "id": "27119c2d",
   "metadata": {},
   "source": [
    "<b> ---- F1 Score </b>\n",
    "- Это метрика сочитающая в себе показателей точности и полноты, чем ближе к 1 тем точнее"
   ]
  },
  {
   "cell_type": "code",
   "execution_count": null,
   "id": "0f8458f1",
   "metadata": {},
   "outputs": [],
   "source": [
    "F1 = 2 * (Precision * Recall) / (Precision + Recall)\n",
    "F1"
   ]
  },
  {
   "cell_type": "code",
   "execution_count": null,
   "id": "bcc42e08",
   "metadata": {},
   "outputs": [],
   "source": [
    "from sklearn.metrics import f1_score\n",
    "f1_score(y_valid, y_pred)"
   ]
  },
  {
   "cell_type": "markdown",
   "id": "8f44f7e7",
   "metadata": {},
   "source": [
    "Метрика AUC ( Площадь под кривой )\n",
    "- "
   ]
  }
 ],
 "metadata": {
  "kernelspec": {
   "display_name": "Python 3",
   "language": "python",
   "name": "python3"
  },
  "language_info": {
   "codemirror_mode": {
    "name": "ipython",
    "version": 3
   },
   "file_extension": ".py",
   "mimetype": "text/x-python",
   "name": "python",
   "nbconvert_exporter": "python",
   "pygments_lexer": "ipython3",
   "version": "3.8.8"
  }
 },
 "nbformat": 4,
 "nbformat_minor": 5
}
