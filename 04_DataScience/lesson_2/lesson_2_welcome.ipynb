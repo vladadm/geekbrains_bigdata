{
 "cells": [
  {
   "cell_type": "code",
   "execution_count": 4,
   "id": "2ae2f447",
   "metadata": {},
   "outputs": [
    {
     "name": "stdout",
     "output_type": "stream",
     "text": [
      "Hello!!!\n"
     ]
    }
   ],
   "source": [
    "print('Hello!!!')"
   ]
  },
  {
   "cell_type": "code",
   "execution_count": 5,
   "id": "521d8834",
   "metadata": {},
   "outputs": [
    {
     "name": "stdout",
     "output_type": "stream",
     "text": [
      "total 8\r\n",
      "drwxr-xr-x  4 vladislav  staff  128 Sep 29 19:37 \u001b[34m.\u001b[m\u001b[m\r\n",
      "drwxr-xr-x  4 vladislav  staff  128 Sep 29 19:31 \u001b[34m..\u001b[m\u001b[m\r\n",
      "drwxr-xr-x  3 vladislav  staff   96 Sep 29 19:32 \u001b[34m.ipynb_checkpoints\u001b[m\u001b[m\r\n",
      "-rw-r--r--  1 vladislav  staff  846 Sep 29 19:37 lesson_2.ipynb\r\n"
     ]
    }
   ],
   "source": [
    "!ls -la"
   ]
  },
  {
   "cell_type": "code",
   "execution_count": 6,
   "id": "fc7143bd",
   "metadata": {},
   "outputs": [
    {
     "name": "stdout",
     "output_type": "stream",
     "text": [
      "/Users/vladislav/GeekBrains/04_DataScience/lesson_2\r\n"
     ]
    }
   ],
   "source": [
    "!pwd"
   ]
  },
  {
   "cell_type": "code",
   "execution_count": 8,
   "id": "f146a613",
   "metadata": {},
   "outputs": [
    {
     "name": "stdout",
     "output_type": "stream",
     "text": [
      "Hello, world\n"
     ]
    }
   ],
   "source": [
    "%run script_01.py"
   ]
  },
  {
   "cell_type": "code",
   "execution_count": null,
   "id": "6f6cfd70",
   "metadata": {},
   "outputs": [],
   "source": [
    "# %load script_01.py\n",
    "#!python3\n",
    "\n",
    "def println(string):\n",
    "  print(string)\n",
    "\n",
    "\n",
    "println('Hello, world')\n",
    "  \n"
   ]
  },
  {
   "cell_type": "code",
   "execution_count": 11,
   "id": "69a406d7",
   "metadata": {},
   "outputs": [],
   "source": [
    "%pycat script_01.py"
   ]
  },
  {
   "cell_type": "code",
   "execution_count": null,
   "id": "08a04742",
   "metadata": {},
   "outputs": [],
   "source": []
  }
 ],
 "metadata": {
  "kernelspec": {
   "display_name": "Python 3",
   "language": "python",
   "name": "python3"
  },
  "language_info": {
   "codemirror_mode": {
    "name": "ipython",
    "version": 3
   },
   "file_extension": ".py",
   "mimetype": "text/x-python",
   "name": "python",
   "nbconvert_exporter": "python",
   "pygments_lexer": "ipython3",
   "version": "3.8.8"
  }
 },
 "nbformat": 4,
 "nbformat_minor": 5
}
